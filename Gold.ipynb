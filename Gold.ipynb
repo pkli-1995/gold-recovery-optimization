{
 "cells": [
  {
   "cell_type": "markdown",
   "metadata": {},
   "source": [
    "## Prepare the Data"
   ]
  },
  {
   "cell_type": "code",
   "execution_count": 1,
   "metadata": {},
   "outputs": [],
   "source": [
    "import pandas as pd\n",
    "import numpy as np\n",
    "import matplotlib.pyplot as plt\n",
    "import seaborn as sns\n",
    "from sklearn.linear_model import LogisticRegression\n",
    "from sklearn.metrics import mean_absolute_error"
   ]
  },
  {
   "cell_type": "code",
   "execution_count": 2,
   "metadata": {},
   "outputs": [],
   "source": [
    "train = pd.read_csv('/datasets/gold_recovery_train.csv')\n",
    "test = pd.read_csv('/datasets/gold_recovery_test.csv')\n",
    "data = pd.read_csv('/datasets/gold_recovery_full.csv')"
   ]
  },
  {
   "cell_type": "code",
   "execution_count": 3,
   "metadata": {},
   "outputs": [
    {
     "data": {
      "text/html": [
       "<div>\n",
       "<style scoped>\n",
       "    .dataframe tbody tr th:only-of-type {\n",
       "        vertical-align: middle;\n",
       "    }\n",
       "\n",
       "    .dataframe tbody tr th {\n",
       "        vertical-align: top;\n",
       "    }\n",
       "\n",
       "    .dataframe thead th {\n",
       "        text-align: right;\n",
       "    }\n",
       "</style>\n",
       "<table border=\"1\" class=\"dataframe\">\n",
       "  <thead>\n",
       "    <tr style=\"text-align: right;\">\n",
       "      <th></th>\n",
       "      <th>date</th>\n",
       "      <th>final.output.concentrate_ag</th>\n",
       "      <th>final.output.concentrate_pb</th>\n",
       "      <th>final.output.concentrate_sol</th>\n",
       "      <th>final.output.concentrate_au</th>\n",
       "      <th>final.output.recovery</th>\n",
       "      <th>final.output.tail_ag</th>\n",
       "      <th>final.output.tail_pb</th>\n",
       "      <th>final.output.tail_sol</th>\n",
       "      <th>final.output.tail_au</th>\n",
       "      <th>...</th>\n",
       "      <th>secondary_cleaner.state.floatbank4_a_air</th>\n",
       "      <th>secondary_cleaner.state.floatbank4_a_level</th>\n",
       "      <th>secondary_cleaner.state.floatbank4_b_air</th>\n",
       "      <th>secondary_cleaner.state.floatbank4_b_level</th>\n",
       "      <th>secondary_cleaner.state.floatbank5_a_air</th>\n",
       "      <th>secondary_cleaner.state.floatbank5_a_level</th>\n",
       "      <th>secondary_cleaner.state.floatbank5_b_air</th>\n",
       "      <th>secondary_cleaner.state.floatbank5_b_level</th>\n",
       "      <th>secondary_cleaner.state.floatbank6_a_air</th>\n",
       "      <th>secondary_cleaner.state.floatbank6_a_level</th>\n",
       "    </tr>\n",
       "  </thead>\n",
       "  <tbody>\n",
       "    <tr>\n",
       "      <th>0</th>\n",
       "      <td>2016-01-15 00:00:00</td>\n",
       "      <td>6.055403</td>\n",
       "      <td>9.889648</td>\n",
       "      <td>5.507324</td>\n",
       "      <td>42.192020</td>\n",
       "      <td>70.541216</td>\n",
       "      <td>10.411962</td>\n",
       "      <td>0.895447</td>\n",
       "      <td>16.904297</td>\n",
       "      <td>2.143149</td>\n",
       "      <td>...</td>\n",
       "      <td>14.016835</td>\n",
       "      <td>-502.488007</td>\n",
       "      <td>12.099931</td>\n",
       "      <td>-504.715942</td>\n",
       "      <td>9.925633</td>\n",
       "      <td>-498.310211</td>\n",
       "      <td>8.079666</td>\n",
       "      <td>-500.470978</td>\n",
       "      <td>14.151341</td>\n",
       "      <td>-605.841980</td>\n",
       "    </tr>\n",
       "    <tr>\n",
       "      <th>1</th>\n",
       "      <td>2016-01-15 01:00:00</td>\n",
       "      <td>6.029369</td>\n",
       "      <td>9.968944</td>\n",
       "      <td>5.257781</td>\n",
       "      <td>42.701629</td>\n",
       "      <td>69.266198</td>\n",
       "      <td>10.462676</td>\n",
       "      <td>0.927452</td>\n",
       "      <td>16.634514</td>\n",
       "      <td>2.224930</td>\n",
       "      <td>...</td>\n",
       "      <td>13.992281</td>\n",
       "      <td>-505.503262</td>\n",
       "      <td>11.950531</td>\n",
       "      <td>-501.331529</td>\n",
       "      <td>10.039245</td>\n",
       "      <td>-500.169983</td>\n",
       "      <td>7.984757</td>\n",
       "      <td>-500.582168</td>\n",
       "      <td>13.998353</td>\n",
       "      <td>-599.787184</td>\n",
       "    </tr>\n",
       "    <tr>\n",
       "      <th>2</th>\n",
       "      <td>2016-01-15 02:00:00</td>\n",
       "      <td>6.055926</td>\n",
       "      <td>10.213995</td>\n",
       "      <td>5.383759</td>\n",
       "      <td>42.657501</td>\n",
       "      <td>68.116445</td>\n",
       "      <td>10.507046</td>\n",
       "      <td>0.953716</td>\n",
       "      <td>16.208849</td>\n",
       "      <td>2.257889</td>\n",
       "      <td>...</td>\n",
       "      <td>14.015015</td>\n",
       "      <td>-502.520901</td>\n",
       "      <td>11.912783</td>\n",
       "      <td>-501.133383</td>\n",
       "      <td>10.070913</td>\n",
       "      <td>-500.129135</td>\n",
       "      <td>8.013877</td>\n",
       "      <td>-500.517572</td>\n",
       "      <td>14.028663</td>\n",
       "      <td>-601.427363</td>\n",
       "    </tr>\n",
       "    <tr>\n",
       "      <th>3</th>\n",
       "      <td>2016-01-15 03:00:00</td>\n",
       "      <td>6.047977</td>\n",
       "      <td>9.977019</td>\n",
       "      <td>4.858634</td>\n",
       "      <td>42.689819</td>\n",
       "      <td>68.347543</td>\n",
       "      <td>10.422762</td>\n",
       "      <td>0.883763</td>\n",
       "      <td>16.532835</td>\n",
       "      <td>2.146849</td>\n",
       "      <td>...</td>\n",
       "      <td>14.036510</td>\n",
       "      <td>-500.857308</td>\n",
       "      <td>11.999550</td>\n",
       "      <td>-501.193686</td>\n",
       "      <td>9.970366</td>\n",
       "      <td>-499.201640</td>\n",
       "      <td>7.977324</td>\n",
       "      <td>-500.255908</td>\n",
       "      <td>14.005551</td>\n",
       "      <td>-599.996129</td>\n",
       "    </tr>\n",
       "    <tr>\n",
       "      <th>4</th>\n",
       "      <td>2016-01-15 04:00:00</td>\n",
       "      <td>6.148599</td>\n",
       "      <td>10.142511</td>\n",
       "      <td>4.939416</td>\n",
       "      <td>42.774141</td>\n",
       "      <td>66.927016</td>\n",
       "      <td>10.360302</td>\n",
       "      <td>0.792826</td>\n",
       "      <td>16.525686</td>\n",
       "      <td>2.055292</td>\n",
       "      <td>...</td>\n",
       "      <td>14.027298</td>\n",
       "      <td>-499.838632</td>\n",
       "      <td>11.953070</td>\n",
       "      <td>-501.053894</td>\n",
       "      <td>9.925709</td>\n",
       "      <td>-501.686727</td>\n",
       "      <td>7.894242</td>\n",
       "      <td>-500.356035</td>\n",
       "      <td>13.996647</td>\n",
       "      <td>-601.496691</td>\n",
       "    </tr>\n",
       "  </tbody>\n",
       "</table>\n",
       "<p>5 rows × 87 columns</p>\n",
       "</div>"
      ],
      "text/plain": [
       "                  date  final.output.concentrate_ag  \\\n",
       "0  2016-01-15 00:00:00                     6.055403   \n",
       "1  2016-01-15 01:00:00                     6.029369   \n",
       "2  2016-01-15 02:00:00                     6.055926   \n",
       "3  2016-01-15 03:00:00                     6.047977   \n",
       "4  2016-01-15 04:00:00                     6.148599   \n",
       "\n",
       "   final.output.concentrate_pb  final.output.concentrate_sol  \\\n",
       "0                     9.889648                      5.507324   \n",
       "1                     9.968944                      5.257781   \n",
       "2                    10.213995                      5.383759   \n",
       "3                     9.977019                      4.858634   \n",
       "4                    10.142511                      4.939416   \n",
       "\n",
       "   final.output.concentrate_au  final.output.recovery  final.output.tail_ag  \\\n",
       "0                    42.192020              70.541216             10.411962   \n",
       "1                    42.701629              69.266198             10.462676   \n",
       "2                    42.657501              68.116445             10.507046   \n",
       "3                    42.689819              68.347543             10.422762   \n",
       "4                    42.774141              66.927016             10.360302   \n",
       "\n",
       "   final.output.tail_pb  final.output.tail_sol  final.output.tail_au  ...  \\\n",
       "0              0.895447              16.904297              2.143149  ...   \n",
       "1              0.927452              16.634514              2.224930  ...   \n",
       "2              0.953716              16.208849              2.257889  ...   \n",
       "3              0.883763              16.532835              2.146849  ...   \n",
       "4              0.792826              16.525686              2.055292  ...   \n",
       "\n",
       "   secondary_cleaner.state.floatbank4_a_air  \\\n",
       "0                                 14.016835   \n",
       "1                                 13.992281   \n",
       "2                                 14.015015   \n",
       "3                                 14.036510   \n",
       "4                                 14.027298   \n",
       "\n",
       "   secondary_cleaner.state.floatbank4_a_level  \\\n",
       "0                                 -502.488007   \n",
       "1                                 -505.503262   \n",
       "2                                 -502.520901   \n",
       "3                                 -500.857308   \n",
       "4                                 -499.838632   \n",
       "\n",
       "   secondary_cleaner.state.floatbank4_b_air  \\\n",
       "0                                 12.099931   \n",
       "1                                 11.950531   \n",
       "2                                 11.912783   \n",
       "3                                 11.999550   \n",
       "4                                 11.953070   \n",
       "\n",
       "   secondary_cleaner.state.floatbank4_b_level  \\\n",
       "0                                 -504.715942   \n",
       "1                                 -501.331529   \n",
       "2                                 -501.133383   \n",
       "3                                 -501.193686   \n",
       "4                                 -501.053894   \n",
       "\n",
       "   secondary_cleaner.state.floatbank5_a_air  \\\n",
       "0                                  9.925633   \n",
       "1                                 10.039245   \n",
       "2                                 10.070913   \n",
       "3                                  9.970366   \n",
       "4                                  9.925709   \n",
       "\n",
       "   secondary_cleaner.state.floatbank5_a_level  \\\n",
       "0                                 -498.310211   \n",
       "1                                 -500.169983   \n",
       "2                                 -500.129135   \n",
       "3                                 -499.201640   \n",
       "4                                 -501.686727   \n",
       "\n",
       "   secondary_cleaner.state.floatbank5_b_air  \\\n",
       "0                                  8.079666   \n",
       "1                                  7.984757   \n",
       "2                                  8.013877   \n",
       "3                                  7.977324   \n",
       "4                                  7.894242   \n",
       "\n",
       "   secondary_cleaner.state.floatbank5_b_level  \\\n",
       "0                                 -500.470978   \n",
       "1                                 -500.582168   \n",
       "2                                 -500.517572   \n",
       "3                                 -500.255908   \n",
       "4                                 -500.356035   \n",
       "\n",
       "   secondary_cleaner.state.floatbank6_a_air  \\\n",
       "0                                 14.151341   \n",
       "1                                 13.998353   \n",
       "2                                 14.028663   \n",
       "3                                 14.005551   \n",
       "4                                 13.996647   \n",
       "\n",
       "   secondary_cleaner.state.floatbank6_a_level  \n",
       "0                                 -605.841980  \n",
       "1                                 -599.787184  \n",
       "2                                 -601.427363  \n",
       "3                                 -599.996129  \n",
       "4                                 -601.496691  \n",
       "\n",
       "[5 rows x 87 columns]"
      ]
     },
     "metadata": {},
     "output_type": "display_data"
    },
    {
     "data": {
      "text/html": [
       "<div>\n",
       "<style scoped>\n",
       "    .dataframe tbody tr th:only-of-type {\n",
       "        vertical-align: middle;\n",
       "    }\n",
       "\n",
       "    .dataframe tbody tr th {\n",
       "        vertical-align: top;\n",
       "    }\n",
       "\n",
       "    .dataframe thead th {\n",
       "        text-align: right;\n",
       "    }\n",
       "</style>\n",
       "<table border=\"1\" class=\"dataframe\">\n",
       "  <thead>\n",
       "    <tr style=\"text-align: right;\">\n",
       "      <th></th>\n",
       "      <th>date</th>\n",
       "      <th>primary_cleaner.input.sulfate</th>\n",
       "      <th>primary_cleaner.input.depressant</th>\n",
       "      <th>primary_cleaner.input.feed_size</th>\n",
       "      <th>primary_cleaner.input.xanthate</th>\n",
       "      <th>primary_cleaner.state.floatbank8_a_air</th>\n",
       "      <th>primary_cleaner.state.floatbank8_a_level</th>\n",
       "      <th>primary_cleaner.state.floatbank8_b_air</th>\n",
       "      <th>primary_cleaner.state.floatbank8_b_level</th>\n",
       "      <th>primary_cleaner.state.floatbank8_c_air</th>\n",
       "      <th>...</th>\n",
       "      <th>secondary_cleaner.state.floatbank4_a_air</th>\n",
       "      <th>secondary_cleaner.state.floatbank4_a_level</th>\n",
       "      <th>secondary_cleaner.state.floatbank4_b_air</th>\n",
       "      <th>secondary_cleaner.state.floatbank4_b_level</th>\n",
       "      <th>secondary_cleaner.state.floatbank5_a_air</th>\n",
       "      <th>secondary_cleaner.state.floatbank5_a_level</th>\n",
       "      <th>secondary_cleaner.state.floatbank5_b_air</th>\n",
       "      <th>secondary_cleaner.state.floatbank5_b_level</th>\n",
       "      <th>secondary_cleaner.state.floatbank6_a_air</th>\n",
       "      <th>secondary_cleaner.state.floatbank6_a_level</th>\n",
       "    </tr>\n",
       "  </thead>\n",
       "  <tbody>\n",
       "    <tr>\n",
       "      <th>0</th>\n",
       "      <td>2016-09-01 00:59:59</td>\n",
       "      <td>210.800909</td>\n",
       "      <td>14.993118</td>\n",
       "      <td>8.080000</td>\n",
       "      <td>1.005021</td>\n",
       "      <td>1398.981301</td>\n",
       "      <td>-500.225577</td>\n",
       "      <td>1399.144926</td>\n",
       "      <td>-499.919735</td>\n",
       "      <td>1400.102998</td>\n",
       "      <td>...</td>\n",
       "      <td>12.023554</td>\n",
       "      <td>-497.795834</td>\n",
       "      <td>8.016656</td>\n",
       "      <td>-501.289139</td>\n",
       "      <td>7.946562</td>\n",
       "      <td>-432.317850</td>\n",
       "      <td>4.872511</td>\n",
       "      <td>-500.037437</td>\n",
       "      <td>26.705889</td>\n",
       "      <td>-499.709414</td>\n",
       "    </tr>\n",
       "    <tr>\n",
       "      <th>1</th>\n",
       "      <td>2016-09-01 01:59:59</td>\n",
       "      <td>215.392455</td>\n",
       "      <td>14.987471</td>\n",
       "      <td>8.080000</td>\n",
       "      <td>0.990469</td>\n",
       "      <td>1398.777912</td>\n",
       "      <td>-500.057435</td>\n",
       "      <td>1398.055362</td>\n",
       "      <td>-499.778182</td>\n",
       "      <td>1396.151033</td>\n",
       "      <td>...</td>\n",
       "      <td>12.058140</td>\n",
       "      <td>-498.695773</td>\n",
       "      <td>8.130979</td>\n",
       "      <td>-499.634209</td>\n",
       "      <td>7.958270</td>\n",
       "      <td>-525.839648</td>\n",
       "      <td>4.878850</td>\n",
       "      <td>-500.162375</td>\n",
       "      <td>25.019940</td>\n",
       "      <td>-499.819438</td>\n",
       "    </tr>\n",
       "    <tr>\n",
       "      <th>2</th>\n",
       "      <td>2016-09-01 02:59:59</td>\n",
       "      <td>215.259946</td>\n",
       "      <td>12.884934</td>\n",
       "      <td>7.786667</td>\n",
       "      <td>0.996043</td>\n",
       "      <td>1398.493666</td>\n",
       "      <td>-500.868360</td>\n",
       "      <td>1398.860436</td>\n",
       "      <td>-499.764529</td>\n",
       "      <td>1398.075709</td>\n",
       "      <td>...</td>\n",
       "      <td>11.962366</td>\n",
       "      <td>-498.767484</td>\n",
       "      <td>8.096893</td>\n",
       "      <td>-500.827423</td>\n",
       "      <td>8.071056</td>\n",
       "      <td>-500.801673</td>\n",
       "      <td>4.905125</td>\n",
       "      <td>-499.828510</td>\n",
       "      <td>24.994862</td>\n",
       "      <td>-500.622559</td>\n",
       "    </tr>\n",
       "    <tr>\n",
       "      <th>3</th>\n",
       "      <td>2016-09-01 03:59:59</td>\n",
       "      <td>215.336236</td>\n",
       "      <td>12.006805</td>\n",
       "      <td>7.640000</td>\n",
       "      <td>0.863514</td>\n",
       "      <td>1399.618111</td>\n",
       "      <td>-498.863574</td>\n",
       "      <td>1397.440120</td>\n",
       "      <td>-499.211024</td>\n",
       "      <td>1400.129303</td>\n",
       "      <td>...</td>\n",
       "      <td>12.033091</td>\n",
       "      <td>-498.350935</td>\n",
       "      <td>8.074946</td>\n",
       "      <td>-499.474407</td>\n",
       "      <td>7.897085</td>\n",
       "      <td>-500.868509</td>\n",
       "      <td>4.931400</td>\n",
       "      <td>-499.963623</td>\n",
       "      <td>24.948919</td>\n",
       "      <td>-498.709987</td>\n",
       "    </tr>\n",
       "    <tr>\n",
       "      <th>4</th>\n",
       "      <td>2016-09-01 04:59:59</td>\n",
       "      <td>199.099327</td>\n",
       "      <td>10.682530</td>\n",
       "      <td>7.530000</td>\n",
       "      <td>0.805575</td>\n",
       "      <td>1401.268123</td>\n",
       "      <td>-500.808305</td>\n",
       "      <td>1398.128818</td>\n",
       "      <td>-499.504543</td>\n",
       "      <td>1402.172226</td>\n",
       "      <td>...</td>\n",
       "      <td>12.025367</td>\n",
       "      <td>-500.786497</td>\n",
       "      <td>8.054678</td>\n",
       "      <td>-500.397500</td>\n",
       "      <td>8.107890</td>\n",
       "      <td>-509.526725</td>\n",
       "      <td>4.957674</td>\n",
       "      <td>-500.360026</td>\n",
       "      <td>25.003331</td>\n",
       "      <td>-500.856333</td>\n",
       "    </tr>\n",
       "  </tbody>\n",
       "</table>\n",
       "<p>5 rows × 53 columns</p>\n",
       "</div>"
      ],
      "text/plain": [
       "                  date  primary_cleaner.input.sulfate  \\\n",
       "0  2016-09-01 00:59:59                     210.800909   \n",
       "1  2016-09-01 01:59:59                     215.392455   \n",
       "2  2016-09-01 02:59:59                     215.259946   \n",
       "3  2016-09-01 03:59:59                     215.336236   \n",
       "4  2016-09-01 04:59:59                     199.099327   \n",
       "\n",
       "   primary_cleaner.input.depressant  primary_cleaner.input.feed_size  \\\n",
       "0                         14.993118                         8.080000   \n",
       "1                         14.987471                         8.080000   \n",
       "2                         12.884934                         7.786667   \n",
       "3                         12.006805                         7.640000   \n",
       "4                         10.682530                         7.530000   \n",
       "\n",
       "   primary_cleaner.input.xanthate  primary_cleaner.state.floatbank8_a_air  \\\n",
       "0                        1.005021                             1398.981301   \n",
       "1                        0.990469                             1398.777912   \n",
       "2                        0.996043                             1398.493666   \n",
       "3                        0.863514                             1399.618111   \n",
       "4                        0.805575                             1401.268123   \n",
       "\n",
       "   primary_cleaner.state.floatbank8_a_level  \\\n",
       "0                               -500.225577   \n",
       "1                               -500.057435   \n",
       "2                               -500.868360   \n",
       "3                               -498.863574   \n",
       "4                               -500.808305   \n",
       "\n",
       "   primary_cleaner.state.floatbank8_b_air  \\\n",
       "0                             1399.144926   \n",
       "1                             1398.055362   \n",
       "2                             1398.860436   \n",
       "3                             1397.440120   \n",
       "4                             1398.128818   \n",
       "\n",
       "   primary_cleaner.state.floatbank8_b_level  \\\n",
       "0                               -499.919735   \n",
       "1                               -499.778182   \n",
       "2                               -499.764529   \n",
       "3                               -499.211024   \n",
       "4                               -499.504543   \n",
       "\n",
       "   primary_cleaner.state.floatbank8_c_air  ...  \\\n",
       "0                             1400.102998  ...   \n",
       "1                             1396.151033  ...   \n",
       "2                             1398.075709  ...   \n",
       "3                             1400.129303  ...   \n",
       "4                             1402.172226  ...   \n",
       "\n",
       "   secondary_cleaner.state.floatbank4_a_air  \\\n",
       "0                                 12.023554   \n",
       "1                                 12.058140   \n",
       "2                                 11.962366   \n",
       "3                                 12.033091   \n",
       "4                                 12.025367   \n",
       "\n",
       "   secondary_cleaner.state.floatbank4_a_level  \\\n",
       "0                                 -497.795834   \n",
       "1                                 -498.695773   \n",
       "2                                 -498.767484   \n",
       "3                                 -498.350935   \n",
       "4                                 -500.786497   \n",
       "\n",
       "   secondary_cleaner.state.floatbank4_b_air  \\\n",
       "0                                  8.016656   \n",
       "1                                  8.130979   \n",
       "2                                  8.096893   \n",
       "3                                  8.074946   \n",
       "4                                  8.054678   \n",
       "\n",
       "   secondary_cleaner.state.floatbank4_b_level  \\\n",
       "0                                 -501.289139   \n",
       "1                                 -499.634209   \n",
       "2                                 -500.827423   \n",
       "3                                 -499.474407   \n",
       "4                                 -500.397500   \n",
       "\n",
       "   secondary_cleaner.state.floatbank5_a_air  \\\n",
       "0                                  7.946562   \n",
       "1                                  7.958270   \n",
       "2                                  8.071056   \n",
       "3                                  7.897085   \n",
       "4                                  8.107890   \n",
       "\n",
       "   secondary_cleaner.state.floatbank5_a_level  \\\n",
       "0                                 -432.317850   \n",
       "1                                 -525.839648   \n",
       "2                                 -500.801673   \n",
       "3                                 -500.868509   \n",
       "4                                 -509.526725   \n",
       "\n",
       "   secondary_cleaner.state.floatbank5_b_air  \\\n",
       "0                                  4.872511   \n",
       "1                                  4.878850   \n",
       "2                                  4.905125   \n",
       "3                                  4.931400   \n",
       "4                                  4.957674   \n",
       "\n",
       "   secondary_cleaner.state.floatbank5_b_level  \\\n",
       "0                                 -500.037437   \n",
       "1                                 -500.162375   \n",
       "2                                 -499.828510   \n",
       "3                                 -499.963623   \n",
       "4                                 -500.360026   \n",
       "\n",
       "   secondary_cleaner.state.floatbank6_a_air  \\\n",
       "0                                 26.705889   \n",
       "1                                 25.019940   \n",
       "2                                 24.994862   \n",
       "3                                 24.948919   \n",
       "4                                 25.003331   \n",
       "\n",
       "   secondary_cleaner.state.floatbank6_a_level  \n",
       "0                                 -499.709414  \n",
       "1                                 -499.819438  \n",
       "2                                 -500.622559  \n",
       "3                                 -498.709987  \n",
       "4                                 -500.856333  \n",
       "\n",
       "[5 rows x 53 columns]"
      ]
     },
     "metadata": {},
     "output_type": "display_data"
    },
    {
     "data": {
      "text/html": [
       "<div>\n",
       "<style scoped>\n",
       "    .dataframe tbody tr th:only-of-type {\n",
       "        vertical-align: middle;\n",
       "    }\n",
       "\n",
       "    .dataframe tbody tr th {\n",
       "        vertical-align: top;\n",
       "    }\n",
       "\n",
       "    .dataframe thead th {\n",
       "        text-align: right;\n",
       "    }\n",
       "</style>\n",
       "<table border=\"1\" class=\"dataframe\">\n",
       "  <thead>\n",
       "    <tr style=\"text-align: right;\">\n",
       "      <th></th>\n",
       "      <th>date</th>\n",
       "      <th>final.output.concentrate_ag</th>\n",
       "      <th>final.output.concentrate_pb</th>\n",
       "      <th>final.output.concentrate_sol</th>\n",
       "      <th>final.output.concentrate_au</th>\n",
       "      <th>final.output.recovery</th>\n",
       "      <th>final.output.tail_ag</th>\n",
       "      <th>final.output.tail_pb</th>\n",
       "      <th>final.output.tail_sol</th>\n",
       "      <th>final.output.tail_au</th>\n",
       "      <th>...</th>\n",
       "      <th>secondary_cleaner.state.floatbank4_a_air</th>\n",
       "      <th>secondary_cleaner.state.floatbank4_a_level</th>\n",
       "      <th>secondary_cleaner.state.floatbank4_b_air</th>\n",
       "      <th>secondary_cleaner.state.floatbank4_b_level</th>\n",
       "      <th>secondary_cleaner.state.floatbank5_a_air</th>\n",
       "      <th>secondary_cleaner.state.floatbank5_a_level</th>\n",
       "      <th>secondary_cleaner.state.floatbank5_b_air</th>\n",
       "      <th>secondary_cleaner.state.floatbank5_b_level</th>\n",
       "      <th>secondary_cleaner.state.floatbank6_a_air</th>\n",
       "      <th>secondary_cleaner.state.floatbank6_a_level</th>\n",
       "    </tr>\n",
       "  </thead>\n",
       "  <tbody>\n",
       "    <tr>\n",
       "      <th>0</th>\n",
       "      <td>2016-01-15 00:00:00</td>\n",
       "      <td>6.055403</td>\n",
       "      <td>9.889648</td>\n",
       "      <td>5.507324</td>\n",
       "      <td>42.192020</td>\n",
       "      <td>70.541216</td>\n",
       "      <td>10.411962</td>\n",
       "      <td>0.895447</td>\n",
       "      <td>16.904297</td>\n",
       "      <td>2.143149</td>\n",
       "      <td>...</td>\n",
       "      <td>14.016835</td>\n",
       "      <td>-502.488007</td>\n",
       "      <td>12.099931</td>\n",
       "      <td>-504.715942</td>\n",
       "      <td>9.925633</td>\n",
       "      <td>-498.310211</td>\n",
       "      <td>8.079666</td>\n",
       "      <td>-500.470978</td>\n",
       "      <td>14.151341</td>\n",
       "      <td>-605.841980</td>\n",
       "    </tr>\n",
       "    <tr>\n",
       "      <th>1</th>\n",
       "      <td>2016-01-15 01:00:00</td>\n",
       "      <td>6.029369</td>\n",
       "      <td>9.968944</td>\n",
       "      <td>5.257781</td>\n",
       "      <td>42.701629</td>\n",
       "      <td>69.266198</td>\n",
       "      <td>10.462676</td>\n",
       "      <td>0.927452</td>\n",
       "      <td>16.634514</td>\n",
       "      <td>2.224930</td>\n",
       "      <td>...</td>\n",
       "      <td>13.992281</td>\n",
       "      <td>-505.503262</td>\n",
       "      <td>11.950531</td>\n",
       "      <td>-501.331529</td>\n",
       "      <td>10.039245</td>\n",
       "      <td>-500.169983</td>\n",
       "      <td>7.984757</td>\n",
       "      <td>-500.582168</td>\n",
       "      <td>13.998353</td>\n",
       "      <td>-599.787184</td>\n",
       "    </tr>\n",
       "    <tr>\n",
       "      <th>2</th>\n",
       "      <td>2016-01-15 02:00:00</td>\n",
       "      <td>6.055926</td>\n",
       "      <td>10.213995</td>\n",
       "      <td>5.383759</td>\n",
       "      <td>42.657501</td>\n",
       "      <td>68.116445</td>\n",
       "      <td>10.507046</td>\n",
       "      <td>0.953716</td>\n",
       "      <td>16.208849</td>\n",
       "      <td>2.257889</td>\n",
       "      <td>...</td>\n",
       "      <td>14.015015</td>\n",
       "      <td>-502.520901</td>\n",
       "      <td>11.912783</td>\n",
       "      <td>-501.133383</td>\n",
       "      <td>10.070913</td>\n",
       "      <td>-500.129135</td>\n",
       "      <td>8.013877</td>\n",
       "      <td>-500.517572</td>\n",
       "      <td>14.028663</td>\n",
       "      <td>-601.427363</td>\n",
       "    </tr>\n",
       "    <tr>\n",
       "      <th>3</th>\n",
       "      <td>2016-01-15 03:00:00</td>\n",
       "      <td>6.047977</td>\n",
       "      <td>9.977019</td>\n",
       "      <td>4.858634</td>\n",
       "      <td>42.689819</td>\n",
       "      <td>68.347543</td>\n",
       "      <td>10.422762</td>\n",
       "      <td>0.883763</td>\n",
       "      <td>16.532835</td>\n",
       "      <td>2.146849</td>\n",
       "      <td>...</td>\n",
       "      <td>14.036510</td>\n",
       "      <td>-500.857308</td>\n",
       "      <td>11.999550</td>\n",
       "      <td>-501.193686</td>\n",
       "      <td>9.970366</td>\n",
       "      <td>-499.201640</td>\n",
       "      <td>7.977324</td>\n",
       "      <td>-500.255908</td>\n",
       "      <td>14.005551</td>\n",
       "      <td>-599.996129</td>\n",
       "    </tr>\n",
       "    <tr>\n",
       "      <th>4</th>\n",
       "      <td>2016-01-15 04:00:00</td>\n",
       "      <td>6.148599</td>\n",
       "      <td>10.142511</td>\n",
       "      <td>4.939416</td>\n",
       "      <td>42.774141</td>\n",
       "      <td>66.927016</td>\n",
       "      <td>10.360302</td>\n",
       "      <td>0.792826</td>\n",
       "      <td>16.525686</td>\n",
       "      <td>2.055292</td>\n",
       "      <td>...</td>\n",
       "      <td>14.027298</td>\n",
       "      <td>-499.838632</td>\n",
       "      <td>11.953070</td>\n",
       "      <td>-501.053894</td>\n",
       "      <td>9.925709</td>\n",
       "      <td>-501.686727</td>\n",
       "      <td>7.894242</td>\n",
       "      <td>-500.356035</td>\n",
       "      <td>13.996647</td>\n",
       "      <td>-601.496691</td>\n",
       "    </tr>\n",
       "  </tbody>\n",
       "</table>\n",
       "<p>5 rows × 87 columns</p>\n",
       "</div>"
      ],
      "text/plain": [
       "                  date  final.output.concentrate_ag  \\\n",
       "0  2016-01-15 00:00:00                     6.055403   \n",
       "1  2016-01-15 01:00:00                     6.029369   \n",
       "2  2016-01-15 02:00:00                     6.055926   \n",
       "3  2016-01-15 03:00:00                     6.047977   \n",
       "4  2016-01-15 04:00:00                     6.148599   \n",
       "\n",
       "   final.output.concentrate_pb  final.output.concentrate_sol  \\\n",
       "0                     9.889648                      5.507324   \n",
       "1                     9.968944                      5.257781   \n",
       "2                    10.213995                      5.383759   \n",
       "3                     9.977019                      4.858634   \n",
       "4                    10.142511                      4.939416   \n",
       "\n",
       "   final.output.concentrate_au  final.output.recovery  final.output.tail_ag  \\\n",
       "0                    42.192020              70.541216             10.411962   \n",
       "1                    42.701629              69.266198             10.462676   \n",
       "2                    42.657501              68.116445             10.507046   \n",
       "3                    42.689819              68.347543             10.422762   \n",
       "4                    42.774141              66.927016             10.360302   \n",
       "\n",
       "   final.output.tail_pb  final.output.tail_sol  final.output.tail_au  ...  \\\n",
       "0              0.895447              16.904297              2.143149  ...   \n",
       "1              0.927452              16.634514              2.224930  ...   \n",
       "2              0.953716              16.208849              2.257889  ...   \n",
       "3              0.883763              16.532835              2.146849  ...   \n",
       "4              0.792826              16.525686              2.055292  ...   \n",
       "\n",
       "   secondary_cleaner.state.floatbank4_a_air  \\\n",
       "0                                 14.016835   \n",
       "1                                 13.992281   \n",
       "2                                 14.015015   \n",
       "3                                 14.036510   \n",
       "4                                 14.027298   \n",
       "\n",
       "   secondary_cleaner.state.floatbank4_a_level  \\\n",
       "0                                 -502.488007   \n",
       "1                                 -505.503262   \n",
       "2                                 -502.520901   \n",
       "3                                 -500.857308   \n",
       "4                                 -499.838632   \n",
       "\n",
       "   secondary_cleaner.state.floatbank4_b_air  \\\n",
       "0                                 12.099931   \n",
       "1                                 11.950531   \n",
       "2                                 11.912783   \n",
       "3                                 11.999550   \n",
       "4                                 11.953070   \n",
       "\n",
       "   secondary_cleaner.state.floatbank4_b_level  \\\n",
       "0                                 -504.715942   \n",
       "1                                 -501.331529   \n",
       "2                                 -501.133383   \n",
       "3                                 -501.193686   \n",
       "4                                 -501.053894   \n",
       "\n",
       "   secondary_cleaner.state.floatbank5_a_air  \\\n",
       "0                                  9.925633   \n",
       "1                                 10.039245   \n",
       "2                                 10.070913   \n",
       "3                                  9.970366   \n",
       "4                                  9.925709   \n",
       "\n",
       "   secondary_cleaner.state.floatbank5_a_level  \\\n",
       "0                                 -498.310211   \n",
       "1                                 -500.169983   \n",
       "2                                 -500.129135   \n",
       "3                                 -499.201640   \n",
       "4                                 -501.686727   \n",
       "\n",
       "   secondary_cleaner.state.floatbank5_b_air  \\\n",
       "0                                  8.079666   \n",
       "1                                  7.984757   \n",
       "2                                  8.013877   \n",
       "3                                  7.977324   \n",
       "4                                  7.894242   \n",
       "\n",
       "   secondary_cleaner.state.floatbank5_b_level  \\\n",
       "0                                 -500.470978   \n",
       "1                                 -500.582168   \n",
       "2                                 -500.517572   \n",
       "3                                 -500.255908   \n",
       "4                                 -500.356035   \n",
       "\n",
       "   secondary_cleaner.state.floatbank6_a_air  \\\n",
       "0                                 14.151341   \n",
       "1                                 13.998353   \n",
       "2                                 14.028663   \n",
       "3                                 14.005551   \n",
       "4                                 13.996647   \n",
       "\n",
       "   secondary_cleaner.state.floatbank6_a_level  \n",
       "0                                 -605.841980  \n",
       "1                                 -599.787184  \n",
       "2                                 -601.427363  \n",
       "3                                 -599.996129  \n",
       "4                                 -601.496691  \n",
       "\n",
       "[5 rows x 87 columns]"
      ]
     },
     "metadata": {},
     "output_type": "display_data"
    }
   ],
   "source": [
    "display(train.head())\n",
    "display(test.head())\n",
    "display(data.head())"
   ]
  },
  {
   "cell_type": "code",
   "execution_count": 4,
   "metadata": {},
   "outputs": [
    {
     "data": {
      "text/html": [
       "<div>\n",
       "<style scoped>\n",
       "    .dataframe tbody tr th:only-of-type {\n",
       "        vertical-align: middle;\n",
       "    }\n",
       "\n",
       "    .dataframe tbody tr th {\n",
       "        vertical-align: top;\n",
       "    }\n",
       "\n",
       "    .dataframe thead th {\n",
       "        text-align: right;\n",
       "    }\n",
       "</style>\n",
       "<table border=\"1\" class=\"dataframe\">\n",
       "  <thead>\n",
       "    <tr style=\"text-align: right;\">\n",
       "      <th></th>\n",
       "      <th>final.output.concentrate_ag</th>\n",
       "      <th>final.output.concentrate_pb</th>\n",
       "      <th>final.output.concentrate_sol</th>\n",
       "      <th>final.output.concentrate_au</th>\n",
       "      <th>final.output.recovery</th>\n",
       "      <th>final.output.tail_ag</th>\n",
       "      <th>final.output.tail_pb</th>\n",
       "      <th>final.output.tail_sol</th>\n",
       "      <th>final.output.tail_au</th>\n",
       "      <th>primary_cleaner.input.sulfate</th>\n",
       "      <th>...</th>\n",
       "      <th>secondary_cleaner.state.floatbank4_a_air</th>\n",
       "      <th>secondary_cleaner.state.floatbank4_a_level</th>\n",
       "      <th>secondary_cleaner.state.floatbank4_b_air</th>\n",
       "      <th>secondary_cleaner.state.floatbank4_b_level</th>\n",
       "      <th>secondary_cleaner.state.floatbank5_a_air</th>\n",
       "      <th>secondary_cleaner.state.floatbank5_a_level</th>\n",
       "      <th>secondary_cleaner.state.floatbank5_b_air</th>\n",
       "      <th>secondary_cleaner.state.floatbank5_b_level</th>\n",
       "      <th>secondary_cleaner.state.floatbank6_a_air</th>\n",
       "      <th>secondary_cleaner.state.floatbank6_a_level</th>\n",
       "    </tr>\n",
       "  </thead>\n",
       "  <tbody>\n",
       "    <tr>\n",
       "      <th>count</th>\n",
       "      <td>16788.000000</td>\n",
       "      <td>16788.000000</td>\n",
       "      <td>16490.000000</td>\n",
       "      <td>16789.000000</td>\n",
       "      <td>15339.000000</td>\n",
       "      <td>16794.000000</td>\n",
       "      <td>16677.000000</td>\n",
       "      <td>16715.000000</td>\n",
       "      <td>16794.000000</td>\n",
       "      <td>15553.000000</td>\n",
       "      <td>...</td>\n",
       "      <td>16731.000000</td>\n",
       "      <td>16747.000000</td>\n",
       "      <td>16768.000000</td>\n",
       "      <td>16767.000000</td>\n",
       "      <td>16775.000000</td>\n",
       "      <td>16775.000000</td>\n",
       "      <td>16775.000000</td>\n",
       "      <td>16776.000000</td>\n",
       "      <td>16757.000000</td>\n",
       "      <td>16775.000000</td>\n",
       "    </tr>\n",
       "    <tr>\n",
       "      <th>mean</th>\n",
       "      <td>4.716907</td>\n",
       "      <td>9.113559</td>\n",
       "      <td>8.301123</td>\n",
       "      <td>39.467217</td>\n",
       "      <td>67.213166</td>\n",
       "      <td>8.757048</td>\n",
       "      <td>2.360327</td>\n",
       "      <td>9.303932</td>\n",
       "      <td>2.687512</td>\n",
       "      <td>129.479789</td>\n",
       "      <td>...</td>\n",
       "      <td>19.101874</td>\n",
       "      <td>-494.164481</td>\n",
       "      <td>14.778164</td>\n",
       "      <td>-476.600082</td>\n",
       "      <td>15.779488</td>\n",
       "      <td>-500.230146</td>\n",
       "      <td>12.377241</td>\n",
       "      <td>-498.956257</td>\n",
       "      <td>18.429208</td>\n",
       "      <td>-521.801826</td>\n",
       "    </tr>\n",
       "    <tr>\n",
       "      <th>std</th>\n",
       "      <td>2.096718</td>\n",
       "      <td>3.389495</td>\n",
       "      <td>3.825760</td>\n",
       "      <td>13.917227</td>\n",
       "      <td>11.960446</td>\n",
       "      <td>3.634103</td>\n",
       "      <td>1.215576</td>\n",
       "      <td>4.263208</td>\n",
       "      <td>1.272757</td>\n",
       "      <td>45.386931</td>\n",
       "      <td>...</td>\n",
       "      <td>6.883163</td>\n",
       "      <td>84.803334</td>\n",
       "      <td>5.999149</td>\n",
       "      <td>89.381172</td>\n",
       "      <td>6.834703</td>\n",
       "      <td>76.983542</td>\n",
       "      <td>6.219989</td>\n",
       "      <td>82.146207</td>\n",
       "      <td>6.958294</td>\n",
       "      <td>77.170888</td>\n",
       "    </tr>\n",
       "    <tr>\n",
       "      <th>min</th>\n",
       "      <td>0.000000</td>\n",
       "      <td>0.000000</td>\n",
       "      <td>0.000000</td>\n",
       "      <td>0.000000</td>\n",
       "      <td>0.000000</td>\n",
       "      <td>0.000000</td>\n",
       "      <td>0.000000</td>\n",
       "      <td>0.000000</td>\n",
       "      <td>0.000000</td>\n",
       "      <td>0.000003</td>\n",
       "      <td>...</td>\n",
       "      <td>0.000000</td>\n",
       "      <td>-799.920713</td>\n",
       "      <td>0.000000</td>\n",
       "      <td>-800.021781</td>\n",
       "      <td>-0.423260</td>\n",
       "      <td>-799.741097</td>\n",
       "      <td>0.427084</td>\n",
       "      <td>-800.258209</td>\n",
       "      <td>0.024270</td>\n",
       "      <td>-810.473526</td>\n",
       "    </tr>\n",
       "    <tr>\n",
       "      <th>25%</th>\n",
       "      <td>3.971262</td>\n",
       "      <td>8.825748</td>\n",
       "      <td>6.939185</td>\n",
       "      <td>42.055722</td>\n",
       "      <td>62.625685</td>\n",
       "      <td>7.610544</td>\n",
       "      <td>1.641604</td>\n",
       "      <td>7.870275</td>\n",
       "      <td>2.172953</td>\n",
       "      <td>103.064021</td>\n",
       "      <td>...</td>\n",
       "      <td>14.508299</td>\n",
       "      <td>-500.837689</td>\n",
       "      <td>10.741388</td>\n",
       "      <td>-500.269182</td>\n",
       "      <td>10.977713</td>\n",
       "      <td>-500.530594</td>\n",
       "      <td>8.925586</td>\n",
       "      <td>-500.147603</td>\n",
       "      <td>13.977626</td>\n",
       "      <td>-501.080595</td>\n",
       "    </tr>\n",
       "    <tr>\n",
       "      <th>50%</th>\n",
       "      <td>4.869346</td>\n",
       "      <td>10.065316</td>\n",
       "      <td>8.557228</td>\n",
       "      <td>44.498874</td>\n",
       "      <td>67.644601</td>\n",
       "      <td>9.220393</td>\n",
       "      <td>2.453690</td>\n",
       "      <td>10.021968</td>\n",
       "      <td>2.781132</td>\n",
       "      <td>131.783108</td>\n",
       "      <td>...</td>\n",
       "      <td>19.986958</td>\n",
       "      <td>-499.778379</td>\n",
       "      <td>14.943933</td>\n",
       "      <td>-499.593286</td>\n",
       "      <td>15.998340</td>\n",
       "      <td>-499.784231</td>\n",
       "      <td>11.092839</td>\n",
       "      <td>-499.933330</td>\n",
       "      <td>18.034960</td>\n",
       "      <td>-500.109898</td>\n",
       "    </tr>\n",
       "    <tr>\n",
       "      <th>75%</th>\n",
       "      <td>5.821176</td>\n",
       "      <td>11.054809</td>\n",
       "      <td>10.289741</td>\n",
       "      <td>45.976222</td>\n",
       "      <td>72.824595</td>\n",
       "      <td>10.971110</td>\n",
       "      <td>3.192404</td>\n",
       "      <td>11.648573</td>\n",
       "      <td>3.416936</td>\n",
       "      <td>159.539839</td>\n",
       "      <td>...</td>\n",
       "      <td>24.983961</td>\n",
       "      <td>-494.648754</td>\n",
       "      <td>20.023751</td>\n",
       "      <td>-400.137948</td>\n",
       "      <td>20.000701</td>\n",
       "      <td>-496.531781</td>\n",
       "      <td>15.979467</td>\n",
       "      <td>-498.418000</td>\n",
       "      <td>24.984992</td>\n",
       "      <td>-499.565540</td>\n",
       "    </tr>\n",
       "    <tr>\n",
       "      <th>max</th>\n",
       "      <td>16.001945</td>\n",
       "      <td>17.031899</td>\n",
       "      <td>18.124851</td>\n",
       "      <td>53.611374</td>\n",
       "      <td>100.000000</td>\n",
       "      <td>19.552149</td>\n",
       "      <td>6.086532</td>\n",
       "      <td>22.317730</td>\n",
       "      <td>9.789625</td>\n",
       "      <td>251.999948</td>\n",
       "      <td>...</td>\n",
       "      <td>60.000000</td>\n",
       "      <td>-127.692333</td>\n",
       "      <td>28.003828</td>\n",
       "      <td>-71.472472</td>\n",
       "      <td>63.116298</td>\n",
       "      <td>-275.073125</td>\n",
       "      <td>39.846228</td>\n",
       "      <td>-120.190931</td>\n",
       "      <td>54.876806</td>\n",
       "      <td>-39.784927</td>\n",
       "    </tr>\n",
       "  </tbody>\n",
       "</table>\n",
       "<p>8 rows × 86 columns</p>\n",
       "</div>"
      ],
      "text/plain": [
       "       final.output.concentrate_ag  final.output.concentrate_pb  \\\n",
       "count                 16788.000000                 16788.000000   \n",
       "mean                      4.716907                     9.113559   \n",
       "std                       2.096718                     3.389495   \n",
       "min                       0.000000                     0.000000   \n",
       "25%                       3.971262                     8.825748   \n",
       "50%                       4.869346                    10.065316   \n",
       "75%                       5.821176                    11.054809   \n",
       "max                      16.001945                    17.031899   \n",
       "\n",
       "       final.output.concentrate_sol  final.output.concentrate_au  \\\n",
       "count                  16490.000000                 16789.000000   \n",
       "mean                       8.301123                    39.467217   \n",
       "std                        3.825760                    13.917227   \n",
       "min                        0.000000                     0.000000   \n",
       "25%                        6.939185                    42.055722   \n",
       "50%                        8.557228                    44.498874   \n",
       "75%                       10.289741                    45.976222   \n",
       "max                       18.124851                    53.611374   \n",
       "\n",
       "       final.output.recovery  final.output.tail_ag  final.output.tail_pb  \\\n",
       "count           15339.000000          16794.000000          16677.000000   \n",
       "mean               67.213166              8.757048              2.360327   \n",
       "std                11.960446              3.634103              1.215576   \n",
       "min                 0.000000              0.000000              0.000000   \n",
       "25%                62.625685              7.610544              1.641604   \n",
       "50%                67.644601              9.220393              2.453690   \n",
       "75%                72.824595             10.971110              3.192404   \n",
       "max               100.000000             19.552149              6.086532   \n",
       "\n",
       "       final.output.tail_sol  final.output.tail_au  \\\n",
       "count           16715.000000          16794.000000   \n",
       "mean                9.303932              2.687512   \n",
       "std                 4.263208              1.272757   \n",
       "min                 0.000000              0.000000   \n",
       "25%                 7.870275              2.172953   \n",
       "50%                10.021968              2.781132   \n",
       "75%                11.648573              3.416936   \n",
       "max                22.317730              9.789625   \n",
       "\n",
       "       primary_cleaner.input.sulfate  ...  \\\n",
       "count                   15553.000000  ...   \n",
       "mean                      129.479789  ...   \n",
       "std                        45.386931  ...   \n",
       "min                         0.000003  ...   \n",
       "25%                       103.064021  ...   \n",
       "50%                       131.783108  ...   \n",
       "75%                       159.539839  ...   \n",
       "max                       251.999948  ...   \n",
       "\n",
       "       secondary_cleaner.state.floatbank4_a_air  \\\n",
       "count                              16731.000000   \n",
       "mean                                  19.101874   \n",
       "std                                    6.883163   \n",
       "min                                    0.000000   \n",
       "25%                                   14.508299   \n",
       "50%                                   19.986958   \n",
       "75%                                   24.983961   \n",
       "max                                   60.000000   \n",
       "\n",
       "       secondary_cleaner.state.floatbank4_a_level  \\\n",
       "count                                16747.000000   \n",
       "mean                                  -494.164481   \n",
       "std                                     84.803334   \n",
       "min                                   -799.920713   \n",
       "25%                                   -500.837689   \n",
       "50%                                   -499.778379   \n",
       "75%                                   -494.648754   \n",
       "max                                   -127.692333   \n",
       "\n",
       "       secondary_cleaner.state.floatbank4_b_air  \\\n",
       "count                              16768.000000   \n",
       "mean                                  14.778164   \n",
       "std                                    5.999149   \n",
       "min                                    0.000000   \n",
       "25%                                   10.741388   \n",
       "50%                                   14.943933   \n",
       "75%                                   20.023751   \n",
       "max                                   28.003828   \n",
       "\n",
       "       secondary_cleaner.state.floatbank4_b_level  \\\n",
       "count                                16767.000000   \n",
       "mean                                  -476.600082   \n",
       "std                                     89.381172   \n",
       "min                                   -800.021781   \n",
       "25%                                   -500.269182   \n",
       "50%                                   -499.593286   \n",
       "75%                                   -400.137948   \n",
       "max                                    -71.472472   \n",
       "\n",
       "       secondary_cleaner.state.floatbank5_a_air  \\\n",
       "count                              16775.000000   \n",
       "mean                                  15.779488   \n",
       "std                                    6.834703   \n",
       "min                                   -0.423260   \n",
       "25%                                   10.977713   \n",
       "50%                                   15.998340   \n",
       "75%                                   20.000701   \n",
       "max                                   63.116298   \n",
       "\n",
       "       secondary_cleaner.state.floatbank5_a_level  \\\n",
       "count                                16775.000000   \n",
       "mean                                  -500.230146   \n",
       "std                                     76.983542   \n",
       "min                                   -799.741097   \n",
       "25%                                   -500.530594   \n",
       "50%                                   -499.784231   \n",
       "75%                                   -496.531781   \n",
       "max                                   -275.073125   \n",
       "\n",
       "       secondary_cleaner.state.floatbank5_b_air  \\\n",
       "count                              16775.000000   \n",
       "mean                                  12.377241   \n",
       "std                                    6.219989   \n",
       "min                                    0.427084   \n",
       "25%                                    8.925586   \n",
       "50%                                   11.092839   \n",
       "75%                                   15.979467   \n",
       "max                                   39.846228   \n",
       "\n",
       "       secondary_cleaner.state.floatbank5_b_level  \\\n",
       "count                                16776.000000   \n",
       "mean                                  -498.956257   \n",
       "std                                     82.146207   \n",
       "min                                   -800.258209   \n",
       "25%                                   -500.147603   \n",
       "50%                                   -499.933330   \n",
       "75%                                   -498.418000   \n",
       "max                                   -120.190931   \n",
       "\n",
       "       secondary_cleaner.state.floatbank6_a_air  \\\n",
       "count                              16757.000000   \n",
       "mean                                  18.429208   \n",
       "std                                    6.958294   \n",
       "min                                    0.024270   \n",
       "25%                                   13.977626   \n",
       "50%                                   18.034960   \n",
       "75%                                   24.984992   \n",
       "max                                   54.876806   \n",
       "\n",
       "       secondary_cleaner.state.floatbank6_a_level  \n",
       "count                                16775.000000  \n",
       "mean                                  -521.801826  \n",
       "std                                     77.170888  \n",
       "min                                   -810.473526  \n",
       "25%                                   -501.080595  \n",
       "50%                                   -500.109898  \n",
       "75%                                   -499.565540  \n",
       "max                                    -39.784927  \n",
       "\n",
       "[8 rows x 86 columns]"
      ]
     },
     "execution_count": 4,
     "metadata": {},
     "output_type": "execute_result"
    }
   ],
   "source": [
    "train.describe()"
   ]
  },
  {
   "cell_type": "code",
   "execution_count": 5,
   "metadata": {},
   "outputs": [
    {
     "data": {
      "text/html": [
       "<div>\n",
       "<style scoped>\n",
       "    .dataframe tbody tr th:only-of-type {\n",
       "        vertical-align: middle;\n",
       "    }\n",
       "\n",
       "    .dataframe tbody tr th {\n",
       "        vertical-align: top;\n",
       "    }\n",
       "\n",
       "    .dataframe thead th {\n",
       "        text-align: right;\n",
       "    }\n",
       "</style>\n",
       "<table border=\"1\" class=\"dataframe\">\n",
       "  <thead>\n",
       "    <tr style=\"text-align: right;\">\n",
       "      <th></th>\n",
       "      <th>primary_cleaner.input.sulfate</th>\n",
       "      <th>primary_cleaner.input.depressant</th>\n",
       "      <th>primary_cleaner.input.feed_size</th>\n",
       "      <th>primary_cleaner.input.xanthate</th>\n",
       "      <th>primary_cleaner.state.floatbank8_a_air</th>\n",
       "      <th>primary_cleaner.state.floatbank8_a_level</th>\n",
       "      <th>primary_cleaner.state.floatbank8_b_air</th>\n",
       "      <th>primary_cleaner.state.floatbank8_b_level</th>\n",
       "      <th>primary_cleaner.state.floatbank8_c_air</th>\n",
       "      <th>primary_cleaner.state.floatbank8_c_level</th>\n",
       "      <th>...</th>\n",
       "      <th>secondary_cleaner.state.floatbank4_a_air</th>\n",
       "      <th>secondary_cleaner.state.floatbank4_a_level</th>\n",
       "      <th>secondary_cleaner.state.floatbank4_b_air</th>\n",
       "      <th>secondary_cleaner.state.floatbank4_b_level</th>\n",
       "      <th>secondary_cleaner.state.floatbank5_a_air</th>\n",
       "      <th>secondary_cleaner.state.floatbank5_a_level</th>\n",
       "      <th>secondary_cleaner.state.floatbank5_b_air</th>\n",
       "      <th>secondary_cleaner.state.floatbank5_b_level</th>\n",
       "      <th>secondary_cleaner.state.floatbank6_a_air</th>\n",
       "      <th>secondary_cleaner.state.floatbank6_a_level</th>\n",
       "    </tr>\n",
       "  </thead>\n",
       "  <tbody>\n",
       "    <tr>\n",
       "      <th>count</th>\n",
       "      <td>5554.000000</td>\n",
       "      <td>5572.000000</td>\n",
       "      <td>5856.000000</td>\n",
       "      <td>5690.000000</td>\n",
       "      <td>5840.000000</td>\n",
       "      <td>5840.000000</td>\n",
       "      <td>5840.000000</td>\n",
       "      <td>5840.000000</td>\n",
       "      <td>5840.000000</td>\n",
       "      <td>5840.000000</td>\n",
       "      <td>...</td>\n",
       "      <td>5840.000000</td>\n",
       "      <td>5840.000000</td>\n",
       "      <td>5840.000000</td>\n",
       "      <td>5840.000000</td>\n",
       "      <td>5840.000000</td>\n",
       "      <td>5840.000000</td>\n",
       "      <td>5840.000000</td>\n",
       "      <td>5840.000000</td>\n",
       "      <td>5840.000000</td>\n",
       "      <td>5840.000000</td>\n",
       "    </tr>\n",
       "    <tr>\n",
       "      <th>mean</th>\n",
       "      <td>170.515243</td>\n",
       "      <td>8.482873</td>\n",
       "      <td>7.264651</td>\n",
       "      <td>1.321420</td>\n",
       "      <td>1481.990241</td>\n",
       "      <td>-509.057796</td>\n",
       "      <td>1486.908670</td>\n",
       "      <td>-511.743956</td>\n",
       "      <td>1468.495216</td>\n",
       "      <td>-509.741212</td>\n",
       "      <td>...</td>\n",
       "      <td>15.636031</td>\n",
       "      <td>-516.266074</td>\n",
       "      <td>13.145702</td>\n",
       "      <td>-476.338907</td>\n",
       "      <td>12.308967</td>\n",
       "      <td>-512.208126</td>\n",
       "      <td>9.470986</td>\n",
       "      <td>-505.017827</td>\n",
       "      <td>16.678722</td>\n",
       "      <td>-512.351694</td>\n",
       "    </tr>\n",
       "    <tr>\n",
       "      <th>std</th>\n",
       "      <td>49.608602</td>\n",
       "      <td>3.353105</td>\n",
       "      <td>0.611526</td>\n",
       "      <td>0.693246</td>\n",
       "      <td>310.453166</td>\n",
       "      <td>61.339256</td>\n",
       "      <td>313.224286</td>\n",
       "      <td>67.139074</td>\n",
       "      <td>309.980748</td>\n",
       "      <td>62.671873</td>\n",
       "      <td>...</td>\n",
       "      <td>4.660835</td>\n",
       "      <td>62.756748</td>\n",
       "      <td>4.304086</td>\n",
       "      <td>105.549424</td>\n",
       "      <td>3.762827</td>\n",
       "      <td>58.864651</td>\n",
       "      <td>3.312471</td>\n",
       "      <td>68.785898</td>\n",
       "      <td>5.404514</td>\n",
       "      <td>69.919839</td>\n",
       "    </tr>\n",
       "    <tr>\n",
       "      <th>min</th>\n",
       "      <td>0.000103</td>\n",
       "      <td>0.000031</td>\n",
       "      <td>5.650000</td>\n",
       "      <td>0.000003</td>\n",
       "      <td>0.000000</td>\n",
       "      <td>-799.773788</td>\n",
       "      <td>0.000000</td>\n",
       "      <td>-800.029078</td>\n",
       "      <td>0.000000</td>\n",
       "      <td>-799.995127</td>\n",
       "      <td>...</td>\n",
       "      <td>0.000000</td>\n",
       "      <td>-799.798523</td>\n",
       "      <td>0.000000</td>\n",
       "      <td>-800.836914</td>\n",
       "      <td>-0.223393</td>\n",
       "      <td>-799.661076</td>\n",
       "      <td>0.528083</td>\n",
       "      <td>-800.220337</td>\n",
       "      <td>-0.079426</td>\n",
       "      <td>-809.859706</td>\n",
       "    </tr>\n",
       "    <tr>\n",
       "      <th>25%</th>\n",
       "      <td>143.340022</td>\n",
       "      <td>6.411500</td>\n",
       "      <td>6.885625</td>\n",
       "      <td>0.888769</td>\n",
       "      <td>1497.190681</td>\n",
       "      <td>-500.455211</td>\n",
       "      <td>1497.150234</td>\n",
       "      <td>-500.936639</td>\n",
       "      <td>1437.050321</td>\n",
       "      <td>-501.300441</td>\n",
       "      <td>...</td>\n",
       "      <td>12.057838</td>\n",
       "      <td>-501.054741</td>\n",
       "      <td>11.880119</td>\n",
       "      <td>-500.419113</td>\n",
       "      <td>10.123459</td>\n",
       "      <td>-500.879383</td>\n",
       "      <td>7.991208</td>\n",
       "      <td>-500.223089</td>\n",
       "      <td>13.012422</td>\n",
       "      <td>-500.833821</td>\n",
       "    </tr>\n",
       "    <tr>\n",
       "      <th>50%</th>\n",
       "      <td>176.103893</td>\n",
       "      <td>8.023252</td>\n",
       "      <td>7.259333</td>\n",
       "      <td>1.183362</td>\n",
       "      <td>1554.659783</td>\n",
       "      <td>-499.997402</td>\n",
       "      <td>1553.268084</td>\n",
       "      <td>-500.066588</td>\n",
       "      <td>1546.160672</td>\n",
       "      <td>-500.079537</td>\n",
       "      <td>...</td>\n",
       "      <td>17.001867</td>\n",
       "      <td>-500.160145</td>\n",
       "      <td>14.952102</td>\n",
       "      <td>-499.644328</td>\n",
       "      <td>12.062877</td>\n",
       "      <td>-500.047621</td>\n",
       "      <td>9.980774</td>\n",
       "      <td>-500.001338</td>\n",
       "      <td>16.007242</td>\n",
       "      <td>-500.041085</td>\n",
       "    </tr>\n",
       "    <tr>\n",
       "      <th>75%</th>\n",
       "      <td>207.240761</td>\n",
       "      <td>10.017725</td>\n",
       "      <td>7.650000</td>\n",
       "      <td>1.763797</td>\n",
       "      <td>1601.681656</td>\n",
       "      <td>-499.575313</td>\n",
       "      <td>1601.784707</td>\n",
       "      <td>-499.323361</td>\n",
       "      <td>1600.785573</td>\n",
       "      <td>-499.009545</td>\n",
       "      <td>...</td>\n",
       "      <td>18.030985</td>\n",
       "      <td>-499.441529</td>\n",
       "      <td>15.940011</td>\n",
       "      <td>-401.523664</td>\n",
       "      <td>15.017881</td>\n",
       "      <td>-499.297033</td>\n",
       "      <td>11.992176</td>\n",
       "      <td>-499.722835</td>\n",
       "      <td>21.009076</td>\n",
       "      <td>-499.395621</td>\n",
       "    </tr>\n",
       "    <tr>\n",
       "      <th>max</th>\n",
       "      <td>274.409626</td>\n",
       "      <td>40.024582</td>\n",
       "      <td>15.500000</td>\n",
       "      <td>5.433169</td>\n",
       "      <td>2212.432090</td>\n",
       "      <td>-57.195404</td>\n",
       "      <td>1975.147923</td>\n",
       "      <td>-142.527229</td>\n",
       "      <td>1715.053773</td>\n",
       "      <td>-150.937035</td>\n",
       "      <td>...</td>\n",
       "      <td>30.051797</td>\n",
       "      <td>-401.565212</td>\n",
       "      <td>31.269706</td>\n",
       "      <td>-6.506986</td>\n",
       "      <td>25.258848</td>\n",
       "      <td>-244.483566</td>\n",
       "      <td>14.090194</td>\n",
       "      <td>-126.463446</td>\n",
       "      <td>26.705889</td>\n",
       "      <td>-29.093593</td>\n",
       "    </tr>\n",
       "  </tbody>\n",
       "</table>\n",
       "<p>8 rows × 52 columns</p>\n",
       "</div>"
      ],
      "text/plain": [
       "       primary_cleaner.input.sulfate  primary_cleaner.input.depressant  \\\n",
       "count                    5554.000000                       5572.000000   \n",
       "mean                      170.515243                          8.482873   \n",
       "std                        49.608602                          3.353105   \n",
       "min                         0.000103                          0.000031   \n",
       "25%                       143.340022                          6.411500   \n",
       "50%                       176.103893                          8.023252   \n",
       "75%                       207.240761                         10.017725   \n",
       "max                       274.409626                         40.024582   \n",
       "\n",
       "       primary_cleaner.input.feed_size  primary_cleaner.input.xanthate  \\\n",
       "count                      5856.000000                     5690.000000   \n",
       "mean                          7.264651                        1.321420   \n",
       "std                           0.611526                        0.693246   \n",
       "min                           5.650000                        0.000003   \n",
       "25%                           6.885625                        0.888769   \n",
       "50%                           7.259333                        1.183362   \n",
       "75%                           7.650000                        1.763797   \n",
       "max                          15.500000                        5.433169   \n",
       "\n",
       "       primary_cleaner.state.floatbank8_a_air  \\\n",
       "count                             5840.000000   \n",
       "mean                              1481.990241   \n",
       "std                                310.453166   \n",
       "min                                  0.000000   \n",
       "25%                               1497.190681   \n",
       "50%                               1554.659783   \n",
       "75%                               1601.681656   \n",
       "max                               2212.432090   \n",
       "\n",
       "       primary_cleaner.state.floatbank8_a_level  \\\n",
       "count                               5840.000000   \n",
       "mean                                -509.057796   \n",
       "std                                   61.339256   \n",
       "min                                 -799.773788   \n",
       "25%                                 -500.455211   \n",
       "50%                                 -499.997402   \n",
       "75%                                 -499.575313   \n",
       "max                                  -57.195404   \n",
       "\n",
       "       primary_cleaner.state.floatbank8_b_air  \\\n",
       "count                             5840.000000   \n",
       "mean                              1486.908670   \n",
       "std                                313.224286   \n",
       "min                                  0.000000   \n",
       "25%                               1497.150234   \n",
       "50%                               1553.268084   \n",
       "75%                               1601.784707   \n",
       "max                               1975.147923   \n",
       "\n",
       "       primary_cleaner.state.floatbank8_b_level  \\\n",
       "count                               5840.000000   \n",
       "mean                                -511.743956   \n",
       "std                                   67.139074   \n",
       "min                                 -800.029078   \n",
       "25%                                 -500.936639   \n",
       "50%                                 -500.066588   \n",
       "75%                                 -499.323361   \n",
       "max                                 -142.527229   \n",
       "\n",
       "       primary_cleaner.state.floatbank8_c_air  \\\n",
       "count                             5840.000000   \n",
       "mean                              1468.495216   \n",
       "std                                309.980748   \n",
       "min                                  0.000000   \n",
       "25%                               1437.050321   \n",
       "50%                               1546.160672   \n",
       "75%                               1600.785573   \n",
       "max                               1715.053773   \n",
       "\n",
       "       primary_cleaner.state.floatbank8_c_level  ...  \\\n",
       "count                               5840.000000  ...   \n",
       "mean                                -509.741212  ...   \n",
       "std                                   62.671873  ...   \n",
       "min                                 -799.995127  ...   \n",
       "25%                                 -501.300441  ...   \n",
       "50%                                 -500.079537  ...   \n",
       "75%                                 -499.009545  ...   \n",
       "max                                 -150.937035  ...   \n",
       "\n",
       "       secondary_cleaner.state.floatbank4_a_air  \\\n",
       "count                               5840.000000   \n",
       "mean                                  15.636031   \n",
       "std                                    4.660835   \n",
       "min                                    0.000000   \n",
       "25%                                   12.057838   \n",
       "50%                                   17.001867   \n",
       "75%                                   18.030985   \n",
       "max                                   30.051797   \n",
       "\n",
       "       secondary_cleaner.state.floatbank4_a_level  \\\n",
       "count                                 5840.000000   \n",
       "mean                                  -516.266074   \n",
       "std                                     62.756748   \n",
       "min                                   -799.798523   \n",
       "25%                                   -501.054741   \n",
       "50%                                   -500.160145   \n",
       "75%                                   -499.441529   \n",
       "max                                   -401.565212   \n",
       "\n",
       "       secondary_cleaner.state.floatbank4_b_air  \\\n",
       "count                               5840.000000   \n",
       "mean                                  13.145702   \n",
       "std                                    4.304086   \n",
       "min                                    0.000000   \n",
       "25%                                   11.880119   \n",
       "50%                                   14.952102   \n",
       "75%                                   15.940011   \n",
       "max                                   31.269706   \n",
       "\n",
       "       secondary_cleaner.state.floatbank4_b_level  \\\n",
       "count                                 5840.000000   \n",
       "mean                                  -476.338907   \n",
       "std                                    105.549424   \n",
       "min                                   -800.836914   \n",
       "25%                                   -500.419113   \n",
       "50%                                   -499.644328   \n",
       "75%                                   -401.523664   \n",
       "max                                     -6.506986   \n",
       "\n",
       "       secondary_cleaner.state.floatbank5_a_air  \\\n",
       "count                               5840.000000   \n",
       "mean                                  12.308967   \n",
       "std                                    3.762827   \n",
       "min                                   -0.223393   \n",
       "25%                                   10.123459   \n",
       "50%                                   12.062877   \n",
       "75%                                   15.017881   \n",
       "max                                   25.258848   \n",
       "\n",
       "       secondary_cleaner.state.floatbank5_a_level  \\\n",
       "count                                 5840.000000   \n",
       "mean                                  -512.208126   \n",
       "std                                     58.864651   \n",
       "min                                   -799.661076   \n",
       "25%                                   -500.879383   \n",
       "50%                                   -500.047621   \n",
       "75%                                   -499.297033   \n",
       "max                                   -244.483566   \n",
       "\n",
       "       secondary_cleaner.state.floatbank5_b_air  \\\n",
       "count                               5840.000000   \n",
       "mean                                   9.470986   \n",
       "std                                    3.312471   \n",
       "min                                    0.528083   \n",
       "25%                                    7.991208   \n",
       "50%                                    9.980774   \n",
       "75%                                   11.992176   \n",
       "max                                   14.090194   \n",
       "\n",
       "       secondary_cleaner.state.floatbank5_b_level  \\\n",
       "count                                 5840.000000   \n",
       "mean                                  -505.017827   \n",
       "std                                     68.785898   \n",
       "min                                   -800.220337   \n",
       "25%                                   -500.223089   \n",
       "50%                                   -500.001338   \n",
       "75%                                   -499.722835   \n",
       "max                                   -126.463446   \n",
       "\n",
       "       secondary_cleaner.state.floatbank6_a_air  \\\n",
       "count                               5840.000000   \n",
       "mean                                  16.678722   \n",
       "std                                    5.404514   \n",
       "min                                   -0.079426   \n",
       "25%                                   13.012422   \n",
       "50%                                   16.007242   \n",
       "75%                                   21.009076   \n",
       "max                                   26.705889   \n",
       "\n",
       "       secondary_cleaner.state.floatbank6_a_level  \n",
       "count                                 5840.000000  \n",
       "mean                                  -512.351694  \n",
       "std                                     69.919839  \n",
       "min                                   -809.859706  \n",
       "25%                                   -500.833821  \n",
       "50%                                   -500.041085  \n",
       "75%                                   -499.395621  \n",
       "max                                    -29.093593  \n",
       "\n",
       "[8 rows x 52 columns]"
      ]
     },
     "execution_count": 5,
     "metadata": {},
     "output_type": "execute_result"
    }
   ],
   "source": [
    "test.describe()"
   ]
  },
  {
   "cell_type": "code",
   "execution_count": 6,
   "metadata": {
    "scrolled": true
   },
   "outputs": [
    {
     "data": {
      "text/html": [
       "<div>\n",
       "<style scoped>\n",
       "    .dataframe tbody tr th:only-of-type {\n",
       "        vertical-align: middle;\n",
       "    }\n",
       "\n",
       "    .dataframe tbody tr th {\n",
       "        vertical-align: top;\n",
       "    }\n",
       "\n",
       "    .dataframe thead th {\n",
       "        text-align: right;\n",
       "    }\n",
       "</style>\n",
       "<table border=\"1\" class=\"dataframe\">\n",
       "  <thead>\n",
       "    <tr style=\"text-align: right;\">\n",
       "      <th></th>\n",
       "      <th>final.output.concentrate_ag</th>\n",
       "      <th>final.output.concentrate_pb</th>\n",
       "      <th>final.output.concentrate_sol</th>\n",
       "      <th>final.output.concentrate_au</th>\n",
       "      <th>final.output.recovery</th>\n",
       "      <th>final.output.tail_ag</th>\n",
       "      <th>final.output.tail_pb</th>\n",
       "      <th>final.output.tail_sol</th>\n",
       "      <th>final.output.tail_au</th>\n",
       "      <th>primary_cleaner.input.sulfate</th>\n",
       "      <th>...</th>\n",
       "      <th>secondary_cleaner.state.floatbank4_a_air</th>\n",
       "      <th>secondary_cleaner.state.floatbank4_a_level</th>\n",
       "      <th>secondary_cleaner.state.floatbank4_b_air</th>\n",
       "      <th>secondary_cleaner.state.floatbank4_b_level</th>\n",
       "      <th>secondary_cleaner.state.floatbank5_a_air</th>\n",
       "      <th>secondary_cleaner.state.floatbank5_a_level</th>\n",
       "      <th>secondary_cleaner.state.floatbank5_b_air</th>\n",
       "      <th>secondary_cleaner.state.floatbank5_b_level</th>\n",
       "      <th>secondary_cleaner.state.floatbank6_a_air</th>\n",
       "      <th>secondary_cleaner.state.floatbank6_a_level</th>\n",
       "    </tr>\n",
       "  </thead>\n",
       "  <tbody>\n",
       "    <tr>\n",
       "      <th>count</th>\n",
       "      <td>22627.000000</td>\n",
       "      <td>22629.000000</td>\n",
       "      <td>22331.000000</td>\n",
       "      <td>22630.000000</td>\n",
       "      <td>20753.000000</td>\n",
       "      <td>22633.000000</td>\n",
       "      <td>22516.000000</td>\n",
       "      <td>22445.000000</td>\n",
       "      <td>22635.000000</td>\n",
       "      <td>21107.000000</td>\n",
       "      <td>...</td>\n",
       "      <td>22571.000000</td>\n",
       "      <td>22587.000000</td>\n",
       "      <td>22608.000000</td>\n",
       "      <td>22607.000000</td>\n",
       "      <td>22615.000000</td>\n",
       "      <td>22615.000000</td>\n",
       "      <td>22615.000000</td>\n",
       "      <td>22616.000000</td>\n",
       "      <td>22597.000000</td>\n",
       "      <td>22615.000000</td>\n",
       "    </tr>\n",
       "    <tr>\n",
       "      <th>mean</th>\n",
       "      <td>4.781559</td>\n",
       "      <td>9.095308</td>\n",
       "      <td>8.640317</td>\n",
       "      <td>40.001172</td>\n",
       "      <td>67.447488</td>\n",
       "      <td>8.923690</td>\n",
       "      <td>2.488252</td>\n",
       "      <td>9.523632</td>\n",
       "      <td>2.827459</td>\n",
       "      <td>140.277672</td>\n",
       "      <td>...</td>\n",
       "      <td>18.205125</td>\n",
       "      <td>-499.878977</td>\n",
       "      <td>14.356474</td>\n",
       "      <td>-476.532613</td>\n",
       "      <td>14.883276</td>\n",
       "      <td>-503.323288</td>\n",
       "      <td>11.626743</td>\n",
       "      <td>-500.521502</td>\n",
       "      <td>17.976810</td>\n",
       "      <td>-519.361465</td>\n",
       "    </tr>\n",
       "    <tr>\n",
       "      <th>std</th>\n",
       "      <td>2.030128</td>\n",
       "      <td>3.230797</td>\n",
       "      <td>3.785035</td>\n",
       "      <td>13.398062</td>\n",
       "      <td>11.616034</td>\n",
       "      <td>3.517917</td>\n",
       "      <td>1.189407</td>\n",
       "      <td>4.079739</td>\n",
       "      <td>1.262834</td>\n",
       "      <td>49.919004</td>\n",
       "      <td>...</td>\n",
       "      <td>6.560700</td>\n",
       "      <td>80.273964</td>\n",
       "      <td>5.655791</td>\n",
       "      <td>93.822791</td>\n",
       "      <td>6.372811</td>\n",
       "      <td>72.925589</td>\n",
       "      <td>5.757449</td>\n",
       "      <td>78.956292</td>\n",
       "      <td>6.636203</td>\n",
       "      <td>75.477151</td>\n",
       "    </tr>\n",
       "    <tr>\n",
       "      <th>min</th>\n",
       "      <td>0.000000</td>\n",
       "      <td>0.000000</td>\n",
       "      <td>0.000000</td>\n",
       "      <td>0.000000</td>\n",
       "      <td>0.000000</td>\n",
       "      <td>0.000000</td>\n",
       "      <td>0.000000</td>\n",
       "      <td>0.000000</td>\n",
       "      <td>0.000000</td>\n",
       "      <td>0.000003</td>\n",
       "      <td>...</td>\n",
       "      <td>0.000000</td>\n",
       "      <td>-799.920713</td>\n",
       "      <td>0.000000</td>\n",
       "      <td>-800.836914</td>\n",
       "      <td>-0.423260</td>\n",
       "      <td>-799.741097</td>\n",
       "      <td>0.427084</td>\n",
       "      <td>-800.258209</td>\n",
       "      <td>-0.079426</td>\n",
       "      <td>-810.473526</td>\n",
       "    </tr>\n",
       "    <tr>\n",
       "      <th>25%</th>\n",
       "      <td>4.018525</td>\n",
       "      <td>8.750171</td>\n",
       "      <td>7.116799</td>\n",
       "      <td>42.383721</td>\n",
       "      <td>63.282393</td>\n",
       "      <td>7.684016</td>\n",
       "      <td>1.805376</td>\n",
       "      <td>8.143576</td>\n",
       "      <td>2.303108</td>\n",
       "      <td>110.177081</td>\n",
       "      <td>...</td>\n",
       "      <td>14.095940</td>\n",
       "      <td>-500.896232</td>\n",
       "      <td>10.882675</td>\n",
       "      <td>-500.309169</td>\n",
       "      <td>10.941299</td>\n",
       "      <td>-500.628697</td>\n",
       "      <td>8.037533</td>\n",
       "      <td>-500.167897</td>\n",
       "      <td>13.968418</td>\n",
       "      <td>-500.981671</td>\n",
       "    </tr>\n",
       "    <tr>\n",
       "      <th>50%</th>\n",
       "      <td>4.953729</td>\n",
       "      <td>9.914519</td>\n",
       "      <td>8.908792</td>\n",
       "      <td>44.653436</td>\n",
       "      <td>68.322258</td>\n",
       "      <td>9.484369</td>\n",
       "      <td>2.653001</td>\n",
       "      <td>10.212998</td>\n",
       "      <td>2.913794</td>\n",
       "      <td>141.330501</td>\n",
       "      <td>...</td>\n",
       "      <td>18.007326</td>\n",
       "      <td>-499.917108</td>\n",
       "      <td>14.947646</td>\n",
       "      <td>-499.612292</td>\n",
       "      <td>14.859117</td>\n",
       "      <td>-499.865158</td>\n",
       "      <td>10.989756</td>\n",
       "      <td>-499.951980</td>\n",
       "      <td>18.004215</td>\n",
       "      <td>-500.095463</td>\n",
       "    </tr>\n",
       "    <tr>\n",
       "      <th>75%</th>\n",
       "      <td>5.862593</td>\n",
       "      <td>10.929839</td>\n",
       "      <td>10.705824</td>\n",
       "      <td>46.111999</td>\n",
       "      <td>72.950836</td>\n",
       "      <td>11.084557</td>\n",
       "      <td>3.287790</td>\n",
       "      <td>11.860824</td>\n",
       "      <td>3.555077</td>\n",
       "      <td>174.049914</td>\n",
       "      <td>...</td>\n",
       "      <td>22.998194</td>\n",
       "      <td>-498.361545</td>\n",
       "      <td>17.977502</td>\n",
       "      <td>-400.224147</td>\n",
       "      <td>18.014914</td>\n",
       "      <td>-498.489381</td>\n",
       "      <td>14.001193</td>\n",
       "      <td>-499.492354</td>\n",
       "      <td>23.009704</td>\n",
       "      <td>-499.526388</td>\n",
       "    </tr>\n",
       "    <tr>\n",
       "      <th>max</th>\n",
       "      <td>16.001945</td>\n",
       "      <td>17.031899</td>\n",
       "      <td>19.615720</td>\n",
       "      <td>53.611374</td>\n",
       "      <td>100.000000</td>\n",
       "      <td>19.552149</td>\n",
       "      <td>6.086532</td>\n",
       "      <td>22.861749</td>\n",
       "      <td>9.789625</td>\n",
       "      <td>274.409626</td>\n",
       "      <td>...</td>\n",
       "      <td>60.000000</td>\n",
       "      <td>-127.692333</td>\n",
       "      <td>31.269706</td>\n",
       "      <td>-6.506986</td>\n",
       "      <td>63.116298</td>\n",
       "      <td>-244.483566</td>\n",
       "      <td>39.846228</td>\n",
       "      <td>-120.190931</td>\n",
       "      <td>54.876806</td>\n",
       "      <td>-29.093593</td>\n",
       "    </tr>\n",
       "  </tbody>\n",
       "</table>\n",
       "<p>8 rows × 86 columns</p>\n",
       "</div>"
      ],
      "text/plain": [
       "       final.output.concentrate_ag  final.output.concentrate_pb  \\\n",
       "count                 22627.000000                 22629.000000   \n",
       "mean                      4.781559                     9.095308   \n",
       "std                       2.030128                     3.230797   \n",
       "min                       0.000000                     0.000000   \n",
       "25%                       4.018525                     8.750171   \n",
       "50%                       4.953729                     9.914519   \n",
       "75%                       5.862593                    10.929839   \n",
       "max                      16.001945                    17.031899   \n",
       "\n",
       "       final.output.concentrate_sol  final.output.concentrate_au  \\\n",
       "count                  22331.000000                 22630.000000   \n",
       "mean                       8.640317                    40.001172   \n",
       "std                        3.785035                    13.398062   \n",
       "min                        0.000000                     0.000000   \n",
       "25%                        7.116799                    42.383721   \n",
       "50%                        8.908792                    44.653436   \n",
       "75%                       10.705824                    46.111999   \n",
       "max                       19.615720                    53.611374   \n",
       "\n",
       "       final.output.recovery  final.output.tail_ag  final.output.tail_pb  \\\n",
       "count           20753.000000          22633.000000          22516.000000   \n",
       "mean               67.447488              8.923690              2.488252   \n",
       "std                11.616034              3.517917              1.189407   \n",
       "min                 0.000000              0.000000              0.000000   \n",
       "25%                63.282393              7.684016              1.805376   \n",
       "50%                68.322258              9.484369              2.653001   \n",
       "75%                72.950836             11.084557              3.287790   \n",
       "max               100.000000             19.552149              6.086532   \n",
       "\n",
       "       final.output.tail_sol  final.output.tail_au  \\\n",
       "count           22445.000000          22635.000000   \n",
       "mean                9.523632              2.827459   \n",
       "std                 4.079739              1.262834   \n",
       "min                 0.000000              0.000000   \n",
       "25%                 8.143576              2.303108   \n",
       "50%                10.212998              2.913794   \n",
       "75%                11.860824              3.555077   \n",
       "max                22.861749              9.789625   \n",
       "\n",
       "       primary_cleaner.input.sulfate  ...  \\\n",
       "count                   21107.000000  ...   \n",
       "mean                      140.277672  ...   \n",
       "std                        49.919004  ...   \n",
       "min                         0.000003  ...   \n",
       "25%                       110.177081  ...   \n",
       "50%                       141.330501  ...   \n",
       "75%                       174.049914  ...   \n",
       "max                       274.409626  ...   \n",
       "\n",
       "       secondary_cleaner.state.floatbank4_a_air  \\\n",
       "count                              22571.000000   \n",
       "mean                                  18.205125   \n",
       "std                                    6.560700   \n",
       "min                                    0.000000   \n",
       "25%                                   14.095940   \n",
       "50%                                   18.007326   \n",
       "75%                                   22.998194   \n",
       "max                                   60.000000   \n",
       "\n",
       "       secondary_cleaner.state.floatbank4_a_level  \\\n",
       "count                                22587.000000   \n",
       "mean                                  -499.878977   \n",
       "std                                     80.273964   \n",
       "min                                   -799.920713   \n",
       "25%                                   -500.896232   \n",
       "50%                                   -499.917108   \n",
       "75%                                   -498.361545   \n",
       "max                                   -127.692333   \n",
       "\n",
       "       secondary_cleaner.state.floatbank4_b_air  \\\n",
       "count                              22608.000000   \n",
       "mean                                  14.356474   \n",
       "std                                    5.655791   \n",
       "min                                    0.000000   \n",
       "25%                                   10.882675   \n",
       "50%                                   14.947646   \n",
       "75%                                   17.977502   \n",
       "max                                   31.269706   \n",
       "\n",
       "       secondary_cleaner.state.floatbank4_b_level  \\\n",
       "count                                22607.000000   \n",
       "mean                                  -476.532613   \n",
       "std                                     93.822791   \n",
       "min                                   -800.836914   \n",
       "25%                                   -500.309169   \n",
       "50%                                   -499.612292   \n",
       "75%                                   -400.224147   \n",
       "max                                     -6.506986   \n",
       "\n",
       "       secondary_cleaner.state.floatbank5_a_air  \\\n",
       "count                              22615.000000   \n",
       "mean                                  14.883276   \n",
       "std                                    6.372811   \n",
       "min                                   -0.423260   \n",
       "25%                                   10.941299   \n",
       "50%                                   14.859117   \n",
       "75%                                   18.014914   \n",
       "max                                   63.116298   \n",
       "\n",
       "       secondary_cleaner.state.floatbank5_a_level  \\\n",
       "count                                22615.000000   \n",
       "mean                                  -503.323288   \n",
       "std                                     72.925589   \n",
       "min                                   -799.741097   \n",
       "25%                                   -500.628697   \n",
       "50%                                   -499.865158   \n",
       "75%                                   -498.489381   \n",
       "max                                   -244.483566   \n",
       "\n",
       "       secondary_cleaner.state.floatbank5_b_air  \\\n",
       "count                              22615.000000   \n",
       "mean                                  11.626743   \n",
       "std                                    5.757449   \n",
       "min                                    0.427084   \n",
       "25%                                    8.037533   \n",
       "50%                                   10.989756   \n",
       "75%                                   14.001193   \n",
       "max                                   39.846228   \n",
       "\n",
       "       secondary_cleaner.state.floatbank5_b_level  \\\n",
       "count                                22616.000000   \n",
       "mean                                  -500.521502   \n",
       "std                                     78.956292   \n",
       "min                                   -800.258209   \n",
       "25%                                   -500.167897   \n",
       "50%                                   -499.951980   \n",
       "75%                                   -499.492354   \n",
       "max                                   -120.190931   \n",
       "\n",
       "       secondary_cleaner.state.floatbank6_a_air  \\\n",
       "count                              22597.000000   \n",
       "mean                                  17.976810   \n",
       "std                                    6.636203   \n",
       "min                                   -0.079426   \n",
       "25%                                   13.968418   \n",
       "50%                                   18.004215   \n",
       "75%                                   23.009704   \n",
       "max                                   54.876806   \n",
       "\n",
       "       secondary_cleaner.state.floatbank6_a_level  \n",
       "count                                22615.000000  \n",
       "mean                                  -519.361465  \n",
       "std                                     75.477151  \n",
       "min                                   -810.473526  \n",
       "25%                                   -500.981671  \n",
       "50%                                   -500.095463  \n",
       "75%                                   -499.526388  \n",
       "max                                    -29.093593  \n",
       "\n",
       "[8 rows x 86 columns]"
      ]
     },
     "execution_count": 6,
     "metadata": {},
     "output_type": "execute_result"
    }
   ],
   "source": [
    "data.describe()"
   ]
  },
  {
   "cell_type": "markdown",
   "metadata": {},
   "source": [
    "### Finding MAE"
   ]
  },
  {
   "cell_type": "code",
   "execution_count": 7,
   "metadata": {},
   "outputs": [
    {
     "name": "stdout",
     "output_type": "stream",
     "text": [
      "MAE between calculated and dataset recovery: 9.303415616264301e-15\n"
     ]
    }
   ],
   "source": [
    "def calculate_recovery(C, F, T):\n",
    "    return (C * (F - T) / (F * (C - T))) * 100\n",
    "\n",
    "# Calculate the recovery for 'rougher.output.recovery'\n",
    "train['calculated_recovery'] = calculate_recovery(\n",
    "    train['rougher.output.concentrate_au'],\n",
    "    train['rougher.input.feed_au'],\n",
    "    train['rougher.output.tail_au']\n",
    ")\n",
    "\n",
    "valid_indices = np.isfinite(train['calculated_recovery']) & np.isfinite(train['rougher.output.recovery'])\n",
    "filtered_calculated_recovery = train['calculated_recovery'][valid_indices]\n",
    "filtered_true_recovery = train['rougher.output.recovery'][valid_indices]\n",
    "\n",
    "print(\"MAE between calculated and dataset recovery:\",\n",
    "      mean_absolute_error(filtered_calculated_recovery, filtered_true_recovery))"
   ]
  },
  {
   "cell_type": "markdown",
   "metadata": {},
   "source": [
    "In our analysis of recovery calculations, we compared the computed recovery values against those provided in the dataset using the Mean Absolute Error (MAE) as a measure of accuracy. The results demonstrated an MAE of (9.30 \\times 10^{-15}).\n",
    "\n",
    "**Analysis**:\n",
    "\n",
    "The exceptionally low MAE indicates that our recovery calculation is nearly identical to the dataset values. This suggests a precise alignment between our computational approach and the dataset's recorded recovery metric."
   ]
  },
  {
   "cell_type": "markdown",
   "metadata": {},
   "source": [
    "### Data Preprocessing"
   ]
  },
  {
   "cell_type": "code",
   "execution_count": 8,
   "metadata": {},
   "outputs": [
    {
     "data": {
      "text/plain": [
       "date                                             0\n",
       "final.output.concentrate_ag                     72\n",
       "final.output.concentrate_pb                     72\n",
       "final.output.concentrate_sol                   370\n",
       "final.output.concentrate_au                     71\n",
       "                                              ... \n",
       "secondary_cleaner.state.floatbank5_b_air        85\n",
       "secondary_cleaner.state.floatbank5_b_level      84\n",
       "secondary_cleaner.state.floatbank6_a_air       103\n",
       "secondary_cleaner.state.floatbank6_a_level      85\n",
       "calculated_recovery                           2283\n",
       "Length: 88, dtype: int64"
      ]
     },
     "execution_count": 8,
     "metadata": {},
     "output_type": "execute_result"
    }
   ],
   "source": [
    "train.isna().sum()"
   ]
  },
  {
   "cell_type": "code",
   "execution_count": 9,
   "metadata": {},
   "outputs": [],
   "source": [
    "train.fillna(method='ffill', inplace=True)"
   ]
  },
  {
   "cell_type": "markdown",
   "metadata": {},
   "source": [
    "Missing values are dropped to calculate the mean absolute error"
   ]
  },
  {
   "cell_type": "code",
   "execution_count": 10,
   "metadata": {
    "scrolled": true
   },
   "outputs": [
    {
     "data": {
      "text/plain": [
       "date                                            0\n",
       "primary_cleaner.input.sulfate                 302\n",
       "primary_cleaner.input.depressant              284\n",
       "primary_cleaner.input.feed_size                 0\n",
       "primary_cleaner.input.xanthate                166\n",
       "primary_cleaner.state.floatbank8_a_air         16\n",
       "primary_cleaner.state.floatbank8_a_level       16\n",
       "primary_cleaner.state.floatbank8_b_air         16\n",
       "primary_cleaner.state.floatbank8_b_level       16\n",
       "primary_cleaner.state.floatbank8_c_air         16\n",
       "primary_cleaner.state.floatbank8_c_level       16\n",
       "primary_cleaner.state.floatbank8_d_air         16\n",
       "primary_cleaner.state.floatbank8_d_level       16\n",
       "rougher.input.feed_ag                          16\n",
       "rougher.input.feed_pb                          16\n",
       "rougher.input.feed_rate                        40\n",
       "rougher.input.feed_size                        22\n",
       "rougher.input.feed_sol                         67\n",
       "rougher.input.feed_au                          16\n",
       "rougher.input.floatbank10_sulfate             257\n",
       "rougher.input.floatbank10_xanthate            123\n",
       "rougher.input.floatbank11_sulfate              55\n",
       "rougher.input.floatbank11_xanthate            353\n",
       "rougher.state.floatbank10_a_air                17\n",
       "rougher.state.floatbank10_a_level              16\n",
       "rougher.state.floatbank10_b_air                17\n",
       "rougher.state.floatbank10_b_level              16\n",
       "rougher.state.floatbank10_c_air                17\n",
       "rougher.state.floatbank10_c_level              16\n",
       "rougher.state.floatbank10_d_air                17\n",
       "rougher.state.floatbank10_d_level              16\n",
       "rougher.state.floatbank10_e_air                17\n",
       "rougher.state.floatbank10_e_level              16\n",
       "rougher.state.floatbank10_f_air                17\n",
       "rougher.state.floatbank10_f_level              16\n",
       "secondary_cleaner.state.floatbank2_a_air       20\n",
       "secondary_cleaner.state.floatbank2_a_level     16\n",
       "secondary_cleaner.state.floatbank2_b_air       23\n",
       "secondary_cleaner.state.floatbank2_b_level     16\n",
       "secondary_cleaner.state.floatbank3_a_air       34\n",
       "secondary_cleaner.state.floatbank3_a_level     16\n",
       "secondary_cleaner.state.floatbank3_b_air       16\n",
       "secondary_cleaner.state.floatbank3_b_level     16\n",
       "secondary_cleaner.state.floatbank4_a_air       16\n",
       "secondary_cleaner.state.floatbank4_a_level     16\n",
       "secondary_cleaner.state.floatbank4_b_air       16\n",
       "secondary_cleaner.state.floatbank4_b_level     16\n",
       "secondary_cleaner.state.floatbank5_a_air       16\n",
       "secondary_cleaner.state.floatbank5_a_level     16\n",
       "secondary_cleaner.state.floatbank5_b_air       16\n",
       "secondary_cleaner.state.floatbank5_b_level     16\n",
       "secondary_cleaner.state.floatbank6_a_air       16\n",
       "secondary_cleaner.state.floatbank6_a_level     16\n",
       "dtype: int64"
      ]
     },
     "execution_count": 10,
     "metadata": {},
     "output_type": "execute_result"
    }
   ],
   "source": [
    "test.isna().sum()"
   ]
  },
  {
   "cell_type": "code",
   "execution_count": 11,
   "metadata": {},
   "outputs": [],
   "source": [
    "test.fillna(method='ffill', inplace=True)"
   ]
  },
  {
   "cell_type": "code",
   "execution_count": 12,
   "metadata": {},
   "outputs": [
    {
     "data": {
      "text/plain": [
       "date                                            0\n",
       "final.output.concentrate_ag                    89\n",
       "final.output.concentrate_pb                    87\n",
       "final.output.concentrate_sol                  385\n",
       "final.output.concentrate_au                    86\n",
       "                                             ... \n",
       "secondary_cleaner.state.floatbank5_a_level    101\n",
       "secondary_cleaner.state.floatbank5_b_air      101\n",
       "secondary_cleaner.state.floatbank5_b_level    100\n",
       "secondary_cleaner.state.floatbank6_a_air      119\n",
       "secondary_cleaner.state.floatbank6_a_level    101\n",
       "Length: 87, dtype: int64"
      ]
     },
     "execution_count": 12,
     "metadata": {},
     "output_type": "execute_result"
    }
   ],
   "source": [
    "data.isna().sum()"
   ]
  },
  {
   "cell_type": "code",
   "execution_count": 13,
   "metadata": {},
   "outputs": [],
   "source": [
    "data.fillna(method='ffill', inplace=True)"
   ]
  },
  {
   "cell_type": "markdown",
   "metadata": {},
   "source": [
    "### Analyze Features Parameters & Type"
   ]
  },
  {
   "cell_type": "code",
   "execution_count": 14,
   "metadata": {
    "scrolled": true
   },
   "outputs": [
    {
     "name": "stdout",
     "output_type": "stream",
     "text": [
      "Missing features in the test set: {'primary_cleaner.output.concentrate_au', 'final.output.tail_pb', 'rougher.output.tail_pb', 'final.output.tail_au', 'rougher.output.tail_sol', 'primary_cleaner.output.concentrate_sol', 'rougher.calculation.au_pb_ratio', 'rougher.output.concentrate_pb', 'primary_cleaner.output.tail_sol', 'final.output.tail_sol', 'rougher.output.recovery', 'primary_cleaner.output.tail_ag', 'secondary_cleaner.output.tail_pb', 'primary_cleaner.output.concentrate_pb', 'rougher.output.concentrate_sol', 'final.output.concentrate_pb', 'rougher.calculation.floatbank11_sulfate_to_au_feed', 'primary_cleaner.output.tail_pb', 'rougher.calculation.floatbank10_sulfate_to_au_feed', 'final.output.recovery', 'rougher.output.concentrate_au', 'final.output.concentrate_ag', 'rougher.output.concentrate_ag', 'secondary_cleaner.output.tail_ag', 'primary_cleaner.output.tail_au', 'final.output.tail_ag', 'rougher.output.tail_ag', 'secondary_cleaner.output.tail_au', 'rougher.output.tail_au', 'rougher.calculation.sulfate_to_au_concentrate', 'final.output.concentrate_au', 'calculated_recovery', 'secondary_cleaner.output.tail_sol', 'primary_cleaner.output.concentrate_ag', 'final.output.concentrate_sol'}\n",
      "Feature: primary_cleaner.output.concentrate_au, Type: float64\n",
      "Feature: final.output.tail_pb, Type: float64\n",
      "Feature: rougher.output.tail_pb, Type: float64\n",
      "Feature: final.output.tail_au, Type: float64\n",
      "Feature: rougher.output.tail_sol, Type: float64\n",
      "Feature: primary_cleaner.output.concentrate_sol, Type: float64\n",
      "Feature: rougher.calculation.au_pb_ratio, Type: float64\n",
      "Feature: rougher.output.concentrate_pb, Type: float64\n",
      "Feature: primary_cleaner.output.tail_sol, Type: float64\n",
      "Feature: final.output.tail_sol, Type: float64\n",
      "Feature: rougher.output.recovery, Type: float64\n",
      "Feature: primary_cleaner.output.tail_ag, Type: float64\n",
      "Feature: secondary_cleaner.output.tail_pb, Type: float64\n",
      "Feature: primary_cleaner.output.concentrate_pb, Type: float64\n",
      "Feature: rougher.output.concentrate_sol, Type: float64\n",
      "Feature: final.output.concentrate_pb, Type: float64\n",
      "Feature: rougher.calculation.floatbank11_sulfate_to_au_feed, Type: float64\n",
      "Feature: primary_cleaner.output.tail_pb, Type: float64\n",
      "Feature: rougher.calculation.floatbank10_sulfate_to_au_feed, Type: float64\n",
      "Feature: final.output.recovery, Type: float64\n",
      "Feature: rougher.output.concentrate_au, Type: float64\n",
      "Feature: final.output.concentrate_ag, Type: float64\n",
      "Feature: rougher.output.concentrate_ag, Type: float64\n",
      "Feature: secondary_cleaner.output.tail_ag, Type: float64\n",
      "Feature: primary_cleaner.output.tail_au, Type: float64\n",
      "Feature: final.output.tail_ag, Type: float64\n",
      "Feature: rougher.output.tail_ag, Type: float64\n",
      "Feature: secondary_cleaner.output.tail_au, Type: float64\n",
      "Feature: rougher.output.tail_au, Type: float64\n",
      "Feature: rougher.calculation.sulfate_to_au_concentrate, Type: float64\n",
      "Feature: final.output.concentrate_au, Type: float64\n",
      "Feature: calculated_recovery, Type: float64\n",
      "Feature: secondary_cleaner.output.tail_sol, Type: float64\n",
      "Feature: primary_cleaner.output.concentrate_ag, Type: float64\n",
      "Feature: final.output.concentrate_sol, Type: float64\n"
     ]
    }
   ],
   "source": [
    "missing_features = set(train.columns) - set(test.columns)\n",
    "\n",
    "print(\"Missing features in the test set:\", missing_features)\n",
    "for feature in missing_features:\n",
    "    print(f\"Feature: {feature}, Type: {train[feature].dtype}\")"
   ]
  },
  {
   "cell_type": "markdown",
   "metadata": {},
   "source": [
    "After comparing the test and train set against each other, we can see that some parameters are not available because they were measured and/or calculated much later. That's why, some of the features that are present in the training set may be absent from the test set."
   ]
  },
  {
   "cell_type": "code",
   "execution_count": 15,
   "metadata": {},
   "outputs": [],
   "source": [
    "test = test.merge(data[['final.output.recovery', 'rougher.output.recovery']], how='left', left_index=True, right_index=True)"
   ]
  },
  {
   "cell_type": "code",
   "execution_count": 16,
   "metadata": {},
   "outputs": [
    {
     "name": "stdout",
     "output_type": "stream",
     "text": [
      "Common features: {'secondary_cleaner.state.floatbank3_a_level', 'secondary_cleaner.state.floatbank5_b_level', 'date', 'secondary_cleaner.state.floatbank2_b_air', 'rougher.state.floatbank10_f_level', 'secondary_cleaner.state.floatbank4_a_level', 'secondary_cleaner.state.floatbank6_a_level', 'rougher.input.feed_rate', 'rougher.input.feed_ag', 'rougher.input.floatbank11_sulfate', 'secondary_cleaner.state.floatbank3_a_air', 'secondary_cleaner.state.floatbank3_b_level', 'rougher.state.floatbank10_b_level', 'rougher.state.floatbank10_d_air', 'rougher.input.feed_sol', 'rougher.output.recovery', 'rougher.state.floatbank10_b_air', 'rougher.state.floatbank10_e_air', 'secondary_cleaner.state.floatbank5_b_air', 'rougher.state.floatbank10_f_air', 'primary_cleaner.state.floatbank8_b_air', 'secondary_cleaner.state.floatbank6_a_air', 'secondary_cleaner.state.floatbank2_a_level', 'secondary_cleaner.state.floatbank2_b_level', 'rougher.state.floatbank10_a_air', 'rougher.state.floatbank10_c_air', 'primary_cleaner.input.feed_size', 'primary_cleaner.state.floatbank8_d_air', 'secondary_cleaner.state.floatbank5_a_air', 'primary_cleaner.input.sulfate', 'rougher.state.floatbank10_c_level', 'rougher.input.floatbank11_xanthate', 'secondary_cleaner.state.floatbank2_a_air', 'secondary_cleaner.state.floatbank3_b_air', 'primary_cleaner.state.floatbank8_d_level', 'rougher.state.floatbank10_a_level', 'primary_cleaner.input.xanthate', 'secondary_cleaner.state.floatbank4_b_air', 'final.output.recovery', 'rougher.input.feed_pb', 'rougher.input.feed_size', 'primary_cleaner.state.floatbank8_c_air', 'rougher.input.feed_au', 'rougher.input.floatbank10_xanthate', 'rougher.input.floatbank10_sulfate', 'primary_cleaner.input.depressant', 'primary_cleaner.state.floatbank8_a_air', 'primary_cleaner.state.floatbank8_a_level', 'primary_cleaner.state.floatbank8_b_level', 'primary_cleaner.state.floatbank8_c_level', 'rougher.state.floatbank10_d_level', 'rougher.state.floatbank10_e_level', 'secondary_cleaner.state.floatbank4_b_level', 'secondary_cleaner.state.floatbank5_a_level', 'secondary_cleaner.state.floatbank4_a_air'}\n"
     ]
    }
   ],
   "source": [
    "common_features = set(train.columns).intersection(set(test.columns))\n",
    "\n",
    "train_common = train[list(common_features)]\n",
    "test_common = test[list(common_features)]\n",
    "\n",
    "print(\"Common features:\", common_features)"
   ]
  },
  {
   "cell_type": "markdown",
   "metadata": {},
   "source": [
    "Now that we can see what columns are in both train and test sets, we can use this to preprocess the train dataset in order to provide a more accurate analysis on the test data set. These dataset are now created as train_common and test_common"
   ]
  },
  {
   "cell_type": "markdown",
   "metadata": {},
   "source": [
    "## Analyze the Data"
   ]
  },
  {
   "cell_type": "markdown",
   "metadata": {},
   "source": [
    "### Concentrations of Metals (Au, Ag, Pb)"
   ]
  },
  {
   "cell_type": "code",
   "execution_count": 17,
   "metadata": {},
   "outputs": [
    {
     "data": {
      "image/png": "[encoded data removed]",
      "text/plain": [
       "<Figure size 800x600 with 1 Axes>"
      ]
     },
     "metadata": {},
     "output_type": "display_data"
    },
    {
     "data": {
      "image/png": "[encoded data removed]",
      "text/plain": [
       "<Figure size 800x600 with 1 Axes>"
      ]
     },
     "metadata": {},
     "output_type": "display_data"
    },
    {
     "data": {
      "image/png": "[encoded data removed]",
      "text/plain": [
       "<Figure size 800x600 with 1 Axes>"
      ]
     },
     "metadata": {},
     "output_type": "display_data"
    }
   ],
   "source": [
    "metals = ['au', 'ag', 'pb']\n",
    "stages = ['rougher.output.concentrate','primary_cleaner.output.concentrate', 'final.output.concentrate']\n",
    "\n",
    "for metal in metals:\n",
    "    plt.figure(figsize=(8, 6))\n",
    "    \n",
    "    for stage in stages:\n",
    "        column_name = f'{stage}_{metal}'\n",
    "        plt.hist(data[column_name], bins=40,alpha=0.5, label=stage, density=True)\n",
    "    \n",
    "    plt.title(f'Distribution of {metal.upper()} Concentrations Across Stages')\n",
    "    plt.xlabel('Concentration')\n",
    "    plt.ylabel('Density')\n",
    "    plt.legend()\n",
    "    plt.show(),"
   ]
  },
  {
   "cell_type": "markdown",
   "metadata": {},
   "source": [
    "<b>AU (Gold) Concentrations:</b>\n",
    "- **Rougher Stage**: The blue histogram shows initial concentrations, with a peak and a relatively narrow distribution.\n",
    "- **Primary Cleaner Stage**: The orange distribution indicates an increase in concentration, showcasing a shift to higher values.\n",
    "- **Final Concentrate**: The green histogram shows further purification, resulting in a distinct peak at higher concentrations, indicating effective separation and concentration of gold.\n",
    "\n",
    "<b>AG (Silver) Concentrations:</b>\n",
    "- **Rougher Stage**: The initial stage has low concentrations with some spread, as shown in blue.\n",
    "- **Primary Cleaner Stage**: There is a notable shift to higher concentrations in the orange histogram, demonstrating the transition.\n",
    "- **Final Concentrate**: The green distribution largely separates silver more effectively, concentrating it further into the optimal range, though with some overlap with earlier stages.\n",
    "\n",
    "<b>PB (Lead) Concentrations:</b>\n",
    "- **Rougher Stage**: The initial blue distribution exhibits moderate concentrations with a peak.\n",
    "- **Primary Cleaner Stage**: Concentrations increase, as seen in the orange histogram, with a shift and compression in distribution.\n",
    "- **Final Concentrate**: The final green histogram shows an even higher concentration, emphasizing a successful purification process.\n",
    "\n",
    "<b>Overall Observations:</b>\n",
    "- **Progressive Purification**: All three metals show a progression through stages, with effective increases in concentration, especially evident in the final concentrate.\n",
    "- **Distribution Patterns**: Each metal's distribution becomes more pronounced and shifted towards higher concentrations as purification advances, signaling enhanced separation efficiency during each stage.\n",
    "- **Implications for Process Optimization**: The results highlight the stages where improvements in extraction might yield more consistent or higher concentrations, offering insights into potential areas for process optimization."
   ]
  },
  {
   "cell_type": "markdown",
   "metadata": {},
   "source": [
    "###  Comparing the Feed Particle Size Distributions in the Training Set and in the Test Set."
   ]
  },
  {
   "cell_type": "code",
   "execution_count": 18,
   "metadata": {
    "scrolled": false
   },
   "outputs": [
    {
     "data": {
      "image/png": "[encoded data removed]",
      "text/plain": [
       "<Figure size 1400x600 with 1 Axes>"
      ]
     },
     "metadata": {},
     "output_type": "display_data"
    }
   ],
   "source": [
    "rough_feed_particle_size_col = 'rougher.input.feed_size'\n",
    "\n",
    "plt.figure(figsize=(14, 6))\n",
    "sns.histplot(train[rough_feed_particle_size_col], color='blue', label='Training Set', kde=True, stat=\"density\", line_kws={\"linewidth\": 2})\n",
    "sns.histplot(test[rough_feed_particle_size_col], color='orange', label='Test Set', kde=True, stat=\"density\", line_kws={\"linewidth\": 2})\n",
    "\n",
    "plt.title('Comparison of Rough Feed Particle Size Distributions')\n",
    "plt.xlabel('Particle Size')\n",
    "plt.ylabel('Density')\n",
    "plt.legend()\n",
    "plt.show()"
   ]
  },
  {
   "cell_type": "code",
   "execution_count": 19,
   "metadata": {},
   "outputs": [
    {
     "data": {
      "image/png": "[encoded data removed]",
      "text/plain": [
       "<Figure size 1400x600 with 1 Axes>"
      ]
     },
     "metadata": {},
     "output_type": "display_data"
    }
   ],
   "source": [
    "primary_feed_particle_size_col = 'primary_cleaner.input.feed_size'\n",
    "\n",
    "# Plot histograms for comparison\n",
    "plt.figure(figsize=(14, 6))\n",
    "sns.histplot(train[primary_feed_particle_size_col], color='blue', label='Training Set', kde=True, stat=\"density\", line_kws={\"linewidth\": 2})\n",
    "sns.histplot(test[primary_feed_particle_size_col], color='orange', label='Test Set', kde=True, stat=\"density\", line_kws={\"linewidth\": 2})\n",
    "\n",
    "plt.title('Comparison of Primary Feed Particle Size Distributions')\n",
    "plt.xlabel('Particle Size')\n",
    "plt.ylabel('Density')\n",
    "plt.legend()\n",
    "plt.show()"
   ]
  },
  {
   "cell_type": "markdown",
   "metadata": {},
   "source": [
    "We can see with the rougher input we have a higher concentration in particle size, which is normal because we are starting with a larger amount to go through the purification process before going through the primary which holds much less. Based on these two graphs we can see they are similar enough to be used in ML model."
   ]
  },
  {
   "cell_type": "markdown",
   "metadata": {},
   "source": [
    "### Total Concentrations of All Substances at Different Stages"
   ]
  },
  {
   "cell_type": "code",
   "execution_count": 20,
   "metadata": {
    "scrolled": true
   },
   "outputs": [
    {
     "data": {
      "image/png": "[encoded data removed]",
      "text/plain": [
       "<Figure size 1400x600 with 3 Axes>"
      ]
     },
     "metadata": {},
     "output_type": "display_data"
    },
    {
     "name": "stdout",
     "output_type": "stream",
     "text": [
      "Detected anomalies in total_raw:\n",
      "                      date  final.output.concentrate_ag  \\\n",
      "49     2016-01-17 01:00:00                     7.256114   \n",
      "99     2016-01-19 03:00:00                     0.000000   \n",
      "100    2016-01-19 04:00:00                     0.000000   \n",
      "101    2016-01-19 05:00:00                     0.000000   \n",
      "102    2016-01-19 06:00:00                     0.000000   \n",
      "...                    ...                          ...   \n",
      "16609  2018-08-08 00:59:59                     0.010000   \n",
      "16610  2018-08-08 01:59:59                     0.010000   \n",
      "16611  2018-08-08 02:59:59                     0.010000   \n",
      "16704  2018-08-11 23:59:59                     4.263868   \n",
      "16705  2018-08-12 00:59:59                     4.685093   \n",
      "\n",
      "       final.output.concentrate_pb  final.output.concentrate_sol  \\\n",
      "49                        9.017677                      5.688961   \n",
      "99                        0.000000                      0.000000   \n",
      "100                       0.000000                      0.000000   \n",
      "101                       0.000000                      0.000000   \n",
      "102                       0.000000                      0.000000   \n",
      "...                            ...                           ...   \n",
      "16609                     0.010000                      0.010000   \n",
      "16610                     0.010000                      0.010000   \n",
      "16611                     0.010000                      0.010000   \n",
      "16704                     8.682877                      9.160624   \n",
      "16705                     9.211801                      9.412346   \n",
      "\n",
      "       final.output.concentrate_au  final.output.recovery  \\\n",
      "49                       43.389252              41.962008   \n",
      "99                        0.000000              58.017871   \n",
      "100                       0.000000              58.017871   \n",
      "101                       0.000000              58.017871   \n",
      "102                       0.000000              58.017871   \n",
      "...                            ...                    ...   \n",
      "16609                     0.010000             100.000000   \n",
      "16610                     0.010000             100.000000   \n",
      "16611                     0.010000             100.000000   \n",
      "16704                    46.757670              65.024068   \n",
      "16705                    45.733777              61.713031   \n",
      "\n",
      "       final.output.tail_ag  final.output.tail_pb  final.output.tail_sol  \\\n",
      "49                12.100582              1.758360               4.606019   \n",
      "99                 0.000000              0.000000               0.000000   \n",
      "100                0.000000              0.000000               0.000000   \n",
      "101                0.000000              0.000000               0.000000   \n",
      "102                0.000000              0.000000               0.000000   \n",
      "...                     ...                   ...                    ...   \n",
      "16609              0.000000              0.000000               0.000000   \n",
      "16610              0.000000              0.000000               0.000000   \n",
      "16611              0.000000              0.000000               0.000000   \n",
      "16704             16.533954              5.165172               9.190189   \n",
      "16705             17.537357              5.506821               9.448905   \n",
      "\n",
      "       final.output.tail_au  ...  secondary_cleaner.state.floatbank5_a_air  \\\n",
      "49                 3.202483  ...                                 10.094584   \n",
      "99                 0.000000  ...                                  9.974968   \n",
      "100                0.000000  ...                                  9.898782   \n",
      "101                0.000000  ...                                  9.956309   \n",
      "102                0.000000  ...                                  9.966952   \n",
      "...                     ...  ...                                       ...   \n",
      "16609              0.000000  ...                                 22.989484   \n",
      "16610              0.000000  ...                                 23.009416   \n",
      "16611              0.000000  ...                                 23.000425   \n",
      "16704              5.012565  ...                                 18.016544   \n",
      "16705              5.489422  ...                                 18.007256   \n",
      "\n",
      "       secondary_cleaner.state.floatbank5_a_level  \\\n",
      "49                                    -492.041563   \n",
      "99                                    -497.092974   \n",
      "100                                   -499.623262   \n",
      "101                                   -499.791870   \n",
      "102                                   -499.842458   \n",
      "...                                           ...   \n",
      "16609                                 -499.548578   \n",
      "16610                                 -499.652150   \n",
      "16611                                 -499.426160   \n",
      "16704                                 -500.318426   \n",
      "16705                                 -499.326843   \n",
      "\n",
      "       secondary_cleaner.state.floatbank5_b_air  \\\n",
      "49                                     8.054770   \n",
      "99                                     7.953962   \n",
      "100                                    7.979302   \n",
      "101                                    7.978806   \n",
      "102                                    8.053455   \n",
      "...                                         ...   \n",
      "16609                                 18.004011   \n",
      "16610                                 17.987770   \n",
      "16611                                 18.012593   \n",
      "16704                                 12.964212   \n",
      "16705                                 12.973971   \n",
      "\n",
      "       secondary_cleaner.state.floatbank5_b_level  \\\n",
      "49                                    -498.802262   \n",
      "99                                    -499.698442   \n",
      "100                                   -500.283366   \n",
      "101                                   -500.202026   \n",
      "102                                   -499.588522   \n",
      "...                                           ...   \n",
      "16609                                 -499.946969   \n",
      "16610                                 -500.000859   \n",
      "16611                                 -500.220360   \n",
      "16704                                 -500.192786   \n",
      "16705                                 -499.834193   \n",
      "\n",
      "       secondary_cleaner.state.floatbank6_a_air  \\\n",
      "49                                    11.961330   \n",
      "99                                    11.941642   \n",
      "100                                   11.959950   \n",
      "101                                   11.987839   \n",
      "102                                   11.987935   \n",
      "...                                         ...   \n",
      "16609                                 22.988480   \n",
      "16610                                 23.029839   \n",
      "16611                                 22.982547   \n",
      "16704                                 18.009216   \n",
      "16705                                 18.729673   \n",
      "\n",
      "       secondary_cleaner.state.floatbank6_a_level  calculated_recovery  \\\n",
      "49                                    -597.272218             0.000000   \n",
      "99                                    -598.541756            26.275908   \n",
      "100                                   -600.998301            26.275908   \n",
      "101                                   -600.302819            26.275908   \n",
      "102                                   -600.523057            26.275908   \n",
      "...                                           ...                  ...   \n",
      "16609                                 -529.571034        -68360.243330   \n",
      "16610                                 -567.805886        -68360.243330   \n",
      "16611                                 -739.060096        -68360.243330   \n",
      "16704                                 -501.781752            93.190145   \n",
      "16705                                 -504.984852            92.097393   \n",
      "\n",
      "       total_raw  total_rougher  total_final  \n",
      "49      0.088703       0.000000    59.663042  \n",
      "99      0.000000       0.000000     0.000000  \n",
      "100     0.000000       0.000000     0.000000  \n",
      "101     0.000000       0.000000     0.000000  \n",
      "102     0.000000       0.000000     0.000000  \n",
      "...          ...            ...          ...  \n",
      "16609   0.030000       0.030000     0.030000  \n",
      "16610   0.030000       0.030000     0.030000  \n",
      "16611   0.030000       0.030000     0.030000  \n",
      "16704  31.947356      45.356983    59.704415  \n",
      "16705  32.194394      45.124635    59.630671  \n",
      "\n",
      "[1720 rows x 91 columns]\n",
      "Detected anomalies in total_rougher:\n",
      "                      date  final.output.concentrate_ag  \\\n",
      "44     2016-01-16 20:00:00                     4.681668   \n",
      "45     2016-01-16 21:00:00                     4.566664   \n",
      "46     2016-01-16 22:00:00                     4.577832   \n",
      "47     2016-01-16 23:00:00                     4.591462   \n",
      "48     2016-01-17 00:00:00                     5.296830   \n",
      "...                    ...                          ...   \n",
      "16697  2018-08-11 16:59:59                     3.958494   \n",
      "16698  2018-08-11 17:59:59                     4.004948   \n",
      "16699  2018-08-11 18:59:59                     3.725068   \n",
      "16700  2018-08-11 19:59:59                     3.455061   \n",
      "16701  2018-08-11 20:59:59                     3.567320   \n",
      "\n",
      "       final.output.concentrate_pb  final.output.concentrate_sol  \\\n",
      "44                       10.491870                      4.903246   \n",
      "45                       10.406178                      4.588698   \n",
      "46                       10.691605                      5.274175   \n",
      "47                       10.628846                      5.688961   \n",
      "48                       10.597469                      5.688961   \n",
      "...                            ...                           ...   \n",
      "16697                    10.765712                      7.887805   \n",
      "16698                     9.668969                      8.652235   \n",
      "16699                     8.274357                      8.841145   \n",
      "16700                     7.840984                      8.833333   \n",
      "16701                     7.873250                      8.615208   \n",
      "\n",
      "       final.output.concentrate_au  final.output.recovery  \\\n",
      "44                       46.210368              63.219092   \n",
      "45                       46.614456              68.403877   \n",
      "46                       46.250638              70.675633   \n",
      "47                       46.663335              55.088448   \n",
      "48                       44.015642              41.962008   \n",
      "...                            ...                    ...   \n",
      "16697                    46.249962              70.871419   \n",
      "16698                    46.803491              56.203095   \n",
      "16699                    48.654627              49.317741   \n",
      "16700                    49.429785              50.760512   \n",
      "16701                    49.602848              53.019959   \n",
      "\n",
      "       final.output.tail_ag  final.output.tail_pb  final.output.tail_sol  \\\n",
      "44                10.426339              1.398560              18.459235   \n",
      "45                10.705777              1.509070              17.875134   \n",
      "46                10.728531              1.641216              18.349339   \n",
      "47                10.694584              1.671644              17.910312   \n",
      "48                11.975654              1.846558               8.138408   \n",
      "...                     ...                   ...                    ...   \n",
      "16697             14.793868              4.400949               8.613606   \n",
      "16698             16.301126              5.009660               9.603387   \n",
      "16699             16.118560              5.002483              10.102624   \n",
      "16700             15.543128              4.780950               9.944061   \n",
      "16701             16.177795              4.916824              10.082170   \n",
      "\n",
      "       final.output.tail_au  ...  secondary_cleaner.state.floatbank5_a_air  \\\n",
      "44                 2.679610  ...                                 10.038712   \n",
      "45                 2.509776  ...                                 10.052072   \n",
      "46                 2.540843  ...                                  9.953139   \n",
      "47                 2.686782  ...                                  9.981163   \n",
      "48                 2.889469  ...                                  9.989726   \n",
      "...                     ...  ...                                       ...   \n",
      "16697              3.868595  ...                                 17.982038   \n",
      "16698              5.517890  ...                                 18.000712   \n",
      "16699              5.733715  ...                                 17.968434   \n",
      "16700              5.851795  ...                                 17.955487   \n",
      "16701              6.111331  ...                                 17.981863   \n",
      "\n",
      "       secondary_cleaner.state.floatbank5_a_level  \\\n",
      "44                                    -499.966443   \n",
      "45                                    -500.797905   \n",
      "46                                    -500.330920   \n",
      "47                                    -502.869109   \n",
      "48                                    -499.607365   \n",
      "...                                           ...   \n",
      "16697                                 -499.849382   \n",
      "16698                                 -500.307173   \n",
      "16699                                 -501.021691   \n",
      "16700                                 -499.845317   \n",
      "16701                                 -498.675906   \n",
      "\n",
      "       secondary_cleaner.state.floatbank5_b_air  \\\n",
      "44                                     8.026803   \n",
      "45                                     7.984500   \n",
      "46                                     8.012074   \n",
      "47                                     7.941184   \n",
      "48                                     7.958252   \n",
      "...                                         ...   \n",
      "16697                                 12.989903   \n",
      "16698                                 13.019299   \n",
      "16699                                 12.960565   \n",
      "16700                                 13.024346   \n",
      "16701                                 12.979300   \n",
      "\n",
      "       secondary_cleaner.state.floatbank5_b_level  \\\n",
      "44                                    -499.588413   \n",
      "45                                    -499.581046   \n",
      "46                                    -500.133530   \n",
      "47                                    -500.623610   \n",
      "48                                    -498.882560   \n",
      "...                                           ...   \n",
      "16697                                 -500.207022   \n",
      "16698                                 -500.132894   \n",
      "16699                                 -500.076888   \n",
      "16700                                 -500.219297   \n",
      "16701                                 -499.871272   \n",
      "\n",
      "       secondary_cleaner.state.floatbank6_a_air  \\\n",
      "44                                    12.033175   \n",
      "45                                    11.982025   \n",
      "46                                    11.975316   \n",
      "47                                    12.018837   \n",
      "48                                    11.967977   \n",
      "...                                         ...   \n",
      "16697                                 17.997144   \n",
      "16698                                 18.010586   \n",
      "16699                                 17.994091   \n",
      "16700                                 17.989071   \n",
      "16701                                 17.987102   \n",
      "\n",
      "       secondary_cleaner.state.floatbank6_a_level  calculated_recovery  \\\n",
      "44                                    -599.308069            91.408585   \n",
      "45                                    -599.161228            -0.000000   \n",
      "46                                    -598.839683            -0.000000   \n",
      "47                                    -600.916665            -0.000000   \n",
      "48                                    -599.440603            -0.000000   \n",
      "...                                           ...                  ...   \n",
      "16697                                 -501.774775           112.957805   \n",
      "16698                                 -502.012474           100.442153   \n",
      "16699                                 -504.227412            -0.482567   \n",
      "16700                                 -502.324529            -0.584325   \n",
      "16701                                 -499.191760            -1.498298   \n",
      "\n",
      "       total_raw  total_rougher  total_final  \n",
      "44     16.323184      17.248272    61.383906  \n",
      "45     17.447608       0.000000    61.587298  \n",
      "46     17.938550       0.000000    61.520075  \n",
      "47     15.285978       0.000000    61.883643  \n",
      "48     13.535634       0.000000    59.909941  \n",
      "...          ...            ...          ...  \n",
      "16697  29.779707      12.051587    60.974169  \n",
      "16698  29.472286      22.661351    60.477408  \n",
      "16699  27.324870       0.030000    60.654053  \n",
      "16700  28.949252       0.030000    60.725830  \n",
      "16701  31.252982       0.079149    61.043417  \n",
      "\n",
      "[1143 rows x 91 columns]\n",
      "Detected anomalies in total_final:\n",
      "                      date  final.output.concentrate_ag  \\\n",
      "320    2016-01-28 08:00:00                    11.525055   \n",
      "357    2016-01-29 21:00:00                     4.064796   \n",
      "377    2016-01-30 17:00:00                    12.057372   \n",
      "383    2016-01-30 23:00:00                    14.226653   \n",
      "384    2016-01-31 00:00:00                    14.253779   \n",
      "...                    ...                          ...   \n",
      "16757  2018-08-14 04:59:59                     4.099875   \n",
      "16770  2018-08-14 17:59:59                     4.332390   \n",
      "16801  2018-08-16 00:59:59                     6.322357   \n",
      "16802  2018-08-16 01:59:59                     7.200994   \n",
      "16803  2018-08-16 02:59:59                     6.936855   \n",
      "\n",
      "       final.output.concentrate_pb  final.output.concentrate_sol  \\\n",
      "320                      16.705297                      5.818597   \n",
      "357                       4.809551                      7.720092   \n",
      "377                       5.933298                      7.215985   \n",
      "383                       7.001975                      0.000000   \n",
      "384                       6.848036                      0.000000   \n",
      "...                            ...                           ...   \n",
      "16757                     6.772591                      9.244310   \n",
      "16770                     8.690369                      8.200927   \n",
      "16801                    10.623332                      7.846347   \n",
      "16802                     9.863599                      9.429703   \n",
      "16803                     9.163902                      9.457419   \n",
      "\n",
      "       final.output.concentrate_au  final.output.recovery  \\\n",
      "320                      24.851868              37.920986   \n",
      "357                      21.483270              59.835825   \n",
      "377                      36.597453               2.080672   \n",
      "383                      42.994062              45.974833   \n",
      "384                      42.918506              44.006641   \n",
      "...                            ...                    ...   \n",
      "16757                    45.393300              79.158868   \n",
      "16770                    40.457456              77.456727   \n",
      "16801                    38.769032              48.622700   \n",
      "16802                    32.852508              48.622700   \n",
      "16803                    37.019149              48.622700   \n",
      "\n",
      "       final.output.tail_ag  final.output.tail_pb  final.output.tail_sol  \\\n",
      "320               10.306173              1.467817              13.864032   \n",
      "357                5.760116              0.725093               1.864031   \n",
      "377                7.423259              2.750497              12.908152   \n",
      "383               11.847805              1.659380               1.666695   \n",
      "384               11.625325              1.865734               4.277659   \n",
      "...                     ...                   ...                    ...   \n",
      "16757             12.882392              1.880328              10.205859   \n",
      "16770             14.719208              3.965467              10.460027   \n",
      "16801              7.882667              1.156936               9.327056   \n",
      "16802              7.735677              1.228643               9.639292   \n",
      "16803              7.538540              1.054781               9.533425   \n",
      "\n",
      "       final.output.tail_au  ...  secondary_cleaner.state.floatbank5_a_air  \\\n",
      "320                5.839019  ...                                  9.957589   \n",
      "357                1.461078  ...                                  3.506170   \n",
      "377                7.723369  ...                                 -0.240355   \n",
      "383                4.017630  ...                                 13.875624   \n",
      "384                4.238519  ...                                 13.927501   \n",
      "...                     ...  ...                                       ...   \n",
      "16757              1.425143  ...                                 17.974303   \n",
      "16770              2.225730  ...                                 17.957003   \n",
      "16801              2.465185  ...                                 17.947828   \n",
      "16802              3.214806  ...                                 17.956198   \n",
      "16803              2.431493  ...                                 17.987928   \n",
      "\n",
      "       secondary_cleaner.state.floatbank5_a_level  \\\n",
      "320                                   -590.919659   \n",
      "357                                   -697.694986   \n",
      "377                                   -499.284554   \n",
      "383                                   -500.111147   \n",
      "384                                   -496.745029   \n",
      "...                                           ...   \n",
      "16757                                 -500.001921   \n",
      "16770                                 -500.321409   \n",
      "16801                                 -498.512344   \n",
      "16802                                 -500.256076   \n",
      "16803                                 -500.403729   \n",
      "\n",
      "       secondary_cleaner.state.floatbank5_b_air  \\\n",
      "320                                    8.018087   \n",
      "357                                    3.633213   \n",
      "377                                    0.638377   \n",
      "383                                   13.976719   \n",
      "384                                   13.988433   \n",
      "...                                         ...   \n",
      "16757                                 13.014514   \n",
      "16770                                 12.994842   \n",
      "16801                                 13.008729   \n",
      "16802                                 13.040716   \n",
      "16803                                 12.948256   \n",
      "\n",
      "       secondary_cleaner.state.floatbank5_b_level  \\\n",
      "320                                   -599.316783   \n",
      "357                                   -503.340847   \n",
      "377                                   -500.057003   \n",
      "383                                   -500.037469   \n",
      "384                                   -500.606669   \n",
      "...                                           ...   \n",
      "16757                                 -499.966115   \n",
      "16770                                 -500.157822   \n",
      "16801                                 -499.945076   \n",
      "16802                                 -499.976841   \n",
      "16803                                 -500.204141   \n",
      "\n",
      "       secondary_cleaner.state.floatbank6_a_air  \\\n",
      "320                                   11.993517   \n",
      "357                                    3.848644   \n",
      "377                                    0.224307   \n",
      "383                                   15.983546   \n",
      "384                                   15.997891   \n",
      "...                                         ...   \n",
      "16757                                 19.996123   \n",
      "16770                                 19.997418   \n",
      "16801                                 20.003838   \n",
      "16802                                 19.981475   \n",
      "16803                                 20.012690   \n",
      "\n",
      "       secondary_cleaner.state.floatbank6_a_level  calculated_recovery  \\\n",
      "320                                   -596.586093            78.407318   \n",
      "357                                   -585.859760            77.662275   \n",
      "377                                   -499.506741          -116.312118   \n",
      "383                                   -500.340412          -116.312118   \n",
      "384                                   -499.931715          -116.312118   \n",
      "...                                           ...                  ...   \n",
      "16757                                 -501.913811            90.164075   \n",
      "16770                                 -504.291902            93.198677   \n",
      "16801                                 -525.931653            65.766364   \n",
      "16802                                 -566.369916            59.158827   \n",
      "16803                                 -532.547691            76.523306   \n",
      "\n",
      "       total_raw  total_rougher  total_final  \n",
      "320    23.403502      42.689941    53.082220  \n",
      "357     8.600173      44.467789    30.357618  \n",
      "377    10.298874      46.298627    54.588123  \n",
      "383    18.125268      41.240739    64.222691  \n",
      "384    17.997814      41.072119    64.020321  \n",
      "...          ...            ...          ...  \n",
      "16757  18.052782      37.668010    56.265766  \n",
      "16770  23.178119      43.287246    53.480216  \n",
      "16801   8.712915      43.831991    55.714721  \n",
      "16802   8.362027      43.269816    49.917102  \n",
      "16803   7.112946      43.311037    53.119905  \n",
      "\n",
      "[770 rows x 91 columns]\n"
     ]
    }
   ],
   "source": [
    "train['total_raw'] = train['rougher.input.feed_au'] + train['rougher.input.feed_ag'] + train['rougher.input.feed_pb']\n",
    "train['total_rougher'] = train['rougher.output.concentrate_au'] + train['rougher.output.concentrate_ag'] + train['rougher.output.concentrate_pb']\n",
    "train['total_final'] = train['final.output.concentrate_au'] + train['final.output.concentrate_ag'] + train['final.output.concentrate_pb']\n",
    "\n",
    "plt.figure(figsize=(14, 6))\n",
    "\n",
    "for i, stage in enumerate(['total_raw', 'total_rougher', 'total_final'], 1):\n",
    "    plt.subplot(1, 3, i)\n",
    "    sns.boxplot(y=train[stage])\n",
    "    plt.title(f'{stage} Concentration Distribution')\n",
    "\n",
    "plt.tight_layout()\n",
    "plt.show()\n",
    "\n",
    "\n",
    "for stage in ['total_raw', 'total_rougher', 'total_final']:\n",
    "    Q1 = train[stage].quantile(0.25)\n",
    "    Q3 = train[stage].quantile(0.75)\n",
    "    IQR = Q3 - Q1\n",
    "    lower_bound = Q1 - 1.5 * IQR\n",
    "    upper_bound = Q3 + 1.5 * IQR\n",
    "    anomalies = train[(train[stage] < lower_bound) | (train[stage] > upper_bound)]\n",
    "\n",
    "    \n",
    "    train = train[(train[stage] >= lower_bound) & (train[stage] <= upper_bound)]\n",
    "\n",
    "    print(f'Detected anomalies in {stage}:')\n",
    "    print(anomalies)"
   ]
  },
  {
   "cell_type": "markdown",
   "metadata": {},
   "source": [
    "We can see with the histogram that further into the purification there is a greater distribution. We want to keep what we can to have an more accurate model."
   ]
  },
  {
   "cell_type": "code",
   "execution_count": 21,
   "metadata": {},
   "outputs": [
    {
     "name": "stdout",
     "output_type": "stream",
     "text": [
      "Shape of the full dataset after handling abnormal values: (13227, 91)\n"
     ]
    }
   ],
   "source": [
    "abnormal_rows_au = train[(train['rougher.input.feed_au'] <= 0) | \n",
    "                        (train['rougher.output.concentrate_au'] <= 0) | \n",
    "                        (train['final.output.concentrate_au'] <= 0)]\n",
    "\n",
    "train = train.drop(abnormal_rows_au.index)\n",
    "\n",
    "print(\"Shape of the full dataset after handling abnormal values:\", train.shape)"
   ]
  },
  {
   "cell_type": "code",
   "execution_count": 22,
   "metadata": {},
   "outputs": [
    {
     "name": "stdout",
     "output_type": "stream",
     "text": [
      "Shape of the full dataset after handling abnormal values: (13227, 91)\n"
     ]
    }
   ],
   "source": [
    "abnormal_rows_ag = train[(train['rougher.input.feed_ag'] <= 0) | \n",
    "                        (train['rougher.output.concentrate_ag'] <= 0) | \n",
    "                        (train['final.output.concentrate_ag'] <= 0)]\n",
    "\n",
    "train = train.drop(abnormal_rows_ag.index)\n",
    "\n",
    "print(\"Shape of the full dataset after handling abnormal values:\", train.shape)"
   ]
  },
  {
   "cell_type": "code",
   "execution_count": 23,
   "metadata": {},
   "outputs": [
    {
     "name": "stdout",
     "output_type": "stream",
     "text": [
      "Shape of the full dataset after handling abnormal values: (13227, 91)\n"
     ]
    }
   ],
   "source": [
    "abnormal_rows_pb = train[(train['rougher.input.feed_pb'] <= 0) | \n",
    "                        (train['rougher.output.concentrate_pb'] <= 0) | \n",
    "                        (train['final.output.concentrate_pb'] <= 0)]\n",
    "\n",
    "train = train.drop(abnormal_rows_pb.index)\n",
    "\n",
    "print(\"Shape of the full dataset after handling abnormal values:\", train.shape)"
   ]
  },
  {
   "cell_type": "markdown",
   "metadata": {},
   "source": [
    "Any abnormal that is equal to or less than 0 is removed to keep a positive result."
   ]
  },
  {
   "cell_type": "markdown",
   "metadata": {},
   "source": [
    "## Building a Model"
   ]
  },
  {
   "cell_type": "markdown",
   "metadata": {},
   "source": [
    "### Function to Calculate the Final sMAPE Value"
   ]
  },
  {
   "cell_type": "code",
   "execution_count": 24,
   "metadata": {},
   "outputs": [],
   "source": [
    "def smape(y_true, y_pred):\n",
    "    numerator = np.abs(y_pred - y_true)\n",
    "    denominator = (np.abs(y_pred) + np.abs(y_true)) / 2\n",
    "    return 100 * np.mean(numerator / denominator)"
   ]
  },
  {
   "cell_type": "markdown",
   "metadata": {},
   "source": [
    "### Training Models"
   ]
  },
  {
   "cell_type": "code",
   "execution_count": 25,
   "metadata": {},
   "outputs": [],
   "source": [
    "from sklearn.model_selection import cross_val_score\n",
    "from sklearn.linear_model import LinearRegression\n",
    "from sklearn.ensemble import RandomForestRegressor\n",
    "\n",
    "target_1 = 'rougher.output.recovery'\n",
    "target_2 = 'final.output.recovery'\n",
    "\n",
    "# Features\n",
    "features = list(set(train.columns).intersection(set(test.columns)).difference(set([target_1, target_2, 'date'])))\n",
    "\n",
    "# Drop rows with missing target values\n",
    "train = train.dropna(subset=[target_1, target_2])\n",
    "test = test.dropna(subset=[target_1, target_2])\n",
    "\n",
    "# Split data into features and targets\n",
    "X_train = train[features].values\n",
    "y_train = train[[target_1, target_2]].values\n",
    "X_test = test[features].values\n",
    "y_test = test[[target_1, target_2]].values"
   ]
  },
  {
   "cell_type": "code",
   "execution_count": 26,
   "metadata": {},
   "outputs": [
    {
     "name": "stdout",
     "output_type": "stream",
     "text": [
      "Linear Regression Mean sMAPE CV Score: 9.217076757463454\n",
      "Random Forest Mean sMAPE CV Score: 8.406442631083456\n"
     ]
    }
   ],
   "source": [
    "from sklearn.metrics import make_scorer\n",
    "\n",
    "smape_scorer = make_scorer(smape, greater_is_better=False)\n",
    "\n",
    "models = {\n",
    "    \"Linear Regression\": LinearRegression(),\n",
    "    \"Random Forest\": RandomForestRegressor(),\n",
    "}\n",
    "\n",
    "# Perform cross-validation with sMAPE\n",
    "for model_name, model in models.items():\n",
    "    cv_scores = cross_val_score(model, X_train, y_train, cv=5, scoring=smape_scorer)\n",
    "    print(f\"{model_name} Mean sMAPE CV Score: {-cv_scores.mean()}\")"
   ]
  },
  {
   "cell_type": "markdown",
   "metadata": {},
   "source": [
    "In this model evaluation, both the Linear Regression and Random Forest algorithms were tested using mean sMAPE (Symmetric Mean Absolute Percentage Error) as the cross-validation metric.\n",
    "\n",
    "The Linear Regression model achieved a mean sMAPE score of 9.22%, indicating an average error of approximately 9.22% between the predicted and actual target values across the cross-validation folds.\n",
    "The Random Forest model performed slightly better with a mean sMAPE score of 8.64%, demonstrating an average error of around 8.64% in its predictions.\n",
    "\n",
    "Overall, the Random Forest model outperforms the Linear Regression model in terms of prediction accuracy as measured by sMAPE. This suggests that the Random Forest algorithm, which is more flexible and capable of capturing complex relationships in the data, provides a better fit for this particular multi-output regression task. However, both models achieve relatively low sMAPE values, indicating that the predictions are generally accurate."
   ]
  },
  {
   "cell_type": "code",
   "execution_count": 27,
   "metadata": {},
   "outputs": [
    {
     "name": "stdout",
     "output_type": "stream",
     "text": [
      "Best Parameters: {'max_depth': 10, 'max_features': 'log2', 'n_estimators': 63}\n",
      "Best CV sMAPE: 7.5595564527179135\n"
     ]
    }
   ],
   "source": [
    "from sklearn.model_selection import GridSearchCV\n",
    "from sklearn.metrics import make_scorer\n",
    "\n",
    "param_grid = {\n",
    "    'n_estimators': [63,64,65],\n",
    "    'max_depth': [10],\n",
    "    'max_features': ['log2']\n",
    "}\n",
    "\n",
    "# Initialize the RandomForestRegressor\n",
    "rf = RandomForestRegressor(random_state=42)\n",
    "\n",
    "# Define a custom scorer for sMAPE (since it's not directly available in sklearn)\n",
    "smape_scorer = make_scorer(lambda y_true, y_pred: smape(y_true, y_pred), greater_is_better=False)\n",
    "\n",
    "# Initialize GridSearchCV\n",
    "grid_search = GridSearchCV(estimator=rf, param_grid=param_grid, scoring=smape_scorer, cv=5, n_jobs=-1)\n",
    "\n",
    "# Fit GridSearchCV\n",
    "grid_search.fit(X_train, y_train)\n",
    "\n",
    "# Print the best parameters and the best sMAPE score\n",
    "print(\"Best Parameters:\", grid_search.best_params_)\n",
    "print(\"Best CV sMAPE:\", -grid_search.best_score_)"
   ]
  },
  {
   "cell_type": "code",
   "execution_count": 36,
   "metadata": {},
   "outputs": [
    {
     "name": "stdout",
     "output_type": "stream",
     "text": [
      "sMAPE for rougher.output.recovery: 15.49058833399716\n",
      "sMAPE for final.output.recovery: 14.594240102691582\n"
     ]
    }
   ],
   "source": [
    "best_model = RandomForestRegressor(random_state=42, n_estimators=63, max_depth=10, max_features='log2')\n",
    "\n",
    "# Fit the model\n",
    "best_model.fit(X_train, y_train)\n",
    "\n",
    "# Predict on the test data\n",
    "y_test_pred = best_model.predict(X_test)\n",
    "\n",
    "# Calculate sMAPE for each target separately\n",
    "smape_target_1 = smape(y_test[:, 0], y_test_pred[:, 0])\n",
    "smape_target_2 = smape(y_test[:, 1], y_test_pred[:, 1])\n",
    "print(f\"sMAPE for {target_1}: {smape_target_1}\")\n",
    "print(f\"sMAPE for {target_2}: {smape_target_2}\")"
   ]
  },
  {
   "cell_type": "markdown",
   "metadata": {},
   "source": [
    "The evaluation of the model's performance on the two target variables, rougher.output.recovery and final.output.recovery, yielded the following results:\n",
    "\n",
    "- The sMAPE for rougher.output.recovery is 15.49%, indicating an average prediction error of about 15.60% for this target variable.\n",
    "- The sMAPE for final.output.recovery is slightly lower at 14.59%, suggesting a marginally better prediction accuracy for the second target.\n",
    "\n",
    "Both targets show reasonable levels of accuracy, with sMAPE values that are typical for regression tasks involving real-world, noisy datasets. The small difference in performance between the two targets indicates that the model's ability to predict the rougher.output.recovery target could be slightly improved, though both targets exhibit similar levels of predictive performance"
   ]
  },
  {
   "cell_type": "code",
   "execution_count": 37,
   "metadata": {},
   "outputs": [
    {
     "name": "stdout",
     "output_type": "stream",
     "text": [
      "x_test shape: (5856, 52)\n",
      "y_test shape: (5856, 2)\n",
      "y_test_pred shape: (5856, 2)\n"
     ]
    }
   ],
   "source": [
    "print(f\"x_test shape: {X_test.shape}\")\n",
    "print(f\"y_test shape: {y_test.shape}\")\n",
    "print(f\"y_test_pred shape: {y_test_pred.shape}\")"
   ]
  },
  {
   "cell_type": "code",
   "execution_count": 38,
   "metadata": {},
   "outputs": [],
   "source": [
    "def weighted_smape(y_true, y_pred, weights):\n",
    "    smape_values = np.array([smape(y_true[:, i], y_pred[:, i]) for i in range(y_true.shape[1])])\n",
    "    return np.sum(smape_values * weights)"
   ]
  },
  {
   "cell_type": "code",
   "execution_count": 39,
   "metadata": {},
   "outputs": [
    {
     "name": "stdout",
     "output_type": "stream",
     "text": [
      "Weighted sMAPE: 14.818327160517976\n",
      "sMAPE for rougher.output.recovery: 15.49058833399716\n",
      "sMAPE for final.output.recovery: 14.594240102691582\n"
     ]
    }
   ],
   "source": [
    "weights = [0.25, 0.75]\n",
    "\n",
    "# Compute the final weighted sMAPE\n",
    "final_weighted_smape = weighted_smape(y_test, y_test_pred, weights)\n",
    "print(f\"Weighted sMAPE: {final_weighted_smape}\")\n",
    "\n",
    "# Compute individual sMAPE for each target\n",
    "smape_target_1 = smape(y_test[:, 0], y_test_pred[:, 0])  # sMAPE for the first target\n",
    "smape_target_2 = smape(y_test[:, 1], y_test_pred[:, 1])  # sMAPE for the second target\n",
    "\n",
    "print(f\"sMAPE for {target_1}: {smape_target_1}\")\n",
    "print(f\"sMAPE for {target_2}: {smape_target_2}\")"
   ]
  },
  {
   "cell_type": "markdown",
   "metadata": {},
   "source": [
    "The model's performance, evaluated using sMAPE (Symmetric Mean Absolute Percentage Error), provides insight into its accuracy for predicting two key target variables:\n",
    "\n",
    "- The weighted sMAPE across both targets is 14.82%, reflecting the average prediction error when considering the importance of each target. This weighted metric combines the individual errors of both targets, offering a balanced view of the model’s overall performance.\n",
    "\n",
    "- The sMAPE for rougher.output.recovery is 15.49%, which indicates a higher level of prediction error for this target. The model appears to struggle slightly more with this variable compared to the second target.\n",
    "\n",
    "- The sMAPE for final.output.recovery is 14.59%, showing slightly better predictive accuracy for this target, albeit the difference between the two sMAPE values is relatively small.\n",
    "\n",
    "Overall, the model performs reasonably well, with a weighted sMAPE of 15.15% indicating that, on average, predictions for both targets are fairly close to the actual values. While the final.output.recovery target exhibits slightly better predictive performance, the difference in sMAPE values between the two targets suggests that further model improvements could lead to more balanced and accurate predictions across both outputs."
   ]
  },
  {
   "cell_type": "code",
   "execution_count": 40,
   "metadata": {},
   "outputs": [
    {
     "name": "stdout",
     "output_type": "stream",
     "text": [
      "Best Model sMAPE: 14.818327160517976\n",
      "Constant Model sMAPE: 13.62365255146259\n"
     ]
    }
   ],
   "source": [
    "from sklearn.dummy import DummyRegressor\n",
    "\n",
    "best_model_predictions = best_model.predict(X_test)\n",
    "best_model_smape = weighted_smape(y_test, best_model_predictions,weights)\n",
    "\n",
    "constant_model = DummyRegressor()\n",
    "constant_model.fit(X_train, y_train)\n",
    "constant_predictions = constant_model.predict(X_test)\n",
    "constant_model_smape = weighted_smape(y_test, constant_predictions,weights)\n",
    "\n",
    "\n",
    "print(f'Best Model sMAPE: {best_model_smape}')\n",
    "print(f'Constant Model sMAPE: {constant_model_smape}')"
   ]
  },
  {
   "cell_type": "markdown",
   "metadata": {},
   "source": [
    "In this analysis, we sought to evaluate the efficacy of our predictive modeling approach by comparing it against a baseline constant model. Using the symmetric Mean Absolute Percentage Error (sMAPE) as our performance metric, we arrived at the following results:\n",
    "\n",
    "**Model Comparison**:\n",
    "\n",
    "- Best Model sMAPE: 14.81%\n",
    "- Constant Model sMAPE: 13.62%\n",
    "\n",
    "**Analysis**:\n",
    "\n",
    "The best predictive model achieved an sMAPE of 14.83%, indicating a reasonably accurate forecast given the complexities of the underlying data.\n",
    "\n",
    "Interestingly, the constant model, which predicts the same average value across all instances, resulted in a slightly lower sMAPE at 13.62%. This outcome suggests that the predictive model's performance is comparable to a naive prediction strategy."
   ]
  },
  {
   "cell_type": "markdown",
   "metadata": {},
   "source": [
    "## Conclusion"
   ]
  },
  {
   "cell_type": "markdown",
   "metadata": {},
   "source": [
    "In our analysis of predicting metal recovery rates using various models, the Random Forest model demonstrated superior performance over constant baseline models. Specifically, the Random Forest achieved a symmetric Mean Absolute Percentage Error (sMAPE). This indicates that the Random Forest model successfully captures the underlying patterns in the data beyond simple central tendencies.\n",
    "\n",
    "**Key Observations**:\n",
    "The Random Forest model's performance suggests it can effectively handle the complexity and variability present in the dataset, reducing prediction error compared to straightforward methods.\n",
    "The significantly lower sMAPE of the Random Forest model further emphasizes its efficiency in providing accurate and reliable percentage-based predictions, crucial for understanding recovery rate fluctuations.\n",
    "\n",
    "**Validation and Next Steps**:\n",
    "We have ensured model robustness through cross-validation and comparative analysis with baseline models.\n",
    "As part of future enhancements, we recommend exploring additional feature engineering and advanced machine learning techniques to further improve predictive accuracy.\n",
    "Continuous collaboration with domain experts is essential for aligning model predictions with operational needs and industry standards.\n",
    "Subsequently, with satisfactory validation, we can proceed towards integrating the model into production to support decision-making processes related to metal recovery optimizations.\n",
    "\n",
    "**Overall, the modeling efforts have successfully demonstrated the Random Forest's capability in providing actionable insights and its potential for impactful deployments within industry applications.**"
   ]
  }
 ],
 "metadata": {
  "ExecuteTimeLog": [
   {
    "duration": 2162,
    "start_time": "2024-10-28T20:11:40.089Z"
   },
   {
    "duration": 521,
    "start_time": "2024-10-28T20:11:42.552Z"
   },
   {
    "duration": 577,
    "start_time": "2024-10-28T20:11:55.847Z"
   },
   {
    "duration": 41,
    "start_time": "2024-10-28T20:11:58.627Z"
   },
   {
    "duration": 5,
    "start_time": "2024-10-28T20:15:38.283Z"
   },
   {
    "duration": 490,
    "start_time": "2024-10-28T20:16:05.496Z"
   },
   {
    "duration": 688,
    "start_time": "2024-10-28T20:17:57.002Z"
   },
   {
    "duration": 42,
    "start_time": "2024-10-28T20:18:58.590Z"
   },
   {
    "duration": 43,
    "start_time": "2024-10-28T21:47:30.775Z"
   },
   {
    "duration": 18,
    "start_time": "2024-10-28T21:51:07.032Z"
   },
   {
    "duration": 26,
    "start_time": "2024-10-28T21:51:33.426Z"
   },
   {
    "duration": 3,
    "start_time": "2024-10-28T21:54:03.504Z"
   },
   {
    "duration": 17,
    "start_time": "2024-10-28T21:54:06.005Z"
   },
   {
    "duration": 217,
    "start_time": "2024-10-28T21:54:16.615Z"
   },
   {
    "duration": 2558,
    "start_time": "2024-11-02T04:03:03.161Z"
   },
   {
    "duration": 624,
    "start_time": "2024-11-02T04:03:05.721Z"
   },
   {
    "duration": 46,
    "start_time": "2024-11-02T04:03:06.348Z"
   },
   {
    "duration": 27,
    "start_time": "2024-11-02T04:03:06.395Z"
   },
   {
    "duration": 387,
    "start_time": "2024-11-02T04:03:06.424Z"
   },
   {
    "duration": 8,
    "start_time": "2024-11-02T04:03:37.334Z"
   },
   {
    "duration": 13,
    "start_time": "2024-11-02T04:04:28.472Z"
   },
   {
    "duration": 29,
    "start_time": "2024-11-02T04:05:10.106Z"
   },
   {
    "duration": 9,
    "start_time": "2024-11-02T04:06:12.844Z"
   },
   {
    "duration": 6,
    "start_time": "2024-11-02T04:06:45.769Z"
   },
   {
    "duration": 15,
    "start_time": "2024-11-02T04:10:00.959Z"
   },
   {
    "duration": 5,
    "start_time": "2024-11-02T04:10:14.989Z"
   },
   {
    "duration": 12,
    "start_time": "2024-11-02T04:16:28.521Z"
   },
   {
    "duration": 138,
    "start_time": "2024-11-02T04:16:32.860Z"
   },
   {
    "duration": 85,
    "start_time": "2024-11-02T04:16:50.203Z"
   },
   {
    "duration": 164,
    "start_time": "2024-11-02T04:17:19.722Z"
   },
   {
    "duration": 6,
    "start_time": "2024-11-02T04:18:43.397Z"
   },
   {
    "duration": 18,
    "start_time": "2024-11-02T04:24:07.987Z"
   },
   {
    "duration": 69,
    "start_time": "2024-11-02T04:24:23.198Z"
   },
   {
    "duration": 23,
    "start_time": "2024-11-02T04:24:26.810Z"
   },
   {
    "duration": 715,
    "start_time": "2024-11-02T04:24:38.345Z"
   },
   {
    "duration": 18,
    "start_time": "2024-11-02T04:25:37.581Z"
   },
   {
    "duration": 1178,
    "start_time": "2024-11-02T04:25:57.765Z"
   },
   {
    "duration": 5,
    "start_time": "2024-11-02T04:26:55.598Z"
   },
   {
    "duration": 31,
    "start_time": "2024-11-02T04:27:26.510Z"
   },
   {
    "duration": 439,
    "start_time": "2024-11-02T04:27:42.940Z"
   },
   {
    "duration": 56,
    "start_time": "2024-11-02T04:28:16.139Z"
   },
   {
    "duration": 12,
    "start_time": "2024-11-02T04:28:54.695Z"
   },
   {
    "duration": 3,
    "start_time": "2024-11-02T04:28:58.897Z"
   },
   {
    "duration": 57,
    "start_time": "2024-11-02T04:30:29.080Z"
   },
   {
    "duration": 56,
    "start_time": "2024-11-02T04:30:55.083Z"
   },
   {
    "duration": 56,
    "start_time": "2024-11-02T04:32:09.363Z"
   },
   {
    "duration": 215,
    "start_time": "2024-11-02T04:32:51.418Z"
   },
   {
    "duration": 975,
    "start_time": "2024-11-02T04:36:39.936Z"
   },
   {
    "duration": 487,
    "start_time": "2024-11-02T04:36:40.913Z"
   },
   {
    "duration": 45,
    "start_time": "2024-11-02T04:36:41.402Z"
   },
   {
    "duration": 175,
    "start_time": "2024-11-02T04:36:41.450Z"
   },
   {
    "duration": 97,
    "start_time": "2024-11-02T04:36:41.626Z"
   },
   {
    "duration": 169,
    "start_time": "2024-11-02T04:36:41.725Z"
   },
   {
    "duration": 10,
    "start_time": "2024-11-02T04:36:41.895Z"
   },
   {
    "duration": 10,
    "start_time": "2024-11-02T04:36:41.907Z"
   },
   {
    "duration": 5,
    "start_time": "2024-11-02T04:36:41.919Z"
   },
   {
    "duration": 5,
    "start_time": "2024-11-02T04:36:41.926Z"
   },
   {
    "duration": 9,
    "start_time": "2024-11-02T04:36:41.933Z"
   },
   {
    "duration": 4,
    "start_time": "2024-11-02T04:36:41.943Z"
   },
   {
    "duration": 190,
    "start_time": "2024-11-02T04:36:41.949Z"
   },
   {
    "duration": 752,
    "start_time": "2024-11-02T04:36:42.141Z"
   },
   {
    "duration": 1273,
    "start_time": "2024-11-02T04:36:42.895Z"
   },
   {
    "duration": 642,
    "start_time": "2024-11-02T04:36:44.170Z"
   },
   {
    "duration": 412,
    "start_time": "2024-11-02T04:39:49.293Z"
   },
   {
    "duration": 430,
    "start_time": "2024-11-02T04:44:18.154Z"
   },
   {
    "duration": 133,
    "start_time": "2024-11-02T04:44:55.122Z"
   },
   {
    "duration": 132,
    "start_time": "2024-11-02T04:45:57.645Z"
   },
   {
    "duration": 3,
    "start_time": "2024-11-02T04:46:58.345Z"
   },
   {
    "duration": 38,
    "start_time": "2024-11-02T04:48:09.995Z"
   },
   {
    "duration": 2606,
    "start_time": "2024-11-04T23:46:35.049Z"
   },
   {
    "duration": 614,
    "start_time": "2024-11-04T23:46:37.657Z"
   },
   {
    "duration": 49,
    "start_time": "2024-11-04T23:46:38.273Z"
   },
   {
    "duration": 163,
    "start_time": "2024-11-04T23:46:38.324Z"
   },
   {
    "duration": 84,
    "start_time": "2024-11-04T23:46:38.489Z"
   },
   {
    "duration": 178,
    "start_time": "2024-11-04T23:46:38.575Z"
   },
   {
    "duration": 6,
    "start_time": "2024-11-04T23:46:38.755Z"
   },
   {
    "duration": 24,
    "start_time": "2024-11-04T23:46:38.763Z"
   },
   {
    "duration": 6,
    "start_time": "2024-11-04T23:46:38.788Z"
   },
   {
    "duration": 5,
    "start_time": "2024-11-04T23:46:38.796Z"
   },
   {
    "duration": 8,
    "start_time": "2024-11-04T23:46:38.802Z"
   },
   {
    "duration": 3,
    "start_time": "2024-11-04T23:46:38.812Z"
   },
   {
    "duration": 245,
    "start_time": "2024-11-04T23:46:38.816Z"
   },
   {
    "duration": 753,
    "start_time": "2024-11-04T23:46:39.064Z"
   },
   {
    "duration": 1219,
    "start_time": "2024-11-04T23:46:39.819Z"
   },
   {
    "duration": 413,
    "start_time": "2024-11-04T23:46:41.039Z"
   },
   {
    "duration": 2,
    "start_time": "2024-11-04T23:46:41.454Z"
   },
   {
    "duration": 267,
    "start_time": "2024-11-04T23:46:41.458Z"
   },
   {
    "duration": 1010,
    "start_time": "2024-11-04T23:53:07.748Z"
   },
   {
    "duration": 475,
    "start_time": "2024-11-04T23:53:08.761Z"
   },
   {
    "duration": 50,
    "start_time": "2024-11-04T23:53:09.238Z"
   },
   {
    "duration": 161,
    "start_time": "2024-11-04T23:53:09.289Z"
   },
   {
    "duration": 92,
    "start_time": "2024-11-04T23:53:09.452Z"
   },
   {
    "duration": 174,
    "start_time": "2024-11-04T23:53:09.546Z"
   },
   {
    "duration": 8,
    "start_time": "2024-11-04T23:53:09.722Z"
   },
   {
    "duration": 10,
    "start_time": "2024-11-04T23:53:09.731Z"
   },
   {
    "duration": 248,
    "start_time": "2024-11-04T23:53:09.743Z"
   },
   {
    "duration": 0,
    "start_time": "2024-11-04T23:53:09.993Z"
   },
   {
    "duration": 0,
    "start_time": "2024-11-04T23:53:09.993Z"
   },
   {
    "duration": 0,
    "start_time": "2024-11-04T23:53:09.994Z"
   },
   {
    "duration": 0,
    "start_time": "2024-11-04T23:53:09.996Z"
   },
   {
    "duration": 0,
    "start_time": "2024-11-04T23:53:09.997Z"
   },
   {
    "duration": 0,
    "start_time": "2024-11-04T23:53:09.998Z"
   },
   {
    "duration": 0,
    "start_time": "2024-11-04T23:53:09.999Z"
   },
   {
    "duration": 0,
    "start_time": "2024-11-04T23:53:10.000Z"
   },
   {
    "duration": 0,
    "start_time": "2024-11-04T23:53:10.001Z"
   },
   {
    "duration": 7,
    "start_time": "2024-11-04T23:55:40.467Z"
   },
   {
    "duration": 5,
    "start_time": "2024-11-04T23:57:11.608Z"
   },
   {
    "duration": 8,
    "start_time": "2024-11-04T23:57:19.364Z"
   },
   {
    "duration": 4,
    "start_time": "2024-11-05T00:06:36.420Z"
   },
   {
    "duration": 157,
    "start_time": "2024-11-05T00:06:39.577Z"
   },
   {
    "duration": 702,
    "start_time": "2024-11-05T00:14:04.349Z"
   },
   {
    "duration": 1217,
    "start_time": "2024-11-05T00:14:09.059Z"
   },
   {
    "duration": 375,
    "start_time": "2024-11-05T00:14:14.898Z"
   },
   {
    "duration": 211,
    "start_time": "2024-11-05T00:16:49.237Z"
   },
   {
    "duration": 429,
    "start_time": "2024-11-05T00:19:29.039Z"
   },
   {
    "duration": 56,
    "start_time": "2024-11-05T00:19:39.339Z"
   },
   {
    "duration": 56,
    "start_time": "2024-11-05T00:19:55.970Z"
   },
   {
    "duration": 136,
    "start_time": "2024-11-05T00:20:58.729Z"
   },
   {
    "duration": 121,
    "start_time": "2024-11-05T00:21:26.987Z"
   },
   {
    "duration": 114,
    "start_time": "2024-11-05T00:22:00.423Z"
   },
   {
    "duration": 117,
    "start_time": "2024-11-05T00:23:27.596Z"
   },
   {
    "duration": 726,
    "start_time": "2024-11-05T00:23:54.008Z"
   },
   {
    "duration": 3607,
    "start_time": "2024-11-05T00:24:03.912Z"
   },
   {
    "duration": 6,
    "start_time": "2024-11-05T00:28:47.585Z"
   },
   {
    "duration": 6,
    "start_time": "2024-11-05T00:29:13.691Z"
   },
   {
    "duration": 1065,
    "start_time": "2024-11-05T00:29:22.400Z"
   },
   {
    "duration": 493,
    "start_time": "2024-11-05T00:29:23.467Z"
   },
   {
    "duration": 49,
    "start_time": "2024-11-05T00:29:23.962Z"
   },
   {
    "duration": 163,
    "start_time": "2024-11-05T00:29:24.013Z"
   },
   {
    "duration": 88,
    "start_time": "2024-11-05T00:29:24.179Z"
   },
   {
    "duration": 171,
    "start_time": "2024-11-05T00:29:24.269Z"
   },
   {
    "duration": 7,
    "start_time": "2024-11-05T00:29:24.441Z"
   },
   {
    "duration": 8,
    "start_time": "2024-11-05T00:29:24.450Z"
   },
   {
    "duration": 27,
    "start_time": "2024-11-05T00:29:24.460Z"
   },
   {
    "duration": 5,
    "start_time": "2024-11-05T00:29:24.489Z"
   },
   {
    "duration": 6,
    "start_time": "2024-11-05T00:29:24.496Z"
   },
   {
    "duration": 4,
    "start_time": "2024-11-05T00:29:24.504Z"
   },
   {
    "duration": 8,
    "start_time": "2024-11-05T00:29:24.510Z"
   },
   {
    "duration": 3,
    "start_time": "2024-11-05T00:29:24.521Z"
   },
   {
    "duration": 3405,
    "start_time": "2024-11-05T00:29:24.526Z"
   },
   {
    "duration": 820,
    "start_time": "2024-11-05T00:29:27.933Z"
   },
   {
    "duration": 1165,
    "start_time": "2024-11-05T00:29:28.755Z"
   },
   {
    "duration": 385,
    "start_time": "2024-11-05T00:29:29.922Z"
   },
   {
    "duration": 3,
    "start_time": "2024-11-05T00:29:30.309Z"
   },
   {
    "duration": 257,
    "start_time": "2024-11-05T00:29:30.314Z"
   },
   {
    "duration": 381,
    "start_time": "2024-11-05T00:30:12.384Z"
   },
   {
    "duration": 2,
    "start_time": "2024-11-05T00:31:00.592Z"
   },
   {
    "duration": 17,
    "start_time": "2024-11-05T00:31:09.611Z"
   },
   {
    "duration": 704,
    "start_time": "2024-11-05T01:38:38.639Z"
   },
   {
    "duration": 6,
    "start_time": "2024-11-05T01:42:48.544Z"
   },
   {
    "duration": 15,
    "start_time": "2024-11-05T01:44:59.531Z"
   },
   {
    "duration": 97,
    "start_time": "2024-11-05T01:45:27.797Z"
   },
   {
    "duration": 4,
    "start_time": "2024-11-05T01:46:19.291Z"
   },
   {
    "duration": 116,
    "start_time": "2024-11-05T01:47:49.709Z"
   },
   {
    "duration": 1005,
    "start_time": "2024-11-05T01:48:25.628Z"
   },
   {
    "duration": 515,
    "start_time": "2024-11-05T01:48:26.635Z"
   },
   {
    "duration": 45,
    "start_time": "2024-11-05T01:48:27.153Z"
   },
   {
    "duration": 162,
    "start_time": "2024-11-05T01:48:27.201Z"
   },
   {
    "duration": 91,
    "start_time": "2024-11-05T01:48:27.364Z"
   },
   {
    "duration": 165,
    "start_time": "2024-11-05T01:48:27.457Z"
   },
   {
    "duration": 7,
    "start_time": "2024-11-05T01:48:27.624Z"
   },
   {
    "duration": 9,
    "start_time": "2024-11-05T01:48:27.632Z"
   },
   {
    "duration": 6,
    "start_time": "2024-11-05T01:48:27.643Z"
   },
   {
    "duration": 5,
    "start_time": "2024-11-05T01:48:27.651Z"
   },
   {
    "duration": 5,
    "start_time": "2024-11-05T01:48:27.686Z"
   },
   {
    "duration": 345,
    "start_time": "2024-11-05T01:48:27.693Z"
   },
   {
    "duration": 0,
    "start_time": "2024-11-05T01:48:28.040Z"
   },
   {
    "duration": 0,
    "start_time": "2024-11-05T01:48:28.041Z"
   },
   {
    "duration": 0,
    "start_time": "2024-11-05T01:48:28.042Z"
   },
   {
    "duration": 0,
    "start_time": "2024-11-05T01:48:28.043Z"
   },
   {
    "duration": 0,
    "start_time": "2024-11-05T01:48:28.043Z"
   },
   {
    "duration": 0,
    "start_time": "2024-11-05T01:48:28.044Z"
   },
   {
    "duration": 0,
    "start_time": "2024-11-05T01:48:28.045Z"
   },
   {
    "duration": 0,
    "start_time": "2024-11-05T01:48:28.046Z"
   },
   {
    "duration": 0,
    "start_time": "2024-11-05T01:48:28.047Z"
   },
   {
    "duration": 4,
    "start_time": "2024-11-05T01:49:35.286Z"
   },
   {
    "duration": 5,
    "start_time": "2024-11-05T01:49:37.560Z"
   },
   {
    "duration": 1080,
    "start_time": "2024-11-05T01:49:45.799Z"
   },
   {
    "duration": 544,
    "start_time": "2024-11-05T01:49:46.882Z"
   },
   {
    "duration": 61,
    "start_time": "2024-11-05T01:49:47.429Z"
   },
   {
    "duration": 166,
    "start_time": "2024-11-05T01:49:47.492Z"
   },
   {
    "duration": 95,
    "start_time": "2024-11-05T01:49:47.661Z"
   },
   {
    "duration": 228,
    "start_time": "2024-11-05T01:49:47.759Z"
   },
   {
    "duration": 8,
    "start_time": "2024-11-05T01:49:47.989Z"
   },
   {
    "duration": 9,
    "start_time": "2024-11-05T01:49:47.999Z"
   },
   {
    "duration": 7,
    "start_time": "2024-11-05T01:49:48.012Z"
   },
   {
    "duration": 6,
    "start_time": "2024-11-05T01:49:48.020Z"
   },
   {
    "duration": 7,
    "start_time": "2024-11-05T01:49:48.029Z"
   },
   {
    "duration": 6,
    "start_time": "2024-11-05T01:49:48.038Z"
   },
   {
    "duration": 6,
    "start_time": "2024-11-05T01:49:48.046Z"
   },
   {
    "duration": 10,
    "start_time": "2024-11-05T01:49:48.089Z"
   },
   {
    "duration": 4,
    "start_time": "2024-11-05T01:49:48.101Z"
   },
   {
    "duration": 3855,
    "start_time": "2024-11-05T01:49:48.108Z"
   },
   {
    "duration": 1364,
    "start_time": "2024-11-05T01:49:51.965Z"
   },
   {
    "duration": 816,
    "start_time": "2024-11-05T01:49:53.330Z"
   },
   {
    "duration": 407,
    "start_time": "2024-11-05T01:49:54.148Z"
   },
   {
    "duration": 3,
    "start_time": "2024-11-05T01:49:54.557Z"
   },
   {
    "duration": 960,
    "start_time": "2024-11-05T01:49:54.562Z"
   },
   {
    "duration": 39,
    "start_time": "2024-11-05T01:52:16.697Z"
   },
   {
    "duration": 948,
    "start_time": "2024-11-05T01:54:36.256Z"
   },
   {
    "duration": 480,
    "start_time": "2024-11-05T01:54:37.207Z"
   },
   {
    "duration": 42,
    "start_time": "2024-11-05T01:54:37.689Z"
   },
   {
    "duration": 175,
    "start_time": "2024-11-05T01:54:37.733Z"
   },
   {
    "duration": 91,
    "start_time": "2024-11-05T01:54:37.910Z"
   },
   {
    "duration": 181,
    "start_time": "2024-11-05T01:54:38.002Z"
   },
   {
    "duration": 7,
    "start_time": "2024-11-05T01:54:38.187Z"
   },
   {
    "duration": 9,
    "start_time": "2024-11-05T01:54:38.196Z"
   },
   {
    "duration": 6,
    "start_time": "2024-11-05T01:54:38.207Z"
   },
   {
    "duration": 5,
    "start_time": "2024-11-05T01:54:38.217Z"
   },
   {
    "duration": 6,
    "start_time": "2024-11-05T01:54:38.224Z"
   },
   {
    "duration": 5,
    "start_time": "2024-11-05T01:54:38.233Z"
   },
   {
    "duration": 9,
    "start_time": "2024-11-05T01:54:38.241Z"
   },
   {
    "duration": 8,
    "start_time": "2024-11-05T01:54:38.287Z"
   },
   {
    "duration": 4,
    "start_time": "2024-11-05T01:54:38.297Z"
   },
   {
    "duration": 3452,
    "start_time": "2024-11-05T01:54:38.303Z"
   },
   {
    "duration": 1199,
    "start_time": "2024-11-05T01:54:41.757Z"
   },
   {
    "duration": 889,
    "start_time": "2024-11-05T01:54:42.958Z"
   },
   {
    "duration": 398,
    "start_time": "2024-11-05T01:54:43.849Z"
   },
   {
    "duration": 3,
    "start_time": "2024-11-05T01:54:44.249Z"
   },
   {
    "duration": 4,
    "start_time": "2024-11-05T02:02:58.478Z"
   },
   {
    "duration": 3,
    "start_time": "2024-11-05T02:05:48.174Z"
   },
   {
    "duration": 3,
    "start_time": "2024-11-05T02:05:54.957Z"
   },
   {
    "duration": 657,
    "start_time": "2024-11-05T02:13:44.670Z"
   },
   {
    "duration": 389,
    "start_time": "2024-11-05T02:16:52.916Z"
   },
   {
    "duration": 992,
    "start_time": "2024-11-05T02:17:04.949Z"
   },
   {
    "duration": 491,
    "start_time": "2024-11-05T02:17:05.943Z"
   },
   {
    "duration": 53,
    "start_time": "2024-11-05T02:17:06.435Z"
   },
   {
    "duration": 163,
    "start_time": "2024-11-05T02:17:06.490Z"
   },
   {
    "duration": 94,
    "start_time": "2024-11-05T02:17:06.655Z"
   },
   {
    "duration": 169,
    "start_time": "2024-11-05T02:17:06.752Z"
   },
   {
    "duration": 7,
    "start_time": "2024-11-05T02:17:06.923Z"
   },
   {
    "duration": 10,
    "start_time": "2024-11-05T02:17:06.931Z"
   },
   {
    "duration": 6,
    "start_time": "2024-11-05T02:17:06.942Z"
   },
   {
    "duration": 5,
    "start_time": "2024-11-05T02:17:06.951Z"
   },
   {
    "duration": 5,
    "start_time": "2024-11-05T02:17:06.987Z"
   },
   {
    "duration": 5,
    "start_time": "2024-11-05T02:17:06.993Z"
   },
   {
    "duration": 5,
    "start_time": "2024-11-05T02:17:06.999Z"
   },
   {
    "duration": 9,
    "start_time": "2024-11-05T02:17:07.005Z"
   },
   {
    "duration": 3,
    "start_time": "2024-11-05T02:17:07.016Z"
   },
   {
    "duration": 3426,
    "start_time": "2024-11-05T02:17:07.021Z"
   },
   {
    "duration": 1210,
    "start_time": "2024-11-05T02:17:10.449Z"
   },
   {
    "duration": 883,
    "start_time": "2024-11-05T02:17:11.662Z"
   },
   {
    "duration": 401,
    "start_time": "2024-11-05T02:17:12.549Z"
   },
   {
    "duration": 272,
    "start_time": "2024-11-05T02:17:12.951Z"
   },
   {
    "duration": 0,
    "start_time": "2024-11-05T02:17:13.225Z"
   },
   {
    "duration": 17,
    "start_time": "2024-11-05T02:17:51.148Z"
   },
   {
    "duration": 3,
    "start_time": "2024-11-05T02:20:01.599Z"
   },
   {
    "duration": 3,
    "start_time": "2024-11-05T02:20:08.091Z"
   },
   {
    "duration": 2696,
    "start_time": "2024-11-05T03:09:15.977Z"
   },
   {
    "duration": 621,
    "start_time": "2024-11-05T03:09:18.675Z"
   },
   {
    "duration": 42,
    "start_time": "2024-11-05T03:09:19.298Z"
   },
   {
    "duration": 169,
    "start_time": "2024-11-05T03:09:19.342Z"
   },
   {
    "duration": 91,
    "start_time": "2024-11-05T03:09:19.513Z"
   },
   {
    "duration": 171,
    "start_time": "2024-11-05T03:09:19.606Z"
   },
   {
    "duration": 11,
    "start_time": "2024-11-05T03:09:19.779Z"
   },
   {
    "duration": 9,
    "start_time": "2024-11-05T03:09:19.792Z"
   },
   {
    "duration": 6,
    "start_time": "2024-11-05T03:09:19.802Z"
   },
   {
    "duration": 5,
    "start_time": "2024-11-05T03:09:19.810Z"
   },
   {
    "duration": 5,
    "start_time": "2024-11-05T03:09:19.816Z"
   },
   {
    "duration": 4,
    "start_time": "2024-11-05T03:09:19.823Z"
   },
   {
    "duration": 5,
    "start_time": "2024-11-05T03:09:19.828Z"
   },
   {
    "duration": 9,
    "start_time": "2024-11-05T03:09:19.834Z"
   },
   {
    "duration": 3,
    "start_time": "2024-11-05T03:09:19.886Z"
   },
   {
    "duration": 3560,
    "start_time": "2024-11-05T03:09:19.891Z"
   },
   {
    "duration": 1172,
    "start_time": "2024-11-05T03:09:23.453Z"
   },
   {
    "duration": 717,
    "start_time": "2024-11-05T03:09:24.627Z"
   },
   {
    "duration": 405,
    "start_time": "2024-11-05T03:09:25.346Z"
   },
   {
    "duration": 3,
    "start_time": "2024-11-05T03:09:25.754Z"
   },
   {
    "duration": 344,
    "start_time": "2024-11-05T03:09:25.759Z"
   },
   {
    "duration": 0,
    "start_time": "2024-11-05T03:09:26.105Z"
   },
   {
    "duration": 16,
    "start_time": "2024-11-05T03:24:03.715Z"
   },
   {
    "duration": 427,
    "start_time": "2024-11-05T03:24:25.387Z"
   },
   {
    "duration": 58,
    "start_time": "2024-11-05T03:25:12.227Z"
   },
   {
    "duration": 41,
    "start_time": "2024-11-05T03:25:55.127Z"
   },
   {
    "duration": 968,
    "start_time": "2024-11-05T03:26:47.586Z"
   },
   {
    "duration": 505,
    "start_time": "2024-11-05T03:26:48.556Z"
   },
   {
    "duration": 48,
    "start_time": "2024-11-05T03:26:49.063Z"
   },
   {
    "duration": 174,
    "start_time": "2024-11-05T03:26:49.113Z"
   },
   {
    "duration": 83,
    "start_time": "2024-11-05T03:26:49.289Z"
   },
   {
    "duration": 174,
    "start_time": "2024-11-05T03:26:49.373Z"
   },
   {
    "duration": 6,
    "start_time": "2024-11-05T03:26:49.549Z"
   },
   {
    "duration": 9,
    "start_time": "2024-11-05T03:26:49.557Z"
   },
   {
    "duration": 23,
    "start_time": "2024-11-05T03:26:49.568Z"
   },
   {
    "duration": 5,
    "start_time": "2024-11-05T03:26:49.594Z"
   },
   {
    "duration": 6,
    "start_time": "2024-11-05T03:26:49.600Z"
   },
   {
    "duration": 4,
    "start_time": "2024-11-05T03:26:49.608Z"
   },
   {
    "duration": 4,
    "start_time": "2024-11-05T03:26:49.614Z"
   },
   {
    "duration": 8,
    "start_time": "2024-11-05T03:26:49.620Z"
   },
   {
    "duration": 3,
    "start_time": "2024-11-05T03:26:49.629Z"
   },
   {
    "duration": 3501,
    "start_time": "2024-11-05T03:26:49.634Z"
   },
   {
    "duration": 1262,
    "start_time": "2024-11-05T03:26:53.137Z"
   },
   {
    "duration": 826,
    "start_time": "2024-11-05T03:26:54.400Z"
   },
   {
    "duration": 664,
    "start_time": "2024-11-05T03:26:55.228Z"
   },
   {
    "duration": 0,
    "start_time": "2024-11-05T03:26:55.893Z"
   },
   {
    "duration": 0,
    "start_time": "2024-11-05T03:26:55.895Z"
   },
   {
    "duration": 47,
    "start_time": "2024-11-05T03:27:38.100Z"
   },
   {
    "duration": 48,
    "start_time": "2024-11-05T03:28:14.387Z"
   },
   {
    "duration": 19,
    "start_time": "2024-11-05T03:28:29.022Z"
   },
   {
    "duration": 8,
    "start_time": "2024-11-05T03:28:43.301Z"
   },
   {
    "duration": 8,
    "start_time": "2024-11-05T03:29:23.064Z"
   },
   {
    "duration": 7,
    "start_time": "2024-11-05T03:29:35.178Z"
   },
   {
    "duration": 8,
    "start_time": "2024-11-05T03:29:57.925Z"
   },
   {
    "duration": 355,
    "start_time": "2024-11-05T03:30:05.412Z"
   },
   {
    "duration": 3,
    "start_time": "2024-11-05T03:31:17.544Z"
   },
   {
    "duration": 1015,
    "start_time": "2024-11-05T03:31:22.488Z"
   },
   {
    "duration": 501,
    "start_time": "2024-11-05T03:31:23.505Z"
   },
   {
    "duration": 44,
    "start_time": "2024-11-05T03:31:24.008Z"
   },
   {
    "duration": 172,
    "start_time": "2024-11-05T03:31:24.054Z"
   },
   {
    "duration": 107,
    "start_time": "2024-11-05T03:31:24.228Z"
   },
   {
    "duration": 183,
    "start_time": "2024-11-05T03:31:24.338Z"
   },
   {
    "duration": 7,
    "start_time": "2024-11-05T03:31:24.523Z"
   },
   {
    "duration": 9,
    "start_time": "2024-11-05T03:31:24.531Z"
   },
   {
    "duration": 6,
    "start_time": "2024-11-05T03:31:24.542Z"
   },
   {
    "duration": 5,
    "start_time": "2024-11-05T03:31:24.551Z"
   },
   {
    "duration": 32,
    "start_time": "2024-11-05T03:31:24.558Z"
   },
   {
    "duration": 4,
    "start_time": "2024-11-05T03:31:24.592Z"
   },
   {
    "duration": 5,
    "start_time": "2024-11-05T03:31:24.597Z"
   },
   {
    "duration": 7,
    "start_time": "2024-11-05T03:31:24.604Z"
   },
   {
    "duration": 3,
    "start_time": "2024-11-05T03:31:24.613Z"
   },
   {
    "duration": 3418,
    "start_time": "2024-11-05T03:31:24.617Z"
   },
   {
    "duration": 1209,
    "start_time": "2024-11-05T03:31:28.037Z"
   },
   {
    "duration": 859,
    "start_time": "2024-11-05T03:31:29.247Z"
   },
   {
    "duration": 365,
    "start_time": "2024-11-05T03:31:30.108Z"
   },
   {
    "duration": 12,
    "start_time": "2024-11-05T03:31:30.475Z"
   },
   {
    "duration": 6,
    "start_time": "2024-11-05T03:31:30.489Z"
   },
   {
    "duration": 7,
    "start_time": "2024-11-05T03:31:30.497Z"
   },
   {
    "duration": 4,
    "start_time": "2024-11-05T03:31:30.505Z"
   },
   {
    "duration": 392,
    "start_time": "2024-11-05T03:36:17.052Z"
   },
   {
    "duration": 961,
    "start_time": "2024-11-05T03:37:44.887Z"
   },
   {
    "duration": 526,
    "start_time": "2024-11-05T03:37:45.850Z"
   },
   {
    "duration": 42,
    "start_time": "2024-11-05T03:37:46.377Z"
   },
   {
    "duration": 171,
    "start_time": "2024-11-05T03:37:46.421Z"
   },
   {
    "duration": 92,
    "start_time": "2024-11-05T03:37:46.595Z"
   },
   {
    "duration": 170,
    "start_time": "2024-11-05T03:37:46.689Z"
   },
   {
    "duration": 8,
    "start_time": "2024-11-05T03:37:46.861Z"
   },
   {
    "duration": 18,
    "start_time": "2024-11-05T03:37:46.870Z"
   },
   {
    "duration": 6,
    "start_time": "2024-11-05T03:37:46.889Z"
   },
   {
    "duration": 6,
    "start_time": "2024-11-05T03:37:46.897Z"
   },
   {
    "duration": 6,
    "start_time": "2024-11-05T03:37:46.906Z"
   },
   {
    "duration": 4,
    "start_time": "2024-11-05T03:37:46.913Z"
   },
   {
    "duration": 5,
    "start_time": "2024-11-05T03:37:46.919Z"
   },
   {
    "duration": 9,
    "start_time": "2024-11-05T03:37:46.927Z"
   },
   {
    "duration": 3,
    "start_time": "2024-11-05T03:37:46.938Z"
   },
   {
    "duration": 3442,
    "start_time": "2024-11-05T03:37:46.987Z"
   },
   {
    "duration": 1206,
    "start_time": "2024-11-05T03:37:50.431Z"
   },
   {
    "duration": 793,
    "start_time": "2024-11-05T03:37:51.639Z"
   },
   {
    "duration": 403,
    "start_time": "2024-11-05T03:37:52.434Z"
   },
   {
    "duration": 6,
    "start_time": "2024-11-05T03:37:52.839Z"
   },
   {
    "duration": 7,
    "start_time": "2024-11-05T03:37:52.846Z"
   },
   {
    "duration": 5,
    "start_time": "2024-11-05T03:37:52.855Z"
   },
   {
    "duration": 26,
    "start_time": "2024-11-05T03:37:52.862Z"
   },
   {
    "duration": 0,
    "start_time": "2024-11-05T03:38:54.848Z"
   },
   {
    "duration": 972,
    "start_time": "2024-11-05T03:40:41.042Z"
   },
   {
    "duration": 498,
    "start_time": "2024-11-05T03:40:42.016Z"
   },
   {
    "duration": 42,
    "start_time": "2024-11-05T03:40:42.516Z"
   },
   {
    "duration": 164,
    "start_time": "2024-11-05T03:40:42.560Z"
   },
   {
    "duration": 91,
    "start_time": "2024-11-05T03:40:42.726Z"
   },
   {
    "duration": 178,
    "start_time": "2024-11-05T03:40:42.819Z"
   },
   {
    "duration": 6,
    "start_time": "2024-11-05T03:40:42.999Z"
   },
   {
    "duration": 9,
    "start_time": "2024-11-05T03:40:43.008Z"
   },
   {
    "duration": 7,
    "start_time": "2024-11-05T03:40:43.019Z"
   },
   {
    "duration": 5,
    "start_time": "2024-11-05T03:40:43.028Z"
   },
   {
    "duration": 6,
    "start_time": "2024-11-05T03:40:43.034Z"
   },
   {
    "duration": 4,
    "start_time": "2024-11-05T03:40:43.042Z"
   },
   {
    "duration": 40,
    "start_time": "2024-11-05T03:40:43.047Z"
   },
   {
    "duration": 8,
    "start_time": "2024-11-05T03:40:43.089Z"
   },
   {
    "duration": 12,
    "start_time": "2024-11-05T03:40:43.099Z"
   },
   {
    "duration": 3422,
    "start_time": "2024-11-05T03:40:43.113Z"
   },
   {
    "duration": 1192,
    "start_time": "2024-11-05T03:40:46.537Z"
   },
   {
    "duration": 819,
    "start_time": "2024-11-05T03:40:47.731Z"
   },
   {
    "duration": 410,
    "start_time": "2024-11-05T03:40:48.551Z"
   },
   {
    "duration": 6,
    "start_time": "2024-11-05T03:40:48.964Z"
   },
   {
    "duration": 18,
    "start_time": "2024-11-05T03:40:48.972Z"
   },
   {
    "duration": 6,
    "start_time": "2024-11-05T03:40:48.991Z"
   },
   {
    "duration": 3,
    "start_time": "2024-11-05T03:40:48.998Z"
   },
   {
    "duration": 153675,
    "start_time": "2024-11-05T03:40:49.003Z"
   },
   {
    "duration": 3,
    "start_time": "2024-11-05T03:43:23.268Z"
   },
   {
    "duration": 972,
    "start_time": "2024-11-05T03:43:47.661Z"
   },
   {
    "duration": 487,
    "start_time": "2024-11-05T03:43:48.635Z"
   },
   {
    "duration": 51,
    "start_time": "2024-11-05T03:43:49.124Z"
   },
   {
    "duration": 158,
    "start_time": "2024-11-05T03:43:49.186Z"
   },
   {
    "duration": 90,
    "start_time": "2024-11-05T03:43:49.346Z"
   },
   {
    "duration": 166,
    "start_time": "2024-11-05T03:43:49.438Z"
   },
   {
    "duration": 7,
    "start_time": "2024-11-05T03:43:49.605Z"
   },
   {
    "duration": 9,
    "start_time": "2024-11-05T03:43:49.613Z"
   },
   {
    "duration": 5,
    "start_time": "2024-11-05T03:43:49.624Z"
   },
   {
    "duration": 5,
    "start_time": "2024-11-05T03:43:49.632Z"
   },
   {
    "duration": 6,
    "start_time": "2024-11-05T03:43:49.638Z"
   },
   {
    "duration": 4,
    "start_time": "2024-11-05T03:43:49.645Z"
   },
   {
    "duration": 39,
    "start_time": "2024-11-05T03:43:49.651Z"
   },
   {
    "duration": 8,
    "start_time": "2024-11-05T03:43:49.693Z"
   },
   {
    "duration": 3,
    "start_time": "2024-11-05T03:43:49.703Z"
   },
   {
    "duration": 3462,
    "start_time": "2024-11-05T03:43:49.709Z"
   },
   {
    "duration": 1289,
    "start_time": "2024-11-05T03:43:53.174Z"
   },
   {
    "duration": 870,
    "start_time": "2024-11-05T03:43:54.465Z"
   },
   {
    "duration": 417,
    "start_time": "2024-11-05T03:43:55.337Z"
   },
   {
    "duration": 6,
    "start_time": "2024-11-05T03:43:55.756Z"
   },
   {
    "duration": 22,
    "start_time": "2024-11-05T03:43:55.764Z"
   },
   {
    "duration": 6,
    "start_time": "2024-11-05T03:43:55.788Z"
   },
   {
    "duration": 3,
    "start_time": "2024-11-05T03:43:55.796Z"
   },
   {
    "duration": 165570,
    "start_time": "2024-11-05T03:43:55.800Z"
   },
   {
    "duration": 957,
    "start_time": "2024-11-05T03:58:04.102Z"
   },
   {
    "duration": 13,
    "start_time": "2024-11-05T03:58:36.998Z"
   },
   {
    "duration": 5,
    "start_time": "2024-11-05T03:58:52.776Z"
   },
   {
    "duration": 231,
    "start_time": "2024-11-05T03:59:34.104Z"
   },
   {
    "duration": 5,
    "start_time": "2024-11-05T04:00:00.804Z"
   },
   {
    "duration": 4,
    "start_time": "2024-11-05T04:00:10.179Z"
   },
   {
    "duration": 982,
    "start_time": "2024-11-05T04:00:16.767Z"
   },
   {
    "duration": 507,
    "start_time": "2024-11-05T04:00:17.751Z"
   },
   {
    "duration": 48,
    "start_time": "2024-11-05T04:00:18.260Z"
   },
   {
    "duration": 162,
    "start_time": "2024-11-05T04:00:18.310Z"
   },
   {
    "duration": 89,
    "start_time": "2024-11-05T04:00:18.473Z"
   },
   {
    "duration": 172,
    "start_time": "2024-11-05T04:00:18.564Z"
   },
   {
    "duration": 7,
    "start_time": "2024-11-05T04:00:18.738Z"
   },
   {
    "duration": 9,
    "start_time": "2024-11-05T04:00:18.747Z"
   },
   {
    "duration": 243,
    "start_time": "2024-11-05T04:00:18.758Z"
   },
   {
    "duration": 0,
    "start_time": "2024-11-05T04:00:19.003Z"
   },
   {
    "duration": 0,
    "start_time": "2024-11-05T04:00:19.005Z"
   },
   {
    "duration": 0,
    "start_time": "2024-11-05T04:00:19.006Z"
   },
   {
    "duration": 0,
    "start_time": "2024-11-05T04:00:19.007Z"
   },
   {
    "duration": 0,
    "start_time": "2024-11-05T04:00:19.008Z"
   },
   {
    "duration": 0,
    "start_time": "2024-11-05T04:00:19.009Z"
   },
   {
    "duration": 0,
    "start_time": "2024-11-05T04:00:19.010Z"
   },
   {
    "duration": 0,
    "start_time": "2024-11-05T04:00:19.011Z"
   },
   {
    "duration": 0,
    "start_time": "2024-11-05T04:00:19.012Z"
   },
   {
    "duration": 0,
    "start_time": "2024-11-05T04:00:19.013Z"
   },
   {
    "duration": 0,
    "start_time": "2024-11-05T04:00:19.015Z"
   },
   {
    "duration": 0,
    "start_time": "2024-11-05T04:00:19.016Z"
   },
   {
    "duration": 0,
    "start_time": "2024-11-05T04:00:19.018Z"
   },
   {
    "duration": 0,
    "start_time": "2024-11-05T04:00:19.019Z"
   },
   {
    "duration": 0,
    "start_time": "2024-11-05T04:00:19.019Z"
   },
   {
    "duration": 0,
    "start_time": "2024-11-05T04:00:19.021Z"
   },
   {
    "duration": 7,
    "start_time": "2024-11-05T04:00:40.595Z"
   },
   {
    "duration": 5,
    "start_time": "2024-11-05T04:00:40.681Z"
   },
   {
    "duration": 6,
    "start_time": "2024-11-05T04:00:47.224Z"
   },
   {
    "duration": 967,
    "start_time": "2024-11-05T04:00:53.472Z"
   },
   {
    "duration": 500,
    "start_time": "2024-11-05T04:00:54.441Z"
   },
   {
    "duration": 51,
    "start_time": "2024-11-05T04:00:54.944Z"
   },
   {
    "duration": 162,
    "start_time": "2024-11-05T04:00:54.997Z"
   },
   {
    "duration": 93,
    "start_time": "2024-11-05T04:00:55.161Z"
   },
   {
    "duration": 166,
    "start_time": "2024-11-05T04:00:55.255Z"
   },
   {
    "duration": 6,
    "start_time": "2024-11-05T04:00:55.423Z"
   },
   {
    "duration": 9,
    "start_time": "2024-11-05T04:00:55.431Z"
   },
   {
    "duration": 7,
    "start_time": "2024-11-05T04:00:55.442Z"
   },
   {
    "duration": 5,
    "start_time": "2024-11-05T04:00:55.452Z"
   },
   {
    "duration": 240,
    "start_time": "2024-11-05T04:00:55.486Z"
   },
   {
    "duration": 0,
    "start_time": "2024-11-05T04:00:55.728Z"
   },
   {
    "duration": 0,
    "start_time": "2024-11-05T04:00:55.730Z"
   },
   {
    "duration": 0,
    "start_time": "2024-11-05T04:00:55.731Z"
   },
   {
    "duration": 0,
    "start_time": "2024-11-05T04:00:55.731Z"
   },
   {
    "duration": 0,
    "start_time": "2024-11-05T04:00:55.733Z"
   },
   {
    "duration": 0,
    "start_time": "2024-11-05T04:00:55.734Z"
   },
   {
    "duration": 0,
    "start_time": "2024-11-05T04:00:55.735Z"
   },
   {
    "duration": 0,
    "start_time": "2024-11-05T04:00:55.736Z"
   },
   {
    "duration": 0,
    "start_time": "2024-11-05T04:00:55.737Z"
   },
   {
    "duration": 0,
    "start_time": "2024-11-05T04:00:55.738Z"
   },
   {
    "duration": 0,
    "start_time": "2024-11-05T04:00:55.739Z"
   },
   {
    "duration": 0,
    "start_time": "2024-11-05T04:00:55.740Z"
   },
   {
    "duration": 0,
    "start_time": "2024-11-05T04:00:55.741Z"
   },
   {
    "duration": 15,
    "start_time": "2024-11-05T04:01:42.973Z"
   },
   {
    "duration": 973,
    "start_time": "2024-11-05T04:01:50.178Z"
   },
   {
    "duration": 504,
    "start_time": "2024-11-05T04:01:51.153Z"
   },
   {
    "duration": 52,
    "start_time": "2024-11-05T04:01:51.659Z"
   },
   {
    "duration": 163,
    "start_time": "2024-11-05T04:01:51.713Z"
   },
   {
    "duration": 84,
    "start_time": "2024-11-05T04:01:51.886Z"
   },
   {
    "duration": 172,
    "start_time": "2024-11-05T04:01:51.972Z"
   },
   {
    "duration": 6,
    "start_time": "2024-11-05T04:01:52.146Z"
   },
   {
    "duration": 8,
    "start_time": "2024-11-05T04:01:52.154Z"
   },
   {
    "duration": 22,
    "start_time": "2024-11-05T04:01:52.164Z"
   },
   {
    "duration": 5,
    "start_time": "2024-11-05T04:01:52.188Z"
   },
   {
    "duration": 4,
    "start_time": "2024-11-05T04:01:52.195Z"
   },
   {
    "duration": 3,
    "start_time": "2024-11-05T04:01:52.201Z"
   },
   {
    "duration": 252,
    "start_time": "2024-11-05T04:01:52.206Z"
   },
   {
    "duration": 0,
    "start_time": "2024-11-05T04:01:52.461Z"
   },
   {
    "duration": 0,
    "start_time": "2024-11-05T04:01:52.462Z"
   },
   {
    "duration": 0,
    "start_time": "2024-11-05T04:01:52.463Z"
   },
   {
    "duration": 0,
    "start_time": "2024-11-05T04:01:52.464Z"
   },
   {
    "duration": 0,
    "start_time": "2024-11-05T04:01:52.465Z"
   },
   {
    "duration": 0,
    "start_time": "2024-11-05T04:01:52.466Z"
   },
   {
    "duration": 0,
    "start_time": "2024-11-05T04:01:52.467Z"
   },
   {
    "duration": 0,
    "start_time": "2024-11-05T04:01:52.468Z"
   },
   {
    "duration": 0,
    "start_time": "2024-11-05T04:01:52.469Z"
   },
   {
    "duration": 0,
    "start_time": "2024-11-05T04:01:52.470Z"
   },
   {
    "duration": 0,
    "start_time": "2024-11-05T04:01:52.487Z"
   },
   {
    "duration": 997,
    "start_time": "2024-11-05T04:02:10.439Z"
   },
   {
    "duration": 516,
    "start_time": "2024-11-05T04:02:11.438Z"
   },
   {
    "duration": 50,
    "start_time": "2024-11-05T04:02:11.960Z"
   },
   {
    "duration": 160,
    "start_time": "2024-11-05T04:02:12.011Z"
   },
   {
    "duration": 89,
    "start_time": "2024-11-05T04:02:12.173Z"
   },
   {
    "duration": 167,
    "start_time": "2024-11-05T04:02:12.263Z"
   },
   {
    "duration": 6,
    "start_time": "2024-11-05T04:02:12.432Z"
   },
   {
    "duration": 9,
    "start_time": "2024-11-05T04:02:12.441Z"
   },
   {
    "duration": 6,
    "start_time": "2024-11-05T04:02:12.451Z"
   },
   {
    "duration": 5,
    "start_time": "2024-11-05T04:02:12.459Z"
   },
   {
    "duration": 6,
    "start_time": "2024-11-05T04:02:12.486Z"
   },
   {
    "duration": 4,
    "start_time": "2024-11-05T04:02:12.494Z"
   },
   {
    "duration": 7,
    "start_time": "2024-11-05T04:02:12.500Z"
   },
   {
    "duration": 9,
    "start_time": "2024-11-05T04:02:12.509Z"
   },
   {
    "duration": 3,
    "start_time": "2024-11-05T04:02:12.519Z"
   },
   {
    "duration": 3387,
    "start_time": "2024-11-05T04:02:12.524Z"
   },
   {
    "duration": 1195,
    "start_time": "2024-11-05T04:02:15.913Z"
   },
   {
    "duration": 832,
    "start_time": "2024-11-05T04:02:17.110Z"
   },
   {
    "duration": 402,
    "start_time": "2024-11-05T04:02:17.944Z"
   },
   {
    "duration": 7,
    "start_time": "2024-11-05T04:02:18.347Z"
   },
   {
    "duration": 6,
    "start_time": "2024-11-05T04:02:18.356Z"
   },
   {
    "duration": 24,
    "start_time": "2024-11-05T04:02:18.364Z"
   },
   {
    "duration": 3,
    "start_time": "2024-11-05T04:02:18.390Z"
   },
   {
    "duration": 535,
    "start_time": "2024-11-05T04:02:18.394Z"
   },
   {
    "duration": 661,
    "start_time": "2024-11-05T04:03:13.481Z"
   },
   {
    "duration": 39,
    "start_time": "2024-11-05T04:04:47.185Z"
   },
   {
    "duration": 42,
    "start_time": "2024-11-05T04:05:01.851Z"
   },
   {
    "duration": 4,
    "start_time": "2024-11-05T04:06:31.871Z"
   },
   {
    "duration": 109,
    "start_time": "2024-11-05T04:11:39.512Z"
   },
   {
    "duration": 6,
    "start_time": "2024-11-05T04:12:16.297Z"
   },
   {
    "duration": 4,
    "start_time": "2024-11-05T04:13:31.398Z"
   },
   {
    "duration": 116,
    "start_time": "2024-11-05T04:13:55.175Z"
   },
   {
    "duration": 111,
    "start_time": "2024-11-05T04:14:36.427Z"
   },
   {
    "duration": 4,
    "start_time": "2024-11-05T04:14:47.159Z"
   },
   {
    "duration": 993,
    "start_time": "2024-11-05T04:15:13.235Z"
   },
   {
    "duration": 495,
    "start_time": "2024-11-05T04:15:14.230Z"
   },
   {
    "duration": 41,
    "start_time": "2024-11-05T04:15:14.727Z"
   },
   {
    "duration": 162,
    "start_time": "2024-11-05T04:15:14.771Z"
   },
   {
    "duration": 99,
    "start_time": "2024-11-05T04:15:14.935Z"
   },
   {
    "duration": 167,
    "start_time": "2024-11-05T04:15:15.036Z"
   },
   {
    "duration": 6,
    "start_time": "2024-11-05T04:15:15.205Z"
   },
   {
    "duration": 9,
    "start_time": "2024-11-05T04:15:15.214Z"
   },
   {
    "duration": 6,
    "start_time": "2024-11-05T04:15:15.225Z"
   },
   {
    "duration": 4,
    "start_time": "2024-11-05T04:15:15.234Z"
   },
   {
    "duration": 6,
    "start_time": "2024-11-05T04:15:15.239Z"
   },
   {
    "duration": 5,
    "start_time": "2024-11-05T04:15:15.246Z"
   },
   {
    "duration": 4,
    "start_time": "2024-11-05T04:15:15.287Z"
   },
   {
    "duration": 5,
    "start_time": "2024-11-05T04:15:15.293Z"
   },
   {
    "duration": 8,
    "start_time": "2024-11-05T04:15:15.300Z"
   },
   {
    "duration": 3,
    "start_time": "2024-11-05T04:15:15.309Z"
   },
   {
    "duration": 3429,
    "start_time": "2024-11-05T04:15:15.314Z"
   },
   {
    "duration": 1181,
    "start_time": "2024-11-05T04:15:18.745Z"
   },
   {
    "duration": 801,
    "start_time": "2024-11-05T04:15:19.928Z"
   },
   {
    "duration": 382,
    "start_time": "2024-11-05T04:15:20.730Z"
   },
   {
    "duration": 8,
    "start_time": "2024-11-05T04:15:21.114Z"
   },
   {
    "duration": 6,
    "start_time": "2024-11-05T04:15:21.124Z"
   },
   {
    "duration": 6,
    "start_time": "2024-11-05T04:15:21.132Z"
   },
   {
    "duration": 3,
    "start_time": "2024-11-05T04:15:21.140Z"
   },
   {
    "duration": 4,
    "start_time": "2024-11-05T04:15:21.145Z"
   },
   {
    "duration": 559,
    "start_time": "2024-11-05T04:15:21.151Z"
   },
   {
    "duration": 15,
    "start_time": "2024-11-05T04:21:55.789Z"
   },
   {
    "duration": 17,
    "start_time": "2024-11-05T04:22:01.534Z"
   },
   {
    "duration": 6,
    "start_time": "2024-11-05T04:24:43.155Z"
   },
   {
    "duration": 623,
    "start_time": "2024-11-05T04:25:06.179Z"
   },
   {
    "duration": 4,
    "start_time": "2024-11-05T04:25:32.809Z"
   },
   {
    "duration": 4,
    "start_time": "2024-11-05T04:26:13.700Z"
   },
   {
    "duration": 5,
    "start_time": "2024-11-05T04:26:33.531Z"
   },
   {
    "duration": 111,
    "start_time": "2024-11-05T04:26:34.491Z"
   },
   {
    "duration": 14,
    "start_time": "2024-11-05T04:27:09.628Z"
   },
   {
    "duration": 6,
    "start_time": "2024-11-05T04:27:41.081Z"
   },
   {
    "duration": 120,
    "start_time": "2024-11-05T04:27:44.482Z"
   },
   {
    "duration": 8,
    "start_time": "2024-11-05T04:28:52.848Z"
   },
   {
    "duration": 10,
    "start_time": "2024-11-05T04:29:11.500Z"
   },
   {
    "duration": 979,
    "start_time": "2024-11-05T04:29:29.958Z"
   },
   {
    "duration": 636,
    "start_time": "2024-11-05T04:29:30.939Z"
   },
   {
    "duration": 48,
    "start_time": "2024-11-05T04:29:31.577Z"
   },
   {
    "duration": 169,
    "start_time": "2024-11-05T04:29:31.628Z"
   },
   {
    "duration": 94,
    "start_time": "2024-11-05T04:29:31.801Z"
   },
   {
    "duration": 186,
    "start_time": "2024-11-05T04:29:31.897Z"
   },
   {
    "duration": 9,
    "start_time": "2024-11-05T04:29:32.086Z"
   },
   {
    "duration": 12,
    "start_time": "2024-11-05T04:29:32.098Z"
   },
   {
    "duration": 9,
    "start_time": "2024-11-05T04:29:32.112Z"
   },
   {
    "duration": 5,
    "start_time": "2024-11-05T04:29:32.126Z"
   },
   {
    "duration": 6,
    "start_time": "2024-11-05T04:29:32.133Z"
   },
   {
    "duration": 9,
    "start_time": "2024-11-05T04:29:32.141Z"
   },
   {
    "duration": 43,
    "start_time": "2024-11-05T04:29:32.152Z"
   },
   {
    "duration": 657,
    "start_time": "2024-11-05T04:29:32.196Z"
   },
   {
    "duration": 0,
    "start_time": "2024-11-05T04:29:32.855Z"
   },
   {
    "duration": 0,
    "start_time": "2024-11-05T04:29:32.856Z"
   },
   {
    "duration": 0,
    "start_time": "2024-11-05T04:29:32.859Z"
   },
   {
    "duration": 0,
    "start_time": "2024-11-05T04:29:32.860Z"
   },
   {
    "duration": 0,
    "start_time": "2024-11-05T04:29:32.861Z"
   },
   {
    "duration": 0,
    "start_time": "2024-11-05T04:29:32.862Z"
   },
   {
    "duration": 0,
    "start_time": "2024-11-05T04:29:32.864Z"
   },
   {
    "duration": 0,
    "start_time": "2024-11-05T04:29:32.865Z"
   },
   {
    "duration": 0,
    "start_time": "2024-11-05T04:29:32.866Z"
   },
   {
    "duration": 0,
    "start_time": "2024-11-05T04:29:32.867Z"
   },
   {
    "duration": 0,
    "start_time": "2024-11-05T04:29:32.868Z"
   },
   {
    "duration": 0,
    "start_time": "2024-11-05T04:29:32.869Z"
   },
   {
    "duration": 0,
    "start_time": "2024-11-05T04:29:32.886Z"
   },
   {
    "duration": 6,
    "start_time": "2024-11-05T04:29:51.151Z"
   },
   {
    "duration": 6,
    "start_time": "2024-11-05T04:29:53.696Z"
   },
   {
    "duration": 5,
    "start_time": "2024-11-05T04:29:55.450Z"
   },
   {
    "duration": 8,
    "start_time": "2024-11-05T04:29:55.778Z"
   },
   {
    "duration": 4,
    "start_time": "2024-11-05T04:29:56.090Z"
   },
   {
    "duration": 3604,
    "start_time": "2024-11-05T04:29:56.243Z"
   },
   {
    "duration": 1377,
    "start_time": "2024-11-05T04:29:59.849Z"
   },
   {
    "duration": 730,
    "start_time": "2024-11-05T04:30:01.228Z"
   },
   {
    "duration": 400,
    "start_time": "2024-11-05T04:30:01.961Z"
   },
   {
    "duration": 6,
    "start_time": "2024-11-05T04:30:02.363Z"
   },
   {
    "duration": 22,
    "start_time": "2024-11-05T04:30:02.371Z"
   },
   {
    "duration": 6,
    "start_time": "2024-11-05T04:30:02.394Z"
   },
   {
    "duration": 3,
    "start_time": "2024-11-05T04:30:02.402Z"
   },
   {
    "duration": 5,
    "start_time": "2024-11-05T04:30:02.407Z"
   },
   {
    "duration": 1007,
    "start_time": "2024-11-05T04:33:21.232Z"
   },
   {
    "duration": 519,
    "start_time": "2024-11-05T04:33:22.241Z"
   },
   {
    "duration": 53,
    "start_time": "2024-11-05T04:33:22.762Z"
   },
   {
    "duration": 168,
    "start_time": "2024-11-05T04:33:22.818Z"
   },
   {
    "duration": 99,
    "start_time": "2024-11-05T04:33:22.988Z"
   },
   {
    "duration": 185,
    "start_time": "2024-11-05T04:33:23.089Z"
   },
   {
    "duration": 12,
    "start_time": "2024-11-05T04:33:23.276Z"
   },
   {
    "duration": 10,
    "start_time": "2024-11-05T04:33:23.289Z"
   },
   {
    "duration": 6,
    "start_time": "2024-11-05T04:33:23.301Z"
   },
   {
    "duration": 5,
    "start_time": "2024-11-05T04:33:23.310Z"
   },
   {
    "duration": 7,
    "start_time": "2024-11-05T04:33:23.316Z"
   },
   {
    "duration": 8,
    "start_time": "2024-11-05T04:33:23.324Z"
   },
   {
    "duration": 11,
    "start_time": "2024-11-05T04:33:23.333Z"
   },
   {
    "duration": 46,
    "start_time": "2024-11-05T04:33:23.345Z"
   },
   {
    "duration": 5,
    "start_time": "2024-11-05T04:33:23.393Z"
   },
   {
    "duration": 9,
    "start_time": "2024-11-05T04:33:23.400Z"
   },
   {
    "duration": 3,
    "start_time": "2024-11-05T04:33:23.411Z"
   },
   {
    "duration": 3611,
    "start_time": "2024-11-05T04:33:23.416Z"
   },
   {
    "duration": 1127,
    "start_time": "2024-11-05T04:33:27.031Z"
   },
   {
    "duration": 887,
    "start_time": "2024-11-05T04:33:28.159Z"
   },
   {
    "duration": 410,
    "start_time": "2024-11-05T04:33:29.048Z"
   },
   {
    "duration": 6,
    "start_time": "2024-11-05T04:33:29.460Z"
   },
   {
    "duration": 20,
    "start_time": "2024-11-05T04:33:29.468Z"
   },
   {
    "duration": 6,
    "start_time": "2024-11-05T04:33:29.490Z"
   },
   {
    "duration": 3,
    "start_time": "2024-11-05T04:33:29.498Z"
   },
   {
    "duration": 5,
    "start_time": "2024-11-05T04:33:29.502Z"
   },
   {
    "duration": 1048,
    "start_time": "2024-11-05T04:33:38.818Z"
   },
   {
    "duration": 488,
    "start_time": "2024-11-05T04:33:39.868Z"
   },
   {
    "duration": 48,
    "start_time": "2024-11-05T04:33:40.358Z"
   },
   {
    "duration": 161,
    "start_time": "2024-11-05T04:33:40.408Z"
   },
   {
    "duration": 92,
    "start_time": "2024-11-05T04:33:40.572Z"
   },
   {
    "duration": 188,
    "start_time": "2024-11-05T04:33:40.665Z"
   },
   {
    "duration": 8,
    "start_time": "2024-11-05T04:33:40.855Z"
   },
   {
    "duration": 25,
    "start_time": "2024-11-05T04:33:40.865Z"
   },
   {
    "duration": 7,
    "start_time": "2024-11-05T04:33:40.891Z"
   },
   {
    "duration": 5,
    "start_time": "2024-11-05T04:33:40.900Z"
   },
   {
    "duration": 6,
    "start_time": "2024-11-05T04:33:40.906Z"
   },
   {
    "duration": 7,
    "start_time": "2024-11-05T04:33:40.914Z"
   },
   {
    "duration": 9,
    "start_time": "2024-11-05T04:33:40.923Z"
   },
   {
    "duration": 6,
    "start_time": "2024-11-05T04:33:40.936Z"
   },
   {
    "duration": 43,
    "start_time": "2024-11-05T04:33:40.943Z"
   },
   {
    "duration": 8,
    "start_time": "2024-11-05T04:33:40.988Z"
   },
   {
    "duration": 3,
    "start_time": "2024-11-05T04:33:40.998Z"
   },
   {
    "duration": 3648,
    "start_time": "2024-11-05T04:33:41.003Z"
   },
   {
    "duration": 1087,
    "start_time": "2024-11-05T04:33:44.653Z"
   },
   {
    "duration": 808,
    "start_time": "2024-11-05T04:33:45.742Z"
   },
   {
    "duration": 407,
    "start_time": "2024-11-05T04:33:46.552Z"
   },
   {
    "duration": 6,
    "start_time": "2024-11-05T04:33:46.961Z"
   },
   {
    "duration": 21,
    "start_time": "2024-11-05T04:33:46.969Z"
   },
   {
    "duration": 6,
    "start_time": "2024-11-05T04:33:46.991Z"
   },
   {
    "duration": 5,
    "start_time": "2024-11-05T04:33:46.998Z"
   },
   {
    "duration": 4,
    "start_time": "2024-11-05T04:33:47.005Z"
   },
   {
    "duration": 209141,
    "start_time": "2024-11-05T04:33:47.011Z"
   },
   {
    "duration": 24,
    "start_time": "2024-11-05T05:15:15.490Z"
   },
   {
    "duration": 115,
    "start_time": "2024-11-05T05:15:29.002Z"
   },
   {
    "duration": 963,
    "start_time": "2024-11-05T05:16:48.490Z"
   },
   {
    "duration": 517,
    "start_time": "2024-11-05T05:16:49.455Z"
   },
   {
    "duration": 41,
    "start_time": "2024-11-05T05:16:49.974Z"
   },
   {
    "duration": 173,
    "start_time": "2024-11-05T05:16:50.018Z"
   },
   {
    "duration": 85,
    "start_time": "2024-11-05T05:16:50.193Z"
   },
   {
    "duration": 180,
    "start_time": "2024-11-05T05:16:50.279Z"
   },
   {
    "duration": 6,
    "start_time": "2024-11-05T05:16:50.461Z"
   },
   {
    "duration": 18,
    "start_time": "2024-11-05T05:16:50.469Z"
   },
   {
    "duration": 5,
    "start_time": "2024-11-05T05:16:50.489Z"
   },
   {
    "duration": 5,
    "start_time": "2024-11-05T05:16:50.498Z"
   },
   {
    "duration": 7,
    "start_time": "2024-11-05T05:16:50.504Z"
   },
   {
    "duration": 10,
    "start_time": "2024-11-05T05:16:50.513Z"
   },
   {
    "duration": 6,
    "start_time": "2024-11-05T05:16:50.525Z"
   },
   {
    "duration": 4,
    "start_time": "2024-11-05T05:16:50.533Z"
   },
   {
    "duration": 49,
    "start_time": "2024-11-05T05:16:50.540Z"
   },
   {
    "duration": 8,
    "start_time": "2024-11-05T05:16:50.591Z"
   },
   {
    "duration": 3654,
    "start_time": "2024-11-05T05:16:50.601Z"
   },
   {
    "duration": 1091,
    "start_time": "2024-11-05T05:16:54.257Z"
   },
   {
    "duration": 857,
    "start_time": "2024-11-05T05:16:55.349Z"
   },
   {
    "duration": 362,
    "start_time": "2024-11-05T05:16:56.208Z"
   },
   {
    "duration": 19,
    "start_time": "2024-11-05T05:16:56.572Z"
   },
   {
    "duration": 7,
    "start_time": "2024-11-05T05:16:56.593Z"
   },
   {
    "duration": 5,
    "start_time": "2024-11-05T05:16:56.602Z"
   },
   {
    "duration": 2,
    "start_time": "2024-11-05T05:16:56.609Z"
   },
   {
    "duration": 0,
    "start_time": "2024-11-05T05:17:55.287Z"
   },
   {
    "duration": 170108,
    "start_time": "2024-11-05T05:17:56.721Z"
   },
   {
    "duration": 10,
    "start_time": "2024-11-05T05:30:44.866Z"
   },
   {
    "duration": 23,
    "start_time": "2024-11-05T05:31:27.281Z"
   },
   {
    "duration": 22,
    "start_time": "2024-11-05T05:32:01.646Z"
   },
   {
    "duration": 19747,
    "start_time": "2024-11-05T05:32:07.641Z"
   },
   {
    "duration": 169634,
    "start_time": "2024-11-05T05:32:28.691Z"
   },
   {
    "duration": 169917,
    "start_time": "2024-11-05T05:35:54.394Z"
   },
   {
    "duration": 169683,
    "start_time": "2024-11-05T05:39:08.312Z"
   },
   {
    "duration": 106814,
    "start_time": "2024-11-05T05:43:08.681Z"
   },
   {
    "duration": 995,
    "start_time": "2024-11-05T05:45:10.753Z"
   },
   {
    "duration": 530,
    "start_time": "2024-11-05T05:45:11.750Z"
   },
   {
    "duration": 42,
    "start_time": "2024-11-05T05:45:12.282Z"
   },
   {
    "duration": 164,
    "start_time": "2024-11-05T05:45:12.327Z"
   },
   {
    "duration": 83,
    "start_time": "2024-11-05T05:45:12.493Z"
   },
   {
    "duration": 173,
    "start_time": "2024-11-05T05:45:12.587Z"
   },
   {
    "duration": 6,
    "start_time": "2024-11-05T05:45:12.763Z"
   },
   {
    "duration": 20,
    "start_time": "2024-11-05T05:45:12.771Z"
   },
   {
    "duration": 5,
    "start_time": "2024-11-05T05:45:12.793Z"
   },
   {
    "duration": 4,
    "start_time": "2024-11-05T05:45:12.802Z"
   },
   {
    "duration": 6,
    "start_time": "2024-11-05T05:45:12.808Z"
   },
   {
    "duration": 10,
    "start_time": "2024-11-05T05:45:12.815Z"
   },
   {
    "duration": 6,
    "start_time": "2024-11-05T05:45:12.827Z"
   },
   {
    "duration": 5,
    "start_time": "2024-11-05T05:45:12.835Z"
   },
   {
    "duration": 49,
    "start_time": "2024-11-05T05:45:12.841Z"
   },
   {
    "duration": 8,
    "start_time": "2024-11-05T05:45:12.891Z"
   },
   {
    "duration": 3631,
    "start_time": "2024-11-05T05:45:12.900Z"
   },
   {
    "duration": 1097,
    "start_time": "2024-11-05T05:45:16.532Z"
   },
   {
    "duration": 908,
    "start_time": "2024-11-05T05:45:17.630Z"
   },
   {
    "duration": 408,
    "start_time": "2024-11-05T05:45:18.540Z"
   },
   {
    "duration": 7,
    "start_time": "2024-11-05T05:45:18.949Z"
   },
   {
    "duration": 8,
    "start_time": "2024-11-05T05:45:18.957Z"
   },
   {
    "duration": 22,
    "start_time": "2024-11-05T05:45:18.966Z"
   },
   {
    "duration": 3,
    "start_time": "2024-11-05T05:45:18.990Z"
   },
   {
    "duration": 958,
    "start_time": "2024-11-05T05:46:44.689Z"
   },
   {
    "duration": 506,
    "start_time": "2024-11-05T05:46:45.649Z"
   },
   {
    "duration": 47,
    "start_time": "2024-11-05T05:46:46.157Z"
   },
   {
    "duration": 162,
    "start_time": "2024-11-05T05:46:46.206Z"
   },
   {
    "duration": 96,
    "start_time": "2024-11-05T05:46:46.370Z"
   },
   {
    "duration": 172,
    "start_time": "2024-11-05T05:46:46.468Z"
   },
   {
    "duration": 8,
    "start_time": "2024-11-05T05:46:46.641Z"
   },
   {
    "duration": 9,
    "start_time": "2024-11-05T05:46:46.651Z"
   },
   {
    "duration": 5,
    "start_time": "2024-11-05T05:46:46.662Z"
   },
   {
    "duration": 4,
    "start_time": "2024-11-05T05:46:46.688Z"
   },
   {
    "duration": 13,
    "start_time": "2024-11-05T05:46:46.694Z"
   },
   {
    "duration": 13,
    "start_time": "2024-11-05T05:46:46.709Z"
   },
   {
    "duration": 7,
    "start_time": "2024-11-05T05:46:46.724Z"
   },
   {
    "duration": 5,
    "start_time": "2024-11-05T05:46:46.733Z"
   },
   {
    "duration": 8,
    "start_time": "2024-11-05T05:46:46.740Z"
   },
   {
    "duration": 41,
    "start_time": "2024-11-05T05:46:46.749Z"
   },
   {
    "duration": 3635,
    "start_time": "2024-11-05T05:46:46.792Z"
   },
   {
    "duration": 1117,
    "start_time": "2024-11-05T05:46:50.428Z"
   },
   {
    "duration": 857,
    "start_time": "2024-11-05T05:46:51.548Z"
   },
   {
    "duration": 359,
    "start_time": "2024-11-05T05:46:52.407Z"
   },
   {
    "duration": 6,
    "start_time": "2024-11-05T05:46:52.768Z"
   },
   {
    "duration": 17,
    "start_time": "2024-11-05T05:46:52.776Z"
   },
   {
    "duration": 6,
    "start_time": "2024-11-05T05:46:52.794Z"
   },
   {
    "duration": 3,
    "start_time": "2024-11-05T05:46:52.801Z"
   },
   {
    "duration": 207913,
    "start_time": "2024-11-05T05:46:52.806Z"
   },
   {
    "duration": 207446,
    "start_time": "2024-11-05T05:51:16.920Z"
   },
   {
    "duration": 220,
    "start_time": "2024-11-05T06:03:11.577Z"
   },
   {
    "duration": 978,
    "start_time": "2024-11-05T06:21:19.564Z"
   },
   {
    "duration": 537,
    "start_time": "2024-11-05T06:21:20.544Z"
   },
   {
    "duration": 45,
    "start_time": "2024-11-05T06:21:21.083Z"
   },
   {
    "duration": 169,
    "start_time": "2024-11-05T06:21:21.131Z"
   },
   {
    "duration": 93,
    "start_time": "2024-11-05T06:21:21.301Z"
   },
   {
    "duration": 187,
    "start_time": "2024-11-05T06:21:21.396Z"
   },
   {
    "duration": 8,
    "start_time": "2024-11-05T06:21:21.584Z"
   },
   {
    "duration": 10,
    "start_time": "2024-11-05T06:21:21.594Z"
   },
   {
    "duration": 6,
    "start_time": "2024-11-05T06:21:21.606Z"
   },
   {
    "duration": 5,
    "start_time": "2024-11-05T06:21:21.616Z"
   },
   {
    "duration": 7,
    "start_time": "2024-11-05T06:21:21.623Z"
   },
   {
    "duration": 10,
    "start_time": "2024-11-05T06:21:21.632Z"
   },
   {
    "duration": 5,
    "start_time": "2024-11-05T06:21:21.686Z"
   },
   {
    "duration": 5,
    "start_time": "2024-11-05T06:21:21.693Z"
   },
   {
    "duration": 4,
    "start_time": "2024-11-05T06:21:21.700Z"
   },
   {
    "duration": 9,
    "start_time": "2024-11-05T06:21:21.706Z"
   },
   {
    "duration": 3639,
    "start_time": "2024-11-05T06:21:21.716Z"
   },
   {
    "duration": 1104,
    "start_time": "2024-11-05T06:21:25.357Z"
   },
   {
    "duration": 910,
    "start_time": "2024-11-05T06:21:26.463Z"
   },
   {
    "duration": 427,
    "start_time": "2024-11-05T06:21:27.375Z"
   },
   {
    "duration": 7,
    "start_time": "2024-11-05T06:21:27.804Z"
   },
   {
    "duration": 7,
    "start_time": "2024-11-05T06:21:27.813Z"
   },
   {
    "duration": 6,
    "start_time": "2024-11-05T06:21:27.822Z"
   },
   {
    "duration": 3,
    "start_time": "2024-11-05T06:21:27.830Z"
   },
   {
    "duration": 381,
    "start_time": "2024-11-05T06:21:27.835Z"
   },
   {
    "duration": 125,
    "start_time": "2024-11-05T06:23:33.498Z"
   },
   {
    "duration": 157,
    "start_time": "2024-11-05T06:23:56.008Z"
   },
   {
    "duration": 345,
    "start_time": "2024-11-05T06:26:48.805Z"
   },
   {
    "duration": 308950,
    "start_time": "2024-11-05T06:29:02.568Z"
   },
   {
    "duration": 4,
    "start_time": "2024-11-05T06:35:33.782Z"
   },
   {
    "duration": 980,
    "start_time": "2024-11-05T06:37:35.867Z"
   },
   {
    "duration": 524,
    "start_time": "2024-11-05T06:37:36.849Z"
   },
   {
    "duration": 55,
    "start_time": "2024-11-05T06:37:37.376Z"
   },
   {
    "duration": 174,
    "start_time": "2024-11-05T06:37:37.433Z"
   },
   {
    "duration": 91,
    "start_time": "2024-11-05T06:37:37.610Z"
   },
   {
    "duration": 183,
    "start_time": "2024-11-05T06:37:37.702Z"
   },
   {
    "duration": 8,
    "start_time": "2024-11-05T06:37:37.888Z"
   },
   {
    "duration": 9,
    "start_time": "2024-11-05T06:37:37.898Z"
   },
   {
    "duration": 6,
    "start_time": "2024-11-05T06:37:37.908Z"
   },
   {
    "duration": 5,
    "start_time": "2024-11-05T06:37:37.915Z"
   },
   {
    "duration": 7,
    "start_time": "2024-11-05T06:37:37.922Z"
   },
   {
    "duration": 12,
    "start_time": "2024-11-05T06:37:37.932Z"
   },
   {
    "duration": 36,
    "start_time": "2024-11-05T06:37:37.950Z"
   },
   {
    "duration": 4,
    "start_time": "2024-11-05T06:37:37.990Z"
   },
   {
    "duration": 5,
    "start_time": "2024-11-05T06:37:37.995Z"
   },
   {
    "duration": 8,
    "start_time": "2024-11-05T06:37:38.002Z"
   },
   {
    "duration": 3719,
    "start_time": "2024-11-05T06:37:38.012Z"
   },
   {
    "duration": 1123,
    "start_time": "2024-11-05T06:37:41.733Z"
   },
   {
    "duration": 908,
    "start_time": "2024-11-05T06:37:42.858Z"
   },
   {
    "duration": 409,
    "start_time": "2024-11-05T06:37:43.768Z"
   },
   {
    "duration": 7,
    "start_time": "2024-11-05T06:37:44.186Z"
   },
   {
    "duration": 7,
    "start_time": "2024-11-05T06:37:44.195Z"
   },
   {
    "duration": 7,
    "start_time": "2024-11-05T06:37:44.204Z"
   },
   {
    "duration": 3,
    "start_time": "2024-11-05T06:37:44.213Z"
   },
   {
    "duration": 306920,
    "start_time": "2024-11-05T06:37:44.218Z"
   },
   {
    "duration": 8,
    "start_time": "2024-11-05T09:15:03.237Z"
   },
   {
    "duration": 4,
    "start_time": "2024-11-05T09:19:28.701Z"
   },
   {
    "duration": 1036,
    "start_time": "2024-11-05T09:29:22.369Z"
   },
   {
    "duration": 571,
    "start_time": "2024-11-05T09:29:23.407Z"
   },
   {
    "duration": 48,
    "start_time": "2024-11-05T09:29:23.980Z"
   },
   {
    "duration": 169,
    "start_time": "2024-11-05T09:29:24.030Z"
   },
   {
    "duration": 92,
    "start_time": "2024-11-05T09:29:24.201Z"
   },
   {
    "duration": 167,
    "start_time": "2024-11-05T09:29:24.294Z"
   },
   {
    "duration": 7,
    "start_time": "2024-11-05T09:29:24.463Z"
   },
   {
    "duration": 10,
    "start_time": "2024-11-05T09:29:24.471Z"
   },
   {
    "duration": 6,
    "start_time": "2024-11-05T09:29:24.482Z"
   },
   {
    "duration": 5,
    "start_time": "2024-11-05T09:29:24.491Z"
   },
   {
    "duration": 7,
    "start_time": "2024-11-05T09:29:24.497Z"
   },
   {
    "duration": 45,
    "start_time": "2024-11-05T09:29:24.506Z"
   },
   {
    "duration": 6,
    "start_time": "2024-11-05T09:29:24.553Z"
   },
   {
    "duration": 5,
    "start_time": "2024-11-05T09:29:25.024Z"
   },
   {
    "duration": 5,
    "start_time": "2024-11-05T09:29:25.456Z"
   },
   {
    "duration": 11,
    "start_time": "2024-11-05T09:29:25.772Z"
   },
   {
    "duration": 3610,
    "start_time": "2024-11-05T09:29:26.353Z"
   },
   {
    "duration": 1260,
    "start_time": "2024-11-05T09:29:29.966Z"
   },
   {
    "duration": 961,
    "start_time": "2024-11-05T09:29:31.228Z"
   },
   {
    "duration": 404,
    "start_time": "2024-11-05T09:29:32.192Z"
   },
   {
    "duration": 7,
    "start_time": "2024-11-05T09:29:32.598Z"
   },
   {
    "duration": 9,
    "start_time": "2024-11-05T09:29:32.606Z"
   },
   {
    "duration": 27,
    "start_time": "2024-11-05T09:29:32.616Z"
   },
   {
    "duration": 4,
    "start_time": "2024-11-05T09:29:32.644Z"
   },
   {
    "duration": 1005,
    "start_time": "2024-11-05T09:29:38.157Z"
   },
   {
    "duration": 3,
    "start_time": "2024-11-05T09:29:53.456Z"
   },
   {
    "duration": 1151,
    "start_time": "2024-11-05T09:29:55.906Z"
   },
   {
    "duration": 4,
    "start_time": "2024-11-05T09:30:04.552Z"
   },
   {
    "duration": 241013,
    "start_time": "2024-11-05T09:30:10.463Z"
   },
   {
    "duration": 2985,
    "start_time": "2024-11-05T21:30:53.532Z"
   },
   {
    "duration": 818,
    "start_time": "2024-11-05T21:30:56.520Z"
   },
   {
    "duration": 55,
    "start_time": "2024-11-05T21:30:57.340Z"
   },
   {
    "duration": 206,
    "start_time": "2024-11-05T21:30:57.398Z"
   },
   {
    "duration": 123,
    "start_time": "2024-11-05T21:30:57.606Z"
   },
   {
    "duration": 192,
    "start_time": "2024-11-05T21:30:57.731Z"
   },
   {
    "duration": 14,
    "start_time": "2024-11-05T21:30:57.925Z"
   },
   {
    "duration": 16,
    "start_time": "2024-11-05T21:30:57.940Z"
   },
   {
    "duration": 7,
    "start_time": "2024-11-05T21:30:57.958Z"
   },
   {
    "duration": 4,
    "start_time": "2024-11-05T21:30:57.969Z"
   },
   {
    "duration": 10,
    "start_time": "2024-11-05T21:30:57.975Z"
   },
   {
    "duration": 6,
    "start_time": "2024-11-05T21:30:57.987Z"
   },
   {
    "duration": 609,
    "start_time": "2024-11-05T21:30:57.995Z"
   },
   {
    "duration": 0,
    "start_time": "2024-11-05T21:30:58.607Z"
   },
   {
    "duration": 0,
    "start_time": "2024-11-05T21:30:58.608Z"
   },
   {
    "duration": 0,
    "start_time": "2024-11-05T21:30:58.609Z"
   },
   {
    "duration": 0,
    "start_time": "2024-11-05T21:30:58.610Z"
   },
   {
    "duration": 0,
    "start_time": "2024-11-05T21:30:58.612Z"
   },
   {
    "duration": 0,
    "start_time": "2024-11-05T21:30:58.613Z"
   },
   {
    "duration": 0,
    "start_time": "2024-11-05T21:30:58.614Z"
   },
   {
    "duration": 0,
    "start_time": "2024-11-05T21:30:58.616Z"
   },
   {
    "duration": 0,
    "start_time": "2024-11-05T21:30:58.617Z"
   },
   {
    "duration": 0,
    "start_time": "2024-11-05T21:30:58.618Z"
   },
   {
    "duration": 0,
    "start_time": "2024-11-05T21:30:58.619Z"
   },
   {
    "duration": 0,
    "start_time": "2024-11-05T21:30:58.620Z"
   },
   {
    "duration": 10,
    "start_time": "2024-11-05T21:32:14.541Z"
   },
   {
    "duration": 7,
    "start_time": "2024-11-05T21:32:30.426Z"
   },
   {
    "duration": 9,
    "start_time": "2024-11-05T21:32:46.304Z"
   },
   {
    "duration": 6,
    "start_time": "2024-11-05T21:33:36.572Z"
   },
   {
    "duration": 4,
    "start_time": "2024-11-05T21:33:39.257Z"
   },
   {
    "duration": 12,
    "start_time": "2024-11-05T21:33:42.357Z"
   },
   {
    "duration": 3588,
    "start_time": "2024-11-05T21:33:47.316Z"
   },
   {
    "duration": 1151,
    "start_time": "2024-11-05T21:33:54.428Z"
   },
   {
    "duration": 924,
    "start_time": "2024-11-05T21:33:59.725Z"
   },
   {
    "duration": 739,
    "start_time": "2024-11-05T21:36:22.532Z"
   },
   {
    "duration": 903,
    "start_time": "2024-11-05T21:37:30.782Z"
   },
   {
    "duration": 10,
    "start_time": "2024-11-05T22:01:16.052Z"
   },
   {
    "duration": 2729,
    "start_time": "2024-11-05T22:01:21.396Z"
   },
   {
    "duration": 658,
    "start_time": "2024-11-05T22:01:24.127Z"
   },
   {
    "duration": 48,
    "start_time": "2024-11-05T22:01:24.787Z"
   },
   {
    "duration": 163,
    "start_time": "2024-11-05T22:01:24.838Z"
   },
   {
    "duration": 91,
    "start_time": "2024-11-05T22:01:25.004Z"
   },
   {
    "duration": 168,
    "start_time": "2024-11-05T22:01:25.097Z"
   },
   {
    "duration": 7,
    "start_time": "2024-11-05T22:01:25.267Z"
   },
   {
    "duration": 5,
    "start_time": "2024-11-05T22:01:25.276Z"
   },
   {
    "duration": 8,
    "start_time": "2024-11-05T22:01:25.283Z"
   },
   {
    "duration": 6,
    "start_time": "2024-11-05T22:01:25.293Z"
   },
   {
    "duration": 33,
    "start_time": "2024-11-05T22:01:25.300Z"
   },
   {
    "duration": 7,
    "start_time": "2024-11-05T22:01:25.334Z"
   },
   {
    "duration": 8,
    "start_time": "2024-11-05T22:01:25.342Z"
   },
   {
    "duration": 6,
    "start_time": "2024-11-05T22:01:25.351Z"
   },
   {
    "duration": 8,
    "start_time": "2024-11-05T22:01:25.359Z"
   },
   {
    "duration": 431,
    "start_time": "2024-11-05T22:01:25.369Z"
   },
   {
    "duration": 0,
    "start_time": "2024-11-05T22:01:25.802Z"
   },
   {
    "duration": 0,
    "start_time": "2024-11-05T22:01:25.802Z"
   },
   {
    "duration": 0,
    "start_time": "2024-11-05T22:01:25.804Z"
   },
   {
    "duration": 0,
    "start_time": "2024-11-05T22:01:25.805Z"
   },
   {
    "duration": 0,
    "start_time": "2024-11-05T22:01:25.806Z"
   },
   {
    "duration": 0,
    "start_time": "2024-11-05T22:01:25.807Z"
   },
   {
    "duration": 0,
    "start_time": "2024-11-05T22:01:25.808Z"
   },
   {
    "duration": 0,
    "start_time": "2024-11-05T22:01:25.809Z"
   },
   {
    "duration": 0,
    "start_time": "2024-11-05T22:01:25.810Z"
   },
   {
    "duration": 0,
    "start_time": "2024-11-05T22:01:25.811Z"
   },
   {
    "duration": 0,
    "start_time": "2024-11-05T22:01:25.831Z"
   },
   {
    "duration": 0,
    "start_time": "2024-11-05T22:01:25.832Z"
   },
   {
    "duration": 38,
    "start_time": "2024-11-05T22:02:57.722Z"
   },
   {
    "duration": 19,
    "start_time": "2024-11-05T22:08:32.346Z"
   },
   {
    "duration": 504,
    "start_time": "2024-11-05T22:08:58.634Z"
   },
   {
    "duration": 53,
    "start_time": "2024-11-05T22:09:46.635Z"
   },
   {
    "duration": 49,
    "start_time": "2024-11-05T22:10:11.147Z"
   },
   {
    "duration": 81,
    "start_time": "2024-11-05T22:10:58.830Z"
   },
   {
    "duration": 81,
    "start_time": "2024-11-05T22:11:30.401Z"
   },
   {
    "duration": 4,
    "start_time": "2024-11-05T22:12:25.687Z"
   },
   {
    "duration": 4,
    "start_time": "2024-11-05T22:12:31.919Z"
   },
   {
    "duration": 38,
    "start_time": "2024-11-05T22:12:35.940Z"
   },
   {
    "duration": 11,
    "start_time": "2024-11-05T22:12:48.086Z"
   },
   {
    "duration": 92,
    "start_time": "2024-11-05T22:13:49.306Z"
   },
   {
    "duration": 1074,
    "start_time": "2024-11-05T22:14:43.104Z"
   },
   {
    "duration": 619,
    "start_time": "2024-11-05T22:14:44.180Z"
   },
   {
    "duration": 51,
    "start_time": "2024-11-05T22:14:44.801Z"
   },
   {
    "duration": 183,
    "start_time": "2024-11-05T22:14:44.855Z"
   },
   {
    "duration": 112,
    "start_time": "2024-11-05T22:14:45.042Z"
   },
   {
    "duration": 176,
    "start_time": "2024-11-05T22:14:45.159Z"
   },
   {
    "duration": 9,
    "start_time": "2024-11-05T22:14:45.339Z"
   },
   {
    "duration": 7,
    "start_time": "2024-11-05T22:14:45.350Z"
   },
   {
    "duration": 7,
    "start_time": "2024-11-05T22:14:45.359Z"
   },
   {
    "duration": 7,
    "start_time": "2024-11-05T22:14:45.370Z"
   },
   {
    "duration": 4,
    "start_time": "2024-11-05T22:14:45.378Z"
   },
   {
    "duration": 6,
    "start_time": "2024-11-05T22:14:45.384Z"
   },
   {
    "duration": 40,
    "start_time": "2024-11-05T22:14:45.391Z"
   },
   {
    "duration": 14,
    "start_time": "2024-11-05T22:14:45.433Z"
   },
   {
    "duration": 14,
    "start_time": "2024-11-05T22:14:45.448Z"
   },
   {
    "duration": 382,
    "start_time": "2024-11-05T22:14:45.464Z"
   },
   {
    "duration": 0,
    "start_time": "2024-11-05T22:14:45.849Z"
   },
   {
    "duration": 0,
    "start_time": "2024-11-05T22:14:45.850Z"
   },
   {
    "duration": 0,
    "start_time": "2024-11-05T22:14:45.851Z"
   },
   {
    "duration": 0,
    "start_time": "2024-11-05T22:14:45.852Z"
   },
   {
    "duration": 0,
    "start_time": "2024-11-05T22:14:45.854Z"
   },
   {
    "duration": 0,
    "start_time": "2024-11-05T22:14:45.855Z"
   },
   {
    "duration": 0,
    "start_time": "2024-11-05T22:14:45.856Z"
   },
   {
    "duration": 0,
    "start_time": "2024-11-05T22:14:45.857Z"
   },
   {
    "duration": 0,
    "start_time": "2024-11-05T22:14:45.858Z"
   },
   {
    "duration": 0,
    "start_time": "2024-11-05T22:14:45.859Z"
   },
   {
    "duration": 0,
    "start_time": "2024-11-05T22:14:45.861Z"
   },
   {
    "duration": 0,
    "start_time": "2024-11-05T22:14:45.862Z"
   },
   {
    "duration": 16,
    "start_time": "2024-11-05T22:16:53.173Z"
   },
   {
    "duration": 14,
    "start_time": "2024-11-05T22:25:32.203Z"
   },
   {
    "duration": 5,
    "start_time": "2024-11-05T22:25:35.345Z"
   },
   {
    "duration": 5,
    "start_time": "2024-11-05T22:26:18.973Z"
   },
   {
    "duration": 2657,
    "start_time": "2024-11-06T04:31:36.212Z"
   },
   {
    "duration": 644,
    "start_time": "2024-11-06T04:31:38.871Z"
   },
   {
    "duration": 41,
    "start_time": "2024-11-06T04:31:39.517Z"
   },
   {
    "duration": 165,
    "start_time": "2024-11-06T04:31:39.559Z"
   },
   {
    "duration": 90,
    "start_time": "2024-11-06T04:31:39.727Z"
   },
   {
    "duration": 176,
    "start_time": "2024-11-06T04:31:39.819Z"
   },
   {
    "duration": 13,
    "start_time": "2024-11-06T04:31:39.997Z"
   },
   {
    "duration": 5,
    "start_time": "2024-11-06T04:31:40.012Z"
   },
   {
    "duration": 7,
    "start_time": "2024-11-06T04:31:40.019Z"
   },
   {
    "duration": 5,
    "start_time": "2024-11-06T04:31:40.027Z"
   },
   {
    "duration": 3,
    "start_time": "2024-11-06T04:31:40.034Z"
   },
   {
    "duration": 6,
    "start_time": "2024-11-06T04:31:40.039Z"
   },
   {
    "duration": 7,
    "start_time": "2024-11-06T04:31:40.047Z"
   },
   {
    "duration": 48,
    "start_time": "2024-11-06T04:31:40.057Z"
   },
   {
    "duration": 7,
    "start_time": "2024-11-06T04:31:40.107Z"
   },
   {
    "duration": 4,
    "start_time": "2024-11-06T04:31:40.115Z"
   },
   {
    "duration": 289,
    "start_time": "2024-11-06T04:31:40.121Z"
   },
   {
    "duration": 0,
    "start_time": "2024-11-06T04:31:40.411Z"
   },
   {
    "duration": 0,
    "start_time": "2024-11-06T04:31:40.413Z"
   },
   {
    "duration": 0,
    "start_time": "2024-11-06T04:31:40.414Z"
   },
   {
    "duration": 0,
    "start_time": "2024-11-06T04:31:40.416Z"
   },
   {
    "duration": 0,
    "start_time": "2024-11-06T04:31:40.417Z"
   },
   {
    "duration": 0,
    "start_time": "2024-11-06T04:31:40.418Z"
   },
   {
    "duration": 0,
    "start_time": "2024-11-06T04:31:40.419Z"
   },
   {
    "duration": 0,
    "start_time": "2024-11-06T04:31:40.421Z"
   },
   {
    "duration": 0,
    "start_time": "2024-11-06T04:31:40.423Z"
   },
   {
    "duration": 0,
    "start_time": "2024-11-06T04:31:40.424Z"
   },
   {
    "duration": 0,
    "start_time": "2024-11-06T04:31:40.425Z"
   },
   {
    "duration": 0,
    "start_time": "2024-11-06T04:31:40.426Z"
   },
   {
    "duration": 0,
    "start_time": "2024-11-06T04:31:40.428Z"
   },
   {
    "duration": 139,
    "start_time": "2024-11-06T04:32:38.370Z"
   },
   {
    "duration": 30,
    "start_time": "2024-11-06T04:34:13.683Z"
   },
   {
    "duration": 22,
    "start_time": "2024-11-06T04:34:52.533Z"
   },
   {
    "duration": 32,
    "start_time": "2024-11-06T04:35:49.152Z"
   },
   {
    "duration": 24,
    "start_time": "2024-11-06T04:35:56.409Z"
   },
   {
    "duration": 5,
    "start_time": "2024-11-06T04:37:26.708Z"
   },
   {
    "duration": 973,
    "start_time": "2024-11-06T04:40:54.184Z"
   },
   {
    "duration": 497,
    "start_time": "2024-11-06T04:40:55.159Z"
   },
   {
    "duration": 50,
    "start_time": "2024-11-06T04:40:55.658Z"
   },
   {
    "duration": 159,
    "start_time": "2024-11-06T04:40:55.710Z"
   },
   {
    "duration": 87,
    "start_time": "2024-11-06T04:40:55.871Z"
   },
   {
    "duration": 183,
    "start_time": "2024-11-06T04:40:55.960Z"
   },
   {
    "duration": 7,
    "start_time": "2024-11-06T04:40:56.145Z"
   },
   {
    "duration": 6,
    "start_time": "2024-11-06T04:40:56.155Z"
   },
   {
    "duration": 7,
    "start_time": "2024-11-06T04:40:56.164Z"
   },
   {
    "duration": 6,
    "start_time": "2024-11-06T04:40:56.175Z"
   },
   {
    "duration": 25,
    "start_time": "2024-11-06T04:40:56.182Z"
   },
   {
    "duration": 5,
    "start_time": "2024-11-06T04:40:56.209Z"
   },
   {
    "duration": 8,
    "start_time": "2024-11-06T04:40:56.215Z"
   },
   {
    "duration": 6,
    "start_time": "2024-11-06T04:40:56.225Z"
   },
   {
    "duration": 7,
    "start_time": "2024-11-06T04:40:56.232Z"
   },
   {
    "duration": 5,
    "start_time": "2024-11-06T04:40:56.240Z"
   },
   {
    "duration": 69,
    "start_time": "2024-11-06T04:40:56.247Z"
   },
   {
    "duration": 5,
    "start_time": "2024-11-06T04:40:56.318Z"
   },
   {
    "duration": 5,
    "start_time": "2024-11-06T04:40:56.325Z"
   },
   {
    "duration": 5,
    "start_time": "2024-11-06T04:40:56.332Z"
   },
   {
    "duration": 7,
    "start_time": "2024-11-06T04:40:56.338Z"
   },
   {
    "duration": 830,
    "start_time": "2024-11-06T04:40:56.347Z"
   },
   {
    "duration": 1168,
    "start_time": "2024-11-06T04:40:57.179Z"
   },
   {
    "duration": 805,
    "start_time": "2024-11-06T04:40:58.349Z"
   },
   {
    "duration": 488,
    "start_time": "2024-11-06T04:40:59.156Z"
   },
   {
    "duration": 8,
    "start_time": "2024-11-06T04:40:59.646Z"
   },
   {
    "duration": 6,
    "start_time": "2024-11-06T04:40:59.656Z"
   },
   {
    "duration": 6,
    "start_time": "2024-11-06T04:40:59.666Z"
   },
   {
    "duration": 2,
    "start_time": "2024-11-06T04:40:59.675Z"
   },
   {
    "duration": 28,
    "start_time": "2024-11-06T04:40:59.679Z"
   },
   {
    "duration": 6,
    "start_time": "2024-11-06T04:41:37.234Z"
   },
   {
    "duration": 6,
    "start_time": "2024-11-06T04:41:50.856Z"
   },
   {
    "duration": 46666,
    "start_time": "2024-11-06T04:43:46.973Z"
   },
   {
    "duration": 0,
    "start_time": "2024-11-06T04:44:33.641Z"
   },
   {
    "duration": 3,
    "start_time": "2024-11-06T04:44:40.315Z"
   },
   {
    "duration": 265313,
    "start_time": "2024-11-06T04:44:41.640Z"
   },
   {
    "duration": 265962,
    "start_time": "2024-11-06T04:54:31.677Z"
   },
   {
    "duration": 18,
    "start_time": "2024-11-06T05:02:06.709Z"
   },
   {
    "duration": 63,
    "start_time": "2024-11-06T05:02:19.257Z"
   },
   {
    "duration": 38,
    "start_time": "2024-11-06T05:03:39.405Z"
   },
   {
    "duration": 47,
    "start_time": "2024-11-06T05:05:03.519Z"
   },
   {
    "duration": 32,
    "start_time": "2024-11-06T05:05:36.748Z"
   },
   {
    "duration": 48,
    "start_time": "2024-11-06T05:06:08.279Z"
   },
   {
    "duration": 5,
    "start_time": "2024-11-06T05:06:30.545Z"
   },
   {
    "duration": 292089,
    "start_time": "2024-11-06T05:06:44.383Z"
   },
   {
    "duration": 113,
    "start_time": "2024-11-06T05:12:02.314Z"
   },
   {
    "duration": 27,
    "start_time": "2024-11-06T05:13:17.930Z"
   },
   {
    "duration": 18,
    "start_time": "2024-11-06T05:25:13.698Z"
   },
   {
    "duration": 20,
    "start_time": "2024-11-06T05:25:26.757Z"
   },
   {
    "duration": 17,
    "start_time": "2024-11-06T05:25:55.155Z"
   },
   {
    "duration": 5,
    "start_time": "2024-11-06T05:26:28.608Z"
   },
   {
    "duration": 19,
    "start_time": "2024-11-06T05:26:36.655Z"
   },
   {
    "duration": 22,
    "start_time": "2024-11-06T05:27:49.786Z"
   },
   {
    "duration": 25,
    "start_time": "2024-11-06T05:28:47.405Z"
   },
   {
    "duration": 5,
    "start_time": "2024-11-06T05:29:03.802Z"
   },
   {
    "duration": 6,
    "start_time": "2024-11-06T05:32:24.745Z"
   },
   {
    "duration": 29,
    "start_time": "2024-11-06T05:36:28.635Z"
   },
   {
    "duration": 45719,
    "start_time": "2024-11-06T05:36:42.098Z"
   },
   {
    "duration": 971,
    "start_time": "2024-11-06T05:39:08.681Z"
   },
   {
    "duration": 502,
    "start_time": "2024-11-06T05:39:09.654Z"
   },
   {
    "duration": 50,
    "start_time": "2024-11-06T05:39:10.158Z"
   },
   {
    "duration": 159,
    "start_time": "2024-11-06T05:39:10.211Z"
   },
   {
    "duration": 98,
    "start_time": "2024-11-06T05:39:10.372Z"
   },
   {
    "duration": 171,
    "start_time": "2024-11-06T05:39:10.472Z"
   },
   {
    "duration": 6,
    "start_time": "2024-11-06T05:39:10.645Z"
   },
   {
    "duration": 5,
    "start_time": "2024-11-06T05:39:10.653Z"
   },
   {
    "duration": 6,
    "start_time": "2024-11-06T05:39:10.659Z"
   },
   {
    "duration": 5,
    "start_time": "2024-11-06T05:39:10.669Z"
   },
   {
    "duration": 32,
    "start_time": "2024-11-06T05:39:10.675Z"
   },
   {
    "duration": 6,
    "start_time": "2024-11-06T05:39:10.709Z"
   },
   {
    "duration": 7,
    "start_time": "2024-11-06T05:39:10.718Z"
   },
   {
    "duration": 6,
    "start_time": "2024-11-06T05:39:10.726Z"
   },
   {
    "duration": 8,
    "start_time": "2024-11-06T05:39:10.733Z"
   },
   {
    "duration": 4,
    "start_time": "2024-11-06T05:39:10.742Z"
   },
   {
    "duration": 357,
    "start_time": "2024-11-06T05:39:10.748Z"
   },
   {
    "duration": 0,
    "start_time": "2024-11-06T05:39:11.107Z"
   },
   {
    "duration": 0,
    "start_time": "2024-11-06T05:39:11.108Z"
   },
   {
    "duration": 0,
    "start_time": "2024-11-06T05:39:11.109Z"
   },
   {
    "duration": 0,
    "start_time": "2024-11-06T05:39:11.111Z"
   },
   {
    "duration": 0,
    "start_time": "2024-11-06T05:39:11.112Z"
   },
   {
    "duration": 0,
    "start_time": "2024-11-06T05:39:11.113Z"
   },
   {
    "duration": 0,
    "start_time": "2024-11-06T05:39:11.114Z"
   },
   {
    "duration": 0,
    "start_time": "2024-11-06T05:39:11.114Z"
   },
   {
    "duration": 0,
    "start_time": "2024-11-06T05:39:11.115Z"
   },
   {
    "duration": 0,
    "start_time": "2024-11-06T05:39:11.116Z"
   },
   {
    "duration": 0,
    "start_time": "2024-11-06T05:39:11.117Z"
   },
   {
    "duration": 0,
    "start_time": "2024-11-06T05:39:11.118Z"
   },
   {
    "duration": 0,
    "start_time": "2024-11-06T05:39:11.119Z"
   },
   {
    "duration": 72,
    "start_time": "2024-11-06T05:41:12.859Z"
   },
   {
    "duration": 61,
    "start_time": "2024-11-06T05:41:47.103Z"
   },
   {
    "duration": 56,
    "start_time": "2024-11-06T05:42:29.215Z"
   },
   {
    "duration": 15,
    "start_time": "2024-11-06T05:43:18.160Z"
   },
   {
    "duration": 12,
    "start_time": "2024-11-06T05:43:31.877Z"
   },
   {
    "duration": 8,
    "start_time": "2024-11-06T05:44:28.539Z"
   },
   {
    "duration": 13,
    "start_time": "2024-11-06T05:44:30.750Z"
   },
   {
    "duration": 5,
    "start_time": "2024-11-06T05:48:23.157Z"
   },
   {
    "duration": 5,
    "start_time": "2024-11-06T05:48:24.984Z"
   },
   {
    "duration": 7,
    "start_time": "2024-11-06T05:48:25.479Z"
   },
   {
    "duration": 854,
    "start_time": "2024-11-06T05:48:26.410Z"
   },
   {
    "duration": 1212,
    "start_time": "2024-11-06T05:48:27.698Z"
   },
   {
    "duration": 760,
    "start_time": "2024-11-06T05:48:28.912Z"
   },
   {
    "duration": 411,
    "start_time": "2024-11-06T05:48:29.674Z"
   },
   {
    "duration": 8,
    "start_time": "2024-11-06T05:48:30.088Z"
   },
   {
    "duration": 6,
    "start_time": "2024-11-06T05:48:30.284Z"
   },
   {
    "duration": 8,
    "start_time": "2024-11-06T05:48:30.941Z"
   },
   {
    "duration": 3,
    "start_time": "2024-11-06T05:48:33.211Z"
   },
   {
    "duration": 41996,
    "start_time": "2024-11-06T05:48:34.853Z"
   },
   {
    "duration": 211120,
    "start_time": "2024-11-06T05:49:32.529Z"
   },
   {
    "duration": 211218,
    "start_time": "2024-11-06T05:54:04.859Z"
   },
   {
    "duration": 53778,
    "start_time": "2024-11-06T05:58:18.332Z"
   },
   {
    "duration": 17,
    "start_time": "2024-11-06T06:01:23.358Z"
   },
   {
    "duration": 953,
    "start_time": "2024-11-06T06:05:02.979Z"
   },
   {
    "duration": 501,
    "start_time": "2024-11-06T06:05:03.934Z"
   },
   {
    "duration": 43,
    "start_time": "2024-11-06T06:05:04.437Z"
   },
   {
    "duration": 165,
    "start_time": "2024-11-06T06:05:04.483Z"
   },
   {
    "duration": 93,
    "start_time": "2024-11-06T06:05:04.650Z"
   },
   {
    "duration": 167,
    "start_time": "2024-11-06T06:05:04.744Z"
   },
   {
    "duration": 7,
    "start_time": "2024-11-06T06:05:04.912Z"
   },
   {
    "duration": 5,
    "start_time": "2024-11-06T06:05:04.921Z"
   },
   {
    "duration": 7,
    "start_time": "2024-11-06T06:05:04.927Z"
   },
   {
    "duration": 5,
    "start_time": "2024-11-06T06:05:04.938Z"
   },
   {
    "duration": 4,
    "start_time": "2024-11-06T06:05:04.945Z"
   },
   {
    "duration": 5,
    "start_time": "2024-11-06T06:05:04.950Z"
   },
   {
    "duration": 49,
    "start_time": "2024-11-06T06:05:04.957Z"
   },
   {
    "duration": 6,
    "start_time": "2024-11-06T06:05:05.007Z"
   },
   {
    "duration": 8,
    "start_time": "2024-11-06T06:05:05.015Z"
   },
   {
    "duration": 4,
    "start_time": "2024-11-06T06:05:05.024Z"
   },
   {
    "duration": 19,
    "start_time": "2024-11-06T06:05:05.030Z"
   },
   {
    "duration": 5,
    "start_time": "2024-11-06T06:05:05.050Z"
   },
   {
    "duration": 5,
    "start_time": "2024-11-06T06:05:05.056Z"
   },
   {
    "duration": 45,
    "start_time": "2024-11-06T06:05:05.062Z"
   },
   {
    "duration": 800,
    "start_time": "2024-11-06T06:05:05.109Z"
   },
   {
    "duration": 1207,
    "start_time": "2024-11-06T06:05:05.910Z"
   },
   {
    "duration": 754,
    "start_time": "2024-11-06T06:05:07.119Z"
   },
   {
    "duration": 486,
    "start_time": "2024-11-06T06:05:07.875Z"
   },
   {
    "duration": 7,
    "start_time": "2024-11-06T06:05:08.362Z"
   },
   {
    "duration": 6,
    "start_time": "2024-11-06T06:05:08.371Z"
   },
   {
    "duration": 27,
    "start_time": "2024-11-06T06:05:08.378Z"
   },
   {
    "duration": 3,
    "start_time": "2024-11-06T06:05:08.408Z"
   },
   {
    "duration": 22658,
    "start_time": "2024-11-06T06:05:08.413Z"
   },
   {
    "duration": 0,
    "start_time": "2024-11-06T06:05:31.072Z"
   },
   {
    "duration": 0,
    "start_time": "2024-11-06T06:05:31.074Z"
   },
   {
    "duration": 211770,
    "start_time": "2024-11-06T06:05:37.206Z"
   },
   {
    "duration": 446253,
    "start_time": "2024-11-06T06:09:08.978Z"
   },
   {
    "duration": 7020,
    "start_time": "2024-11-06T06:16:43.510Z"
   },
   {
    "duration": 411408,
    "start_time": "2024-11-06T06:17:07.406Z"
   },
   {
    "duration": 86359,
    "start_time": "2024-11-06T06:25:11.124Z"
   },
   {
    "duration": 27303,
    "start_time": "2024-11-06T06:26:56.242Z"
   },
   {
    "duration": 38167,
    "start_time": "2024-11-06T06:27:53.917Z"
   },
   {
    "duration": 29065,
    "start_time": "2024-11-06T06:29:00.414Z"
   },
   {
    "duration": 30,
    "start_time": "2024-11-06T06:30:34.131Z"
   },
   {
    "duration": 2208,
    "start_time": "2024-11-06T06:30:46.199Z"
   },
   {
    "duration": 17,
    "start_time": "2024-11-06T06:32:49.587Z"
   },
   {
    "duration": 49,
    "start_time": "2024-11-06T06:34:15.176Z"
   },
   {
    "duration": 3,
    "start_time": "2024-11-06T06:35:31.164Z"
   },
   {
    "duration": 17,
    "start_time": "2024-11-06T06:36:18.239Z"
   },
   {
    "duration": 3,
    "start_time": "2024-11-06T06:36:24.312Z"
   },
   {
    "duration": 34,
    "start_time": "2024-11-06T06:36:59.948Z"
   },
   {
    "duration": 1026,
    "start_time": "2024-11-06T06:37:04.052Z"
   },
   {
    "duration": 498,
    "start_time": "2024-11-06T06:37:05.080Z"
   },
   {
    "duration": 51,
    "start_time": "2024-11-06T06:37:05.582Z"
   },
   {
    "duration": 162,
    "start_time": "2024-11-06T06:37:05.635Z"
   },
   {
    "duration": 121,
    "start_time": "2024-11-06T06:37:05.799Z"
   },
   {
    "duration": 247,
    "start_time": "2024-11-06T06:37:05.921Z"
   },
   {
    "duration": 8,
    "start_time": "2024-11-06T06:37:06.169Z"
   },
   {
    "duration": 5,
    "start_time": "2024-11-06T06:37:06.178Z"
   },
   {
    "duration": 24,
    "start_time": "2024-11-06T06:37:06.187Z"
   },
   {
    "duration": 7,
    "start_time": "2024-11-06T06:37:06.213Z"
   },
   {
    "duration": 3,
    "start_time": "2024-11-06T06:37:06.221Z"
   },
   {
    "duration": 5,
    "start_time": "2024-11-06T06:37:06.226Z"
   },
   {
    "duration": 8,
    "start_time": "2024-11-06T06:37:06.233Z"
   },
   {
    "duration": 6,
    "start_time": "2024-11-06T06:37:06.242Z"
   },
   {
    "duration": 8,
    "start_time": "2024-11-06T06:37:06.250Z"
   },
   {
    "duration": 49,
    "start_time": "2024-11-06T06:37:06.260Z"
   },
   {
    "duration": 25,
    "start_time": "2024-11-06T06:37:06.311Z"
   },
   {
    "duration": 5,
    "start_time": "2024-11-06T06:37:06.338Z"
   },
   {
    "duration": 6,
    "start_time": "2024-11-06T06:37:06.345Z"
   },
   {
    "duration": 7,
    "start_time": "2024-11-06T06:37:06.353Z"
   },
   {
    "duration": 883,
    "start_time": "2024-11-06T06:37:06.361Z"
   },
   {
    "duration": 1193,
    "start_time": "2024-11-06T06:37:07.246Z"
   },
   {
    "duration": 720,
    "start_time": "2024-11-06T06:37:08.441Z"
   },
   {
    "duration": 535,
    "start_time": "2024-11-06T06:37:09.163Z"
   },
   {
    "duration": 8,
    "start_time": "2024-11-06T06:37:09.704Z"
   },
   {
    "duration": 6,
    "start_time": "2024-11-06T06:37:09.713Z"
   },
   {
    "duration": 7,
    "start_time": "2024-11-06T06:37:09.723Z"
   },
   {
    "duration": 3,
    "start_time": "2024-11-06T06:37:09.733Z"
   },
   {
    "duration": 0,
    "start_time": "2024-11-06T06:39:19.191Z"
   },
   {
    "duration": 0,
    "start_time": "2024-11-06T06:39:19.193Z"
   },
   {
    "duration": 0,
    "start_time": "2024-11-06T06:39:19.194Z"
   },
   {
    "duration": 0,
    "start_time": "2024-11-06T06:39:19.204Z"
   },
   {
    "duration": 2329,
    "start_time": "2024-11-06T06:39:20.876Z"
   },
   {
    "duration": 79,
    "start_time": "2024-11-06T06:39:25.951Z"
   },
   {
    "duration": 54,
    "start_time": "2024-11-06T06:39:53.425Z"
   },
   {
    "duration": 3,
    "start_time": "2024-11-06T06:40:07.111Z"
   },
   {
    "duration": 33,
    "start_time": "2024-11-06T06:40:08.305Z"
   },
   {
    "duration": 3,
    "start_time": "2024-11-06T06:40:32.193Z"
   },
   {
    "duration": 3,
    "start_time": "2024-11-06T06:41:32.895Z"
   },
   {
    "duration": 26,
    "start_time": "2024-11-06T06:41:33.964Z"
   },
   {
    "duration": 18,
    "start_time": "2024-11-06T06:42:30.295Z"
   },
   {
    "duration": 49,
    "start_time": "2024-11-06T06:42:42.024Z"
   },
   {
    "duration": 10,
    "start_time": "2024-11-06T06:43:05.006Z"
   },
   {
    "duration": 5,
    "start_time": "2024-11-06T06:49:54.612Z"
   },
   {
    "duration": 4,
    "start_time": "2024-11-06T06:50:05.535Z"
   },
   {
    "duration": 13,
    "start_time": "2024-11-06T06:51:16.033Z"
   },
   {
    "duration": 958,
    "start_time": "2024-11-06T06:51:30.710Z"
   },
   {
    "duration": 493,
    "start_time": "2024-11-06T06:51:31.670Z"
   },
   {
    "duration": 49,
    "start_time": "2024-11-06T06:51:32.165Z"
   },
   {
    "duration": 157,
    "start_time": "2024-11-06T06:51:32.216Z"
   },
   {
    "duration": 101,
    "start_time": "2024-11-06T06:51:32.375Z"
   },
   {
    "duration": 176,
    "start_time": "2024-11-06T06:51:32.478Z"
   },
   {
    "duration": 7,
    "start_time": "2024-11-06T06:51:32.656Z"
   },
   {
    "duration": 5,
    "start_time": "2024-11-06T06:51:32.664Z"
   },
   {
    "duration": 7,
    "start_time": "2024-11-06T06:51:32.670Z"
   },
   {
    "duration": 8,
    "start_time": "2024-11-06T06:51:32.705Z"
   },
   {
    "duration": 4,
    "start_time": "2024-11-06T06:51:32.715Z"
   },
   {
    "duration": 7,
    "start_time": "2024-11-06T06:51:32.721Z"
   },
   {
    "duration": 7,
    "start_time": "2024-11-06T06:51:32.730Z"
   },
   {
    "duration": 6,
    "start_time": "2024-11-06T06:51:32.738Z"
   },
   {
    "duration": 6,
    "start_time": "2024-11-06T06:51:32.746Z"
   },
   {
    "duration": 4,
    "start_time": "2024-11-06T06:51:32.754Z"
   },
   {
    "duration": 58,
    "start_time": "2024-11-06T06:51:32.760Z"
   },
   {
    "duration": 5,
    "start_time": "2024-11-06T06:51:32.820Z"
   },
   {
    "duration": 5,
    "start_time": "2024-11-06T06:51:32.826Z"
   },
   {
    "duration": 6,
    "start_time": "2024-11-06T06:51:32.833Z"
   },
   {
    "duration": 822,
    "start_time": "2024-11-06T06:51:32.841Z"
   },
   {
    "duration": 1170,
    "start_time": "2024-11-06T06:51:33.665Z"
   },
   {
    "duration": 758,
    "start_time": "2024-11-06T06:51:34.836Z"
   },
   {
    "duration": 494,
    "start_time": "2024-11-06T06:51:35.595Z"
   },
   {
    "duration": 14,
    "start_time": "2024-11-06T06:51:36.091Z"
   },
   {
    "duration": 6,
    "start_time": "2024-11-06T06:51:36.107Z"
   },
   {
    "duration": 6,
    "start_time": "2024-11-06T06:51:36.114Z"
   },
   {
    "duration": 3,
    "start_time": "2024-11-06T06:51:36.124Z"
   },
   {
    "duration": 26,
    "start_time": "2024-11-06T06:51:36.129Z"
   },
   {
    "duration": 973,
    "start_time": "2024-11-06T06:53:14.356Z"
   },
   {
    "duration": 498,
    "start_time": "2024-11-06T06:53:15.331Z"
   },
   {
    "duration": 42,
    "start_time": "2024-11-06T06:53:15.831Z"
   },
   {
    "duration": 164,
    "start_time": "2024-11-06T06:53:15.875Z"
   },
   {
    "duration": 90,
    "start_time": "2024-11-06T06:53:16.041Z"
   },
   {
    "duration": 172,
    "start_time": "2024-11-06T06:53:16.133Z"
   },
   {
    "duration": 6,
    "start_time": "2024-11-06T06:53:16.307Z"
   },
   {
    "duration": 5,
    "start_time": "2024-11-06T06:53:16.315Z"
   },
   {
    "duration": 7,
    "start_time": "2024-11-06T06:53:16.322Z"
   },
   {
    "duration": 5,
    "start_time": "2024-11-06T06:53:16.333Z"
   },
   {
    "duration": 3,
    "start_time": "2024-11-06T06:53:16.341Z"
   },
   {
    "duration": 6,
    "start_time": "2024-11-06T06:53:16.345Z"
   },
   {
    "duration": 7,
    "start_time": "2024-11-06T06:53:16.352Z"
   },
   {
    "duration": 47,
    "start_time": "2024-11-06T06:53:16.361Z"
   },
   {
    "duration": 7,
    "start_time": "2024-11-06T06:53:16.409Z"
   },
   {
    "duration": 4,
    "start_time": "2024-11-06T06:53:16.418Z"
   },
   {
    "duration": 21,
    "start_time": "2024-11-06T06:53:16.424Z"
   },
   {
    "duration": 6,
    "start_time": "2024-11-06T06:53:16.447Z"
   },
   {
    "duration": 7,
    "start_time": "2024-11-06T06:53:16.455Z"
   },
   {
    "duration": 4,
    "start_time": "2024-11-06T06:53:16.464Z"
   },
   {
    "duration": 5,
    "start_time": "2024-11-06T06:53:16.505Z"
   },
   {
    "duration": 812,
    "start_time": "2024-11-06T06:53:16.512Z"
   },
   {
    "duration": 1216,
    "start_time": "2024-11-06T06:53:17.326Z"
   },
   {
    "duration": 716,
    "start_time": "2024-11-06T06:53:18.544Z"
   },
   {
    "duration": 493,
    "start_time": "2024-11-06T06:53:19.262Z"
   },
   {
    "duration": 7,
    "start_time": "2024-11-06T06:53:19.757Z"
   },
   {
    "duration": 5,
    "start_time": "2024-11-06T06:53:19.766Z"
   },
   {
    "duration": 30,
    "start_time": "2024-11-06T06:53:19.775Z"
   },
   {
    "duration": 3,
    "start_time": "2024-11-06T06:53:19.807Z"
   },
   {
    "duration": 27,
    "start_time": "2024-11-06T06:53:19.811Z"
   },
   {
    "duration": 970,
    "start_time": "2024-11-06T06:55:03.032Z"
   },
   {
    "duration": 488,
    "start_time": "2024-11-06T06:55:04.004Z"
   },
   {
    "duration": 47,
    "start_time": "2024-11-06T06:55:04.493Z"
   },
   {
    "duration": 163,
    "start_time": "2024-11-06T06:55:04.542Z"
   },
   {
    "duration": 84,
    "start_time": "2024-11-06T06:55:04.706Z"
   },
   {
    "duration": 173,
    "start_time": "2024-11-06T06:55:04.791Z"
   },
   {
    "duration": 7,
    "start_time": "2024-11-06T06:55:04.966Z"
   },
   {
    "duration": 5,
    "start_time": "2024-11-06T06:55:04.975Z"
   },
   {
    "duration": 7,
    "start_time": "2024-11-06T06:55:04.981Z"
   },
   {
    "duration": 5,
    "start_time": "2024-11-06T06:55:05.007Z"
   },
   {
    "duration": 4,
    "start_time": "2024-11-06T06:55:05.013Z"
   },
   {
    "duration": 5,
    "start_time": "2024-11-06T06:55:05.019Z"
   },
   {
    "duration": 6,
    "start_time": "2024-11-06T06:55:05.026Z"
   },
   {
    "duration": 5,
    "start_time": "2024-11-06T06:55:05.035Z"
   },
   {
    "duration": 7,
    "start_time": "2024-11-06T06:55:05.042Z"
   },
   {
    "duration": 3,
    "start_time": "2024-11-06T06:55:05.051Z"
   },
   {
    "duration": 59,
    "start_time": "2024-11-06T06:55:05.056Z"
   },
   {
    "duration": 5,
    "start_time": "2024-11-06T06:55:05.118Z"
   },
   {
    "duration": 5,
    "start_time": "2024-11-06T06:55:05.124Z"
   },
   {
    "duration": 5,
    "start_time": "2024-11-06T06:55:05.131Z"
   },
   {
    "duration": 7,
    "start_time": "2024-11-06T06:55:05.137Z"
   },
   {
    "duration": 828,
    "start_time": "2024-11-06T06:55:05.145Z"
   },
   {
    "duration": 1171,
    "start_time": "2024-11-06T06:55:05.975Z"
   },
   {
    "duration": 812,
    "start_time": "2024-11-06T06:55:07.148Z"
   },
   {
    "duration": 470,
    "start_time": "2024-11-06T06:55:07.962Z"
   },
   {
    "duration": 8,
    "start_time": "2024-11-06T06:55:08.434Z"
   },
   {
    "duration": 6,
    "start_time": "2024-11-06T06:55:08.444Z"
   },
   {
    "duration": 6,
    "start_time": "2024-11-06T06:55:08.454Z"
   },
   {
    "duration": 3,
    "start_time": "2024-11-06T06:55:08.461Z"
   },
   {
    "duration": 54,
    "start_time": "2024-11-06T06:55:08.466Z"
   },
   {
    "duration": 986,
    "start_time": "2024-11-06T06:55:52.283Z"
   },
   {
    "duration": 509,
    "start_time": "2024-11-06T06:55:53.271Z"
   },
   {
    "duration": 50,
    "start_time": "2024-11-06T06:55:53.782Z"
   },
   {
    "duration": 165,
    "start_time": "2024-11-06T06:55:53.834Z"
   },
   {
    "duration": 84,
    "start_time": "2024-11-06T06:55:54.000Z"
   },
   {
    "duration": 176,
    "start_time": "2024-11-06T06:55:54.087Z"
   },
   {
    "duration": 7,
    "start_time": "2024-11-06T06:55:54.266Z"
   },
   {
    "duration": 5,
    "start_time": "2024-11-06T06:55:54.275Z"
   },
   {
    "duration": 25,
    "start_time": "2024-11-06T06:55:54.281Z"
   },
   {
    "duration": 7,
    "start_time": "2024-11-06T06:55:54.309Z"
   },
   {
    "duration": 3,
    "start_time": "2024-11-06T06:55:54.317Z"
   },
   {
    "duration": 5,
    "start_time": "2024-11-06T06:55:54.322Z"
   },
   {
    "duration": 7,
    "start_time": "2024-11-06T06:55:54.329Z"
   },
   {
    "duration": 6,
    "start_time": "2024-11-06T06:55:54.338Z"
   },
   {
    "duration": 7,
    "start_time": "2024-11-06T06:55:54.346Z"
   },
   {
    "duration": 4,
    "start_time": "2024-11-06T06:55:54.355Z"
   },
   {
    "duration": 63,
    "start_time": "2024-11-06T06:55:54.360Z"
   },
   {
    "duration": 6,
    "start_time": "2024-11-06T06:55:54.425Z"
   },
   {
    "duration": 6,
    "start_time": "2024-11-06T06:55:54.433Z"
   },
   {
    "duration": 5,
    "start_time": "2024-11-06T06:55:54.440Z"
   },
   {
    "duration": 4,
    "start_time": "2024-11-06T06:55:54.447Z"
   },
   {
    "duration": 5,
    "start_time": "2024-11-06T06:55:54.453Z"
   },
   {
    "duration": 835,
    "start_time": "2024-11-06T06:55:54.460Z"
   },
   {
    "duration": 1214,
    "start_time": "2024-11-06T06:55:55.298Z"
   },
   {
    "duration": 775,
    "start_time": "2024-11-06T06:55:56.514Z"
   },
   {
    "duration": 499,
    "start_time": "2024-11-06T06:55:57.291Z"
   },
   {
    "duration": 17,
    "start_time": "2024-11-06T06:55:57.792Z"
   },
   {
    "duration": 7,
    "start_time": "2024-11-06T06:55:57.812Z"
   },
   {
    "duration": 9,
    "start_time": "2024-11-06T06:55:57.820Z"
   },
   {
    "duration": 3,
    "start_time": "2024-11-06T06:55:57.830Z"
   },
   {
    "duration": 26,
    "start_time": "2024-11-06T06:55:57.834Z"
   },
   {
    "duration": 966,
    "start_time": "2024-11-06T06:57:14.296Z"
   },
   {
    "duration": 498,
    "start_time": "2024-11-06T06:57:15.264Z"
   },
   {
    "duration": 47,
    "start_time": "2024-11-06T06:57:15.764Z"
   },
   {
    "duration": 160,
    "start_time": "2024-11-06T06:57:15.813Z"
   },
   {
    "duration": 92,
    "start_time": "2024-11-06T06:57:15.975Z"
   },
   {
    "duration": 167,
    "start_time": "2024-11-06T06:57:16.068Z"
   },
   {
    "duration": 8,
    "start_time": "2024-11-06T06:57:16.237Z"
   },
   {
    "duration": 6,
    "start_time": "2024-11-06T06:57:16.247Z"
   },
   {
    "duration": 7,
    "start_time": "2024-11-06T06:57:16.255Z"
   },
   {
    "duration": 6,
    "start_time": "2024-11-06T06:57:16.265Z"
   },
   {
    "duration": 33,
    "start_time": "2024-11-06T06:57:16.272Z"
   },
   {
    "duration": 5,
    "start_time": "2024-11-06T06:57:16.307Z"
   },
   {
    "duration": 8,
    "start_time": "2024-11-06T06:57:16.313Z"
   },
   {
    "duration": 6,
    "start_time": "2024-11-06T06:57:16.322Z"
   },
   {
    "duration": 7,
    "start_time": "2024-11-06T06:57:16.329Z"
   },
   {
    "duration": 4,
    "start_time": "2024-11-06T06:57:16.338Z"
   },
   {
    "duration": 18,
    "start_time": "2024-11-06T06:57:16.344Z"
   },
   {
    "duration": 42,
    "start_time": "2024-11-06T06:57:16.364Z"
   },
   {
    "duration": 5,
    "start_time": "2024-11-06T06:57:16.408Z"
   },
   {
    "duration": 9,
    "start_time": "2024-11-06T06:57:16.415Z"
   },
   {
    "duration": 5,
    "start_time": "2024-11-06T06:57:16.425Z"
   },
   {
    "duration": 5,
    "start_time": "2024-11-06T06:57:16.432Z"
   },
   {
    "duration": 6,
    "start_time": "2024-11-06T06:57:16.439Z"
   },
   {
    "duration": 841,
    "start_time": "2024-11-06T06:57:16.447Z"
   },
   {
    "duration": 1146,
    "start_time": "2024-11-06T06:57:17.290Z"
   },
   {
    "duration": 718,
    "start_time": "2024-11-06T06:57:18.438Z"
   },
   {
    "duration": 480,
    "start_time": "2024-11-06T06:57:19.158Z"
   },
   {
    "duration": 6,
    "start_time": "2024-11-06T06:57:19.642Z"
   },
   {
    "duration": 6,
    "start_time": "2024-11-06T06:57:19.650Z"
   },
   {
    "duration": 7,
    "start_time": "2024-11-06T06:57:19.658Z"
   },
   {
    "duration": 3,
    "start_time": "2024-11-06T06:57:19.666Z"
   },
   {
    "duration": 57,
    "start_time": "2024-11-06T06:57:19.671Z"
   },
   {
    "duration": 944,
    "start_time": "2024-11-06T07:00:45.967Z"
   },
   {
    "duration": 498,
    "start_time": "2024-11-06T07:00:46.914Z"
   },
   {
    "duration": 43,
    "start_time": "2024-11-06T07:00:47.414Z"
   },
   {
    "duration": 167,
    "start_time": "2024-11-06T07:00:47.459Z"
   },
   {
    "duration": 92,
    "start_time": "2024-11-06T07:00:47.628Z"
   },
   {
    "duration": 165,
    "start_time": "2024-11-06T07:00:47.721Z"
   },
   {
    "duration": 7,
    "start_time": "2024-11-06T07:00:47.888Z"
   },
   {
    "duration": 6,
    "start_time": "2024-11-06T07:00:47.906Z"
   },
   {
    "duration": 6,
    "start_time": "2024-11-06T07:00:47.913Z"
   },
   {
    "duration": 6,
    "start_time": "2024-11-06T07:00:47.921Z"
   },
   {
    "duration": 4,
    "start_time": "2024-11-06T07:00:47.928Z"
   },
   {
    "duration": 6,
    "start_time": "2024-11-06T07:00:47.933Z"
   },
   {
    "duration": 6,
    "start_time": "2024-11-06T07:00:47.941Z"
   },
   {
    "duration": 5,
    "start_time": "2024-11-06T07:00:47.951Z"
   },
   {
    "duration": 51,
    "start_time": "2024-11-06T07:00:47.958Z"
   },
   {
    "duration": 4,
    "start_time": "2024-11-06T07:00:48.010Z"
   },
   {
    "duration": 350,
    "start_time": "2024-11-06T07:00:48.015Z"
   },
   {
    "duration": 0,
    "start_time": "2024-11-06T07:00:48.367Z"
   },
   {
    "duration": 0,
    "start_time": "2024-11-06T07:00:48.368Z"
   },
   {
    "duration": 0,
    "start_time": "2024-11-06T07:00:48.370Z"
   },
   {
    "duration": 0,
    "start_time": "2024-11-06T07:00:48.372Z"
   },
   {
    "duration": 0,
    "start_time": "2024-11-06T07:00:48.373Z"
   },
   {
    "duration": 0,
    "start_time": "2024-11-06T07:00:48.375Z"
   },
   {
    "duration": 0,
    "start_time": "2024-11-06T07:00:48.376Z"
   },
   {
    "duration": 0,
    "start_time": "2024-11-06T07:00:48.378Z"
   },
   {
    "duration": 0,
    "start_time": "2024-11-06T07:00:48.379Z"
   },
   {
    "duration": 0,
    "start_time": "2024-11-06T07:00:48.405Z"
   },
   {
    "duration": 0,
    "start_time": "2024-11-06T07:00:48.406Z"
   },
   {
    "duration": 0,
    "start_time": "2024-11-06T07:00:48.407Z"
   },
   {
    "duration": 0,
    "start_time": "2024-11-06T07:00:48.409Z"
   },
   {
    "duration": 0,
    "start_time": "2024-11-06T07:00:48.411Z"
   },
   {
    "duration": 0,
    "start_time": "2024-11-06T07:00:48.412Z"
   },
   {
    "duration": 1,
    "start_time": "2024-11-06T07:00:48.413Z"
   },
   {
    "duration": 0,
    "start_time": "2024-11-06T07:00:48.415Z"
   },
   {
    "duration": 0,
    "start_time": "2024-11-06T07:00:48.416Z"
   },
   {
    "duration": 0,
    "start_time": "2024-11-06T07:00:48.417Z"
   },
   {
    "duration": 0,
    "start_time": "2024-11-06T07:00:48.418Z"
   },
   {
    "duration": 0,
    "start_time": "2024-11-06T07:00:48.419Z"
   },
   {
    "duration": 992,
    "start_time": "2024-11-06T07:02:44.325Z"
   },
   {
    "duration": 487,
    "start_time": "2024-11-06T07:02:45.319Z"
   },
   {
    "duration": 43,
    "start_time": "2024-11-06T07:02:45.808Z"
   },
   {
    "duration": 167,
    "start_time": "2024-11-06T07:02:45.854Z"
   },
   {
    "duration": 92,
    "start_time": "2024-11-06T07:02:46.023Z"
   },
   {
    "duration": 169,
    "start_time": "2024-11-06T07:02:46.117Z"
   },
   {
    "duration": 7,
    "start_time": "2024-11-06T07:02:46.288Z"
   },
   {
    "duration": 6,
    "start_time": "2024-11-06T07:02:46.305Z"
   },
   {
    "duration": 7,
    "start_time": "2024-11-06T07:02:46.312Z"
   },
   {
    "duration": 5,
    "start_time": "2024-11-06T07:02:46.322Z"
   },
   {
    "duration": 4,
    "start_time": "2024-11-06T07:02:46.328Z"
   },
   {
    "duration": 5,
    "start_time": "2024-11-06T07:02:46.333Z"
   },
   {
    "duration": 7,
    "start_time": "2024-11-06T07:02:46.340Z"
   },
   {
    "duration": 6,
    "start_time": "2024-11-06T07:02:46.348Z"
   },
   {
    "duration": 51,
    "start_time": "2024-11-06T07:02:46.355Z"
   },
   {
    "duration": 4,
    "start_time": "2024-11-06T07:02:46.407Z"
   },
   {
    "duration": 19,
    "start_time": "2024-11-06T07:02:46.412Z"
   },
   {
    "duration": 6,
    "start_time": "2024-11-06T07:02:46.433Z"
   },
   {
    "duration": 6,
    "start_time": "2024-11-06T07:02:46.441Z"
   },
   {
    "duration": 8,
    "start_time": "2024-11-06T07:02:46.448Z"
   },
   {
    "duration": 5,
    "start_time": "2024-11-06T07:02:46.458Z"
   },
   {
    "duration": 44,
    "start_time": "2024-11-06T07:02:46.464Z"
   },
   {
    "duration": 5,
    "start_time": "2024-11-06T07:02:46.510Z"
   },
   {
    "duration": 799,
    "start_time": "2024-11-06T07:02:46.517Z"
   },
   {
    "duration": 1197,
    "start_time": "2024-11-06T07:02:47.317Z"
   },
   {
    "duration": 767,
    "start_time": "2024-11-06T07:02:48.516Z"
   },
   {
    "duration": 506,
    "start_time": "2024-11-06T07:02:49.284Z"
   },
   {
    "duration": 13,
    "start_time": "2024-11-06T07:02:49.793Z"
   },
   {
    "duration": 6,
    "start_time": "2024-11-06T07:02:49.807Z"
   },
   {
    "duration": 7,
    "start_time": "2024-11-06T07:02:49.815Z"
   },
   {
    "duration": 2,
    "start_time": "2024-11-06T07:02:49.825Z"
   },
   {
    "duration": 25,
    "start_time": "2024-11-06T07:02:49.829Z"
   },
   {
    "duration": 211324,
    "start_time": "2024-11-06T07:02:49.856Z"
   },
   {
    "duration": 28998,
    "start_time": "2024-11-06T07:06:21.182Z"
   },
   {
    "duration": 2215,
    "start_time": "2024-11-06T07:06:50.182Z"
   },
   {
    "duration": 7,
    "start_time": "2024-11-06T07:06:52.399Z"
   },
   {
    "duration": 3,
    "start_time": "2024-11-06T07:06:52.408Z"
   },
   {
    "duration": 333,
    "start_time": "2024-11-06T07:06:52.412Z"
   },
   {
    "duration": 7,
    "start_time": "2024-11-06T10:09:21.487Z"
   },
   {
    "duration": 2672,
    "start_time": "2024-11-06T10:16:55.659Z"
   },
   {
    "duration": 530,
    "start_time": "2024-11-06T10:16:58.333Z"
   },
   {
    "duration": 80,
    "start_time": "2024-11-06T10:16:58.864Z"
   },
   {
    "duration": 183,
    "start_time": "2024-11-06T10:16:58.946Z"
   },
   {
    "duration": 91,
    "start_time": "2024-11-06T10:16:59.132Z"
   },
   {
    "duration": 192,
    "start_time": "2024-11-06T10:16:59.225Z"
   },
   {
    "duration": 9,
    "start_time": "2024-11-06T10:16:59.419Z"
   },
   {
    "duration": 5,
    "start_time": "2024-11-06T10:16:59.442Z"
   },
   {
    "duration": 8,
    "start_time": "2024-11-06T10:16:59.448Z"
   },
   {
    "duration": 5,
    "start_time": "2024-11-06T10:16:59.459Z"
   },
   {
    "duration": 3,
    "start_time": "2024-11-06T10:16:59.466Z"
   },
   {
    "duration": 5,
    "start_time": "2024-11-06T10:16:59.471Z"
   },
   {
    "duration": 8,
    "start_time": "2024-11-06T10:16:59.478Z"
   },
   {
    "duration": 5,
    "start_time": "2024-11-06T10:16:59.488Z"
   },
   {
    "duration": 52,
    "start_time": "2024-11-06T10:16:59.495Z"
   },
   {
    "duration": 5,
    "start_time": "2024-11-06T10:16:59.548Z"
   },
   {
    "duration": 50,
    "start_time": "2024-11-06T10:16:59.555Z"
   },
   {
    "duration": 5,
    "start_time": "2024-11-06T10:16:59.607Z"
   },
   {
    "duration": 6,
    "start_time": "2024-11-06T10:16:59.614Z"
   },
   {
    "duration": 8,
    "start_time": "2024-11-06T10:16:59.621Z"
   },
   {
    "duration": 4,
    "start_time": "2024-11-06T10:16:59.631Z"
   },
   {
    "duration": 5,
    "start_time": "2024-11-06T10:16:59.642Z"
   },
   {
    "duration": 7,
    "start_time": "2024-11-06T10:16:59.648Z"
   },
   {
    "duration": 919,
    "start_time": "2024-11-06T10:16:59.656Z"
   },
   {
    "duration": 1197,
    "start_time": "2024-11-06T10:17:00.577Z"
   },
   {
    "duration": 815,
    "start_time": "2024-11-06T10:17:01.776Z"
   },
   {
    "duration": 447,
    "start_time": "2024-11-06T10:17:02.595Z"
   },
   {
    "duration": 8,
    "start_time": "2024-11-06T10:17:03.044Z"
   },
   {
    "duration": 7,
    "start_time": "2024-11-06T10:17:03.053Z"
   },
   {
    "duration": 6,
    "start_time": "2024-11-06T10:17:03.061Z"
   },
   {
    "duration": 2,
    "start_time": "2024-11-06T10:17:03.069Z"
   },
   {
    "duration": 137,
    "start_time": "2024-11-06T10:17:03.461Z"
   },
   {
    "duration": 4,
    "start_time": "2024-11-06T10:17:10.182Z"
   },
   {
    "duration": 2711,
    "start_time": "2024-11-06T21:46:35.871Z"
   },
   {
    "duration": 629,
    "start_time": "2024-11-06T21:46:38.584Z"
   },
   {
    "duration": 43,
    "start_time": "2024-11-06T21:46:39.215Z"
   },
   {
    "duration": 170,
    "start_time": "2024-11-06T21:46:39.261Z"
   },
   {
    "duration": 93,
    "start_time": "2024-11-06T21:46:39.433Z"
   },
   {
    "duration": 173,
    "start_time": "2024-11-06T21:46:39.528Z"
   },
   {
    "duration": 12,
    "start_time": "2024-11-06T21:46:39.703Z"
   },
   {
    "duration": 6,
    "start_time": "2024-11-06T21:46:39.717Z"
   },
   {
    "duration": 8,
    "start_time": "2024-11-06T21:46:39.724Z"
   },
   {
    "duration": 6,
    "start_time": "2024-11-06T21:46:39.736Z"
   },
   {
    "duration": 3,
    "start_time": "2024-11-06T21:46:39.745Z"
   },
   {
    "duration": 6,
    "start_time": "2024-11-06T21:46:39.750Z"
   },
   {
    "duration": 9,
    "start_time": "2024-11-06T21:46:39.758Z"
   },
   {
    "duration": 6,
    "start_time": "2024-11-06T21:46:39.810Z"
   },
   {
    "duration": 8,
    "start_time": "2024-11-06T21:46:39.817Z"
   },
   {
    "duration": 4,
    "start_time": "2024-11-06T21:46:39.827Z"
   },
   {
    "duration": 19,
    "start_time": "2024-11-06T21:46:39.833Z"
   },
   {
    "duration": 6,
    "start_time": "2024-11-06T21:46:39.854Z"
   },
   {
    "duration": 6,
    "start_time": "2024-11-06T21:46:39.862Z"
   },
   {
    "duration": 46,
    "start_time": "2024-11-06T21:46:39.869Z"
   },
   {
    "duration": 5,
    "start_time": "2024-11-06T21:46:39.917Z"
   },
   {
    "duration": 5,
    "start_time": "2024-11-06T21:46:39.923Z"
   },
   {
    "duration": 6,
    "start_time": "2024-11-06T21:46:39.929Z"
   },
   {
    "duration": 910,
    "start_time": "2024-11-06T21:46:39.937Z"
   },
   {
    "duration": 1201,
    "start_time": "2024-11-06T21:46:40.849Z"
   },
   {
    "duration": 793,
    "start_time": "2024-11-06T21:46:42.051Z"
   },
   {
    "duration": 416,
    "start_time": "2024-11-06T21:46:42.847Z"
   },
   {
    "duration": 6,
    "start_time": "2024-11-06T21:46:43.267Z"
   },
   {
    "duration": 6,
    "start_time": "2024-11-06T21:46:43.275Z"
   },
   {
    "duration": 27,
    "start_time": "2024-11-06T21:46:43.283Z"
   },
   {
    "duration": 3,
    "start_time": "2024-11-06T21:46:43.311Z"
   },
   {
    "duration": 28,
    "start_time": "2024-11-06T21:46:43.316Z"
   },
   {
    "duration": 216105,
    "start_time": "2024-11-06T21:46:43.346Z"
   },
   {
    "duration": 1028,
    "start_time": "2024-11-06T21:50:24.156Z"
   },
   {
    "duration": 505,
    "start_time": "2024-11-06T21:50:25.186Z"
   },
   {
    "duration": 46,
    "start_time": "2024-11-06T21:50:25.693Z"
   },
   {
    "duration": 166,
    "start_time": "2024-11-06T21:50:25.743Z"
   },
   {
    "duration": 85,
    "start_time": "2024-11-06T21:50:25.911Z"
   },
   {
    "duration": 185,
    "start_time": "2024-11-06T21:50:25.998Z"
   },
   {
    "duration": 7,
    "start_time": "2024-11-06T21:50:26.185Z"
   },
   {
    "duration": 17,
    "start_time": "2024-11-06T21:50:26.194Z"
   },
   {
    "duration": 6,
    "start_time": "2024-11-06T21:50:26.213Z"
   },
   {
    "duration": 6,
    "start_time": "2024-11-06T21:50:26.223Z"
   },
   {
    "duration": 4,
    "start_time": "2024-11-06T21:50:26.230Z"
   },
   {
    "duration": 7,
    "start_time": "2024-11-06T21:50:26.235Z"
   },
   {
    "duration": 7,
    "start_time": "2024-11-06T21:50:26.243Z"
   },
   {
    "duration": 5,
    "start_time": "2024-11-06T21:50:26.252Z"
   },
   {
    "duration": 9,
    "start_time": "2024-11-06T21:50:26.258Z"
   },
   {
    "duration": 41,
    "start_time": "2024-11-06T21:50:26.269Z"
   },
   {
    "duration": 259,
    "start_time": "2024-11-06T21:50:26.312Z"
   },
   {
    "duration": 0,
    "start_time": "2024-11-06T21:50:26.573Z"
   },
   {
    "duration": 0,
    "start_time": "2024-11-06T21:50:26.574Z"
   },
   {
    "duration": 0,
    "start_time": "2024-11-06T21:50:26.576Z"
   },
   {
    "duration": 0,
    "start_time": "2024-11-06T21:50:26.578Z"
   },
   {
    "duration": 0,
    "start_time": "2024-11-06T21:50:26.579Z"
   },
   {
    "duration": 0,
    "start_time": "2024-11-06T21:50:26.581Z"
   },
   {
    "duration": 0,
    "start_time": "2024-11-06T21:50:26.582Z"
   },
   {
    "duration": 0,
    "start_time": "2024-11-06T21:50:26.583Z"
   },
   {
    "duration": 0,
    "start_time": "2024-11-06T21:50:26.584Z"
   },
   {
    "duration": 0,
    "start_time": "2024-11-06T21:50:26.585Z"
   },
   {
    "duration": 0,
    "start_time": "2024-11-06T21:50:26.586Z"
   },
   {
    "duration": 0,
    "start_time": "2024-11-06T21:50:26.586Z"
   },
   {
    "duration": 0,
    "start_time": "2024-11-06T21:50:26.587Z"
   },
   {
    "duration": 0,
    "start_time": "2024-11-06T21:50:26.587Z"
   },
   {
    "duration": 0,
    "start_time": "2024-11-06T21:50:26.588Z"
   },
   {
    "duration": 0,
    "start_time": "2024-11-06T21:50:26.588Z"
   },
   {
    "duration": 0,
    "start_time": "2024-11-06T21:50:26.589Z"
   },
   {
    "duration": 0,
    "start_time": "2024-11-06T21:50:26.589Z"
   },
   {
    "duration": 0,
    "start_time": "2024-11-06T21:50:26.590Z"
   },
   {
    "duration": 0,
    "start_time": "2024-11-06T21:50:26.591Z"
   },
   {
    "duration": 0,
    "start_time": "2024-11-06T21:50:26.591Z"
   },
   {
    "duration": 135,
    "start_time": "2024-11-06T21:52:14.057Z"
   },
   {
    "duration": 20,
    "start_time": "2024-11-06T21:54:15.552Z"
   },
   {
    "duration": 22,
    "start_time": "2024-11-06T21:55:15.254Z"
   },
   {
    "duration": 29,
    "start_time": "2024-11-06T21:55:23.093Z"
   },
   {
    "duration": 18,
    "start_time": "2024-11-06T21:55:40.988Z"
   },
   {
    "duration": 15,
    "start_time": "2024-11-06T21:55:57.623Z"
   },
   {
    "duration": 66,
    "start_time": "2024-11-06T21:56:15.911Z"
   },
   {
    "duration": 425,
    "start_time": "2024-11-06T21:56:26.717Z"
   },
   {
    "duration": 96,
    "start_time": "2024-11-06T21:57:57.049Z"
   },
   {
    "duration": 423,
    "start_time": "2024-11-06T21:58:41.738Z"
   },
   {
    "duration": 1042,
    "start_time": "2024-11-06T22:00:49.245Z"
   },
   {
    "duration": 512,
    "start_time": "2024-11-06T22:00:50.289Z"
   },
   {
    "duration": 44,
    "start_time": "2024-11-06T22:00:50.803Z"
   },
   {
    "duration": 173,
    "start_time": "2024-11-06T22:00:50.849Z"
   },
   {
    "duration": 96,
    "start_time": "2024-11-06T22:00:51.024Z"
   },
   {
    "duration": 173,
    "start_time": "2024-11-06T22:00:51.122Z"
   },
   {
    "duration": 12,
    "start_time": "2024-11-06T22:00:51.297Z"
   },
   {
    "duration": 5,
    "start_time": "2024-11-06T22:00:51.311Z"
   },
   {
    "duration": 6,
    "start_time": "2024-11-06T22:00:51.318Z"
   },
   {
    "duration": 5,
    "start_time": "2024-11-06T22:00:51.328Z"
   },
   {
    "duration": 3,
    "start_time": "2024-11-06T22:00:51.335Z"
   },
   {
    "duration": 5,
    "start_time": "2024-11-06T22:00:51.340Z"
   },
   {
    "duration": 7,
    "start_time": "2024-11-06T22:00:51.348Z"
   },
   {
    "duration": 6,
    "start_time": "2024-11-06T22:00:51.356Z"
   },
   {
    "duration": 47,
    "start_time": "2024-11-06T22:00:51.364Z"
   },
   {
    "duration": 4,
    "start_time": "2024-11-06T22:00:51.412Z"
   },
   {
    "duration": 20,
    "start_time": "2024-11-06T22:00:51.418Z"
   },
   {
    "duration": 6,
    "start_time": "2024-11-06T22:00:51.440Z"
   },
   {
    "duration": 6,
    "start_time": "2024-11-06T22:00:51.447Z"
   },
   {
    "duration": 8,
    "start_time": "2024-11-06T22:00:51.454Z"
   },
   {
    "duration": 5,
    "start_time": "2024-11-06T22:00:51.463Z"
   },
   {
    "duration": 5,
    "start_time": "2024-11-06T22:00:51.509Z"
   },
   {
    "duration": 8,
    "start_time": "2024-11-06T22:00:51.515Z"
   },
   {
    "duration": 834,
    "start_time": "2024-11-06T22:00:51.524Z"
   },
   {
    "duration": 1190,
    "start_time": "2024-11-06T22:00:52.359Z"
   },
   {
    "duration": 775,
    "start_time": "2024-11-06T22:00:53.551Z"
   },
   {
    "duration": 489,
    "start_time": "2024-11-06T22:00:54.327Z"
   },
   {
    "duration": 7,
    "start_time": "2024-11-06T22:00:54.820Z"
   },
   {
    "duration": 7,
    "start_time": "2024-11-06T22:00:54.828Z"
   },
   {
    "duration": 6,
    "start_time": "2024-11-06T22:00:54.836Z"
   },
   {
    "duration": 2,
    "start_time": "2024-11-06T22:00:54.844Z"
   },
   {
    "duration": 27,
    "start_time": "2024-11-06T22:00:54.848Z"
   },
   {
    "duration": 216646,
    "start_time": "2024-11-06T22:00:54.877Z"
   },
   {
    "duration": 29687,
    "start_time": "2024-11-06T22:04:31.525Z"
   },
   {
    "duration": 2260,
    "start_time": "2024-11-06T22:05:01.214Z"
   },
   {
    "duration": 3,
    "start_time": "2024-11-06T22:05:03.477Z"
   },
   {
    "duration": 5,
    "start_time": "2024-11-06T22:05:03.482Z"
   },
   {
    "duration": 314,
    "start_time": "2024-11-06T22:05:03.489Z"
   },
   {
    "duration": 12,
    "start_time": "2024-11-06T22:06:04.634Z"
   },
   {
    "duration": 1051,
    "start_time": "2024-11-06T22:06:12.331Z"
   },
   {
    "duration": 542,
    "start_time": "2024-11-06T22:06:13.384Z"
   },
   {
    "duration": 43,
    "start_time": "2024-11-06T22:06:13.928Z"
   },
   {
    "duration": 173,
    "start_time": "2024-11-06T22:06:13.974Z"
   },
   {
    "duration": 93,
    "start_time": "2024-11-06T22:06:14.149Z"
   },
   {
    "duration": 173,
    "start_time": "2024-11-06T22:06:14.244Z"
   },
   {
    "duration": 7,
    "start_time": "2024-11-06T22:06:14.418Z"
   },
   {
    "duration": 4,
    "start_time": "2024-11-06T22:06:14.427Z"
   },
   {
    "duration": 7,
    "start_time": "2024-11-06T22:06:14.433Z"
   },
   {
    "duration": 5,
    "start_time": "2024-11-06T22:06:14.443Z"
   },
   {
    "duration": 4,
    "start_time": "2024-11-06T22:06:14.449Z"
   },
   {
    "duration": 5,
    "start_time": "2024-11-06T22:06:14.455Z"
   },
   {
    "duration": 48,
    "start_time": "2024-11-06T22:06:14.462Z"
   },
   {
    "duration": 6,
    "start_time": "2024-11-06T22:06:14.512Z"
   },
   {
    "duration": 8,
    "start_time": "2024-11-06T22:06:14.519Z"
   },
   {
    "duration": 4,
    "start_time": "2024-11-06T22:06:14.528Z"
   },
   {
    "duration": 20,
    "start_time": "2024-11-06T22:06:14.534Z"
   },
   {
    "duration": 5,
    "start_time": "2024-11-06T22:06:14.556Z"
   },
   {
    "duration": 6,
    "start_time": "2024-11-06T22:06:14.563Z"
   },
   {
    "duration": 45,
    "start_time": "2024-11-06T22:06:14.570Z"
   },
   {
    "duration": 5,
    "start_time": "2024-11-06T22:06:14.616Z"
   },
   {
    "duration": 5,
    "start_time": "2024-11-06T22:06:14.623Z"
   },
   {
    "duration": 6,
    "start_time": "2024-11-06T22:06:14.630Z"
   },
   {
    "duration": 888,
    "start_time": "2024-11-06T22:06:14.638Z"
   },
   {
    "duration": 1223,
    "start_time": "2024-11-06T22:06:15.528Z"
   },
   {
    "duration": 864,
    "start_time": "2024-11-06T22:06:16.753Z"
   },
   {
    "duration": 502,
    "start_time": "2024-11-06T22:06:17.619Z"
   },
   {
    "duration": 7,
    "start_time": "2024-11-06T22:06:18.125Z"
   },
   {
    "duration": 6,
    "start_time": "2024-11-06T22:06:18.134Z"
   },
   {
    "duration": 7,
    "start_time": "2024-11-06T22:06:18.142Z"
   },
   {
    "duration": 3,
    "start_time": "2024-11-06T22:06:18.150Z"
   },
   {
    "duration": 28,
    "start_time": "2024-11-06T22:06:18.155Z"
   },
   {
    "duration": 215757,
    "start_time": "2024-11-06T22:06:18.208Z"
   },
   {
    "duration": 29532,
    "start_time": "2024-11-06T22:09:53.967Z"
   },
   {
    "duration": 2258,
    "start_time": "2024-11-06T22:10:23.501Z"
   },
   {
    "duration": 3,
    "start_time": "2024-11-06T22:10:25.762Z"
   },
   {
    "duration": 2,
    "start_time": "2024-11-06T22:10:25.767Z"
   },
   {
    "duration": 317,
    "start_time": "2024-11-06T22:10:25.771Z"
   },
   {
    "duration": 3,
    "start_time": "2024-11-06T22:18:34.145Z"
   },
   {
    "duration": 7,
    "start_time": "2024-11-06T22:21:00.669Z"
   },
   {
    "duration": 1127,
    "start_time": "2024-11-06T22:21:29.576Z"
   },
   {
    "duration": 510,
    "start_time": "2024-11-06T22:21:30.705Z"
   },
   {
    "duration": 43,
    "start_time": "2024-11-06T22:21:31.217Z"
   },
   {
    "duration": 175,
    "start_time": "2024-11-06T22:21:31.263Z"
   },
   {
    "duration": 92,
    "start_time": "2024-11-06T22:21:31.441Z"
   },
   {
    "duration": 180,
    "start_time": "2024-11-06T22:21:31.535Z"
   },
   {
    "duration": 7,
    "start_time": "2024-11-06T22:21:31.718Z"
   },
   {
    "duration": 5,
    "start_time": "2024-11-06T22:21:31.726Z"
   },
   {
    "duration": 8,
    "start_time": "2024-11-06T22:21:31.733Z"
   },
   {
    "duration": 6,
    "start_time": "2024-11-06T22:21:31.745Z"
   },
   {
    "duration": 3,
    "start_time": "2024-11-06T22:21:31.752Z"
   },
   {
    "duration": 6,
    "start_time": "2024-11-06T22:21:31.757Z"
   },
   {
    "duration": 8,
    "start_time": "2024-11-06T22:21:31.765Z"
   },
   {
    "duration": 6,
    "start_time": "2024-11-06T22:21:31.809Z"
   },
   {
    "duration": 10,
    "start_time": "2024-11-06T22:21:31.817Z"
   },
   {
    "duration": 5,
    "start_time": "2024-11-06T22:21:31.828Z"
   },
   {
    "duration": 3,
    "start_time": "2024-11-06T22:21:31.834Z"
   },
   {
    "duration": 7,
    "start_time": "2024-11-06T22:21:31.839Z"
   },
   {
    "duration": 254,
    "start_time": "2024-11-06T22:21:31.848Z"
   },
   {
    "duration": 0,
    "start_time": "2024-11-06T22:21:32.109Z"
   },
   {
    "duration": 0,
    "start_time": "2024-11-06T22:21:32.110Z"
   },
   {
    "duration": 0,
    "start_time": "2024-11-06T22:21:32.111Z"
   },
   {
    "duration": 1,
    "start_time": "2024-11-06T22:21:32.112Z"
   },
   {
    "duration": 0,
    "start_time": "2024-11-06T22:21:32.114Z"
   },
   {
    "duration": 0,
    "start_time": "2024-11-06T22:21:32.115Z"
   },
   {
    "duration": 0,
    "start_time": "2024-11-06T22:21:32.116Z"
   },
   {
    "duration": 0,
    "start_time": "2024-11-06T22:21:32.117Z"
   },
   {
    "duration": 0,
    "start_time": "2024-11-06T22:21:32.118Z"
   },
   {
    "duration": 0,
    "start_time": "2024-11-06T22:21:32.119Z"
   },
   {
    "duration": 0,
    "start_time": "2024-11-06T22:21:32.120Z"
   },
   {
    "duration": 0,
    "start_time": "2024-11-06T22:21:32.121Z"
   },
   {
    "duration": 0,
    "start_time": "2024-11-06T22:21:32.122Z"
   },
   {
    "duration": 0,
    "start_time": "2024-11-06T22:21:32.123Z"
   },
   {
    "duration": 0,
    "start_time": "2024-11-06T22:21:32.124Z"
   },
   {
    "duration": 0,
    "start_time": "2024-11-06T22:21:32.127Z"
   },
   {
    "duration": 0,
    "start_time": "2024-11-06T22:21:32.128Z"
   },
   {
    "duration": 0,
    "start_time": "2024-11-06T22:21:32.129Z"
   },
   {
    "duration": 0,
    "start_time": "2024-11-06T22:21:32.131Z"
   },
   {
    "duration": 0,
    "start_time": "2024-11-06T22:21:32.132Z"
   },
   {
    "duration": 10,
    "start_time": "2024-11-06T22:23:43.431Z"
   },
   {
    "duration": 7,
    "start_time": "2024-11-06T22:25:18.745Z"
   },
   {
    "duration": 1013,
    "start_time": "2024-11-06T22:25:24.484Z"
   },
   {
    "duration": 517,
    "start_time": "2024-11-06T22:25:25.502Z"
   },
   {
    "duration": 42,
    "start_time": "2024-11-06T22:25:26.021Z"
   },
   {
    "duration": 186,
    "start_time": "2024-11-06T22:25:26.066Z"
   },
   {
    "duration": 94,
    "start_time": "2024-11-06T22:25:26.254Z"
   },
   {
    "duration": 172,
    "start_time": "2024-11-06T22:25:26.350Z"
   },
   {
    "duration": 7,
    "start_time": "2024-11-06T22:25:26.524Z"
   },
   {
    "duration": 6,
    "start_time": "2024-11-06T22:25:26.532Z"
   },
   {
    "duration": 7,
    "start_time": "2024-11-06T22:25:26.540Z"
   },
   {
    "duration": 5,
    "start_time": "2024-11-06T22:25:26.550Z"
   },
   {
    "duration": 3,
    "start_time": "2024-11-06T22:25:26.557Z"
   },
   {
    "duration": 6,
    "start_time": "2024-11-06T22:25:26.561Z"
   },
   {
    "duration": 41,
    "start_time": "2024-11-06T22:25:26.569Z"
   },
   {
    "duration": 7,
    "start_time": "2024-11-06T22:25:26.611Z"
   },
   {
    "duration": 7,
    "start_time": "2024-11-06T22:25:26.619Z"
   },
   {
    "duration": 3,
    "start_time": "2024-11-06T22:25:26.628Z"
   },
   {
    "duration": 8,
    "start_time": "2024-11-06T22:25:26.633Z"
   },
   {
    "duration": 5,
    "start_time": "2024-11-06T22:25:26.642Z"
   },
   {
    "duration": 5,
    "start_time": "2024-11-06T22:25:26.649Z"
   },
   {
    "duration": 53,
    "start_time": "2024-11-06T22:25:26.656Z"
   },
   {
    "duration": 864,
    "start_time": "2024-11-06T22:25:26.711Z"
   },
   {
    "duration": 1179,
    "start_time": "2024-11-06T22:25:27.578Z"
   },
   {
    "duration": 809,
    "start_time": "2024-11-06T22:25:28.759Z"
   },
   {
    "duration": 528,
    "start_time": "2024-11-06T22:25:29.570Z"
   },
   {
    "duration": 15,
    "start_time": "2024-11-06T22:25:30.100Z"
   },
   {
    "duration": 7,
    "start_time": "2024-11-06T22:25:30.116Z"
   },
   {
    "duration": 8,
    "start_time": "2024-11-06T22:25:30.124Z"
   },
   {
    "duration": 3,
    "start_time": "2024-11-06T22:25:30.135Z"
   },
   {
    "duration": 27,
    "start_time": "2024-11-06T22:25:30.140Z"
   },
   {
    "duration": 1048,
    "start_time": "2024-11-06T22:26:13.637Z"
   },
   {
    "duration": 538,
    "start_time": "2024-11-06T22:26:14.687Z"
   },
   {
    "duration": 43,
    "start_time": "2024-11-06T22:26:15.227Z"
   },
   {
    "duration": 166,
    "start_time": "2024-11-06T22:26:15.272Z"
   },
   {
    "duration": 92,
    "start_time": "2024-11-06T22:26:15.440Z"
   },
   {
    "duration": 173,
    "start_time": "2024-11-06T22:26:15.533Z"
   },
   {
    "duration": 7,
    "start_time": "2024-11-06T22:26:15.709Z"
   },
   {
    "duration": 5,
    "start_time": "2024-11-06T22:26:15.717Z"
   },
   {
    "duration": 10,
    "start_time": "2024-11-06T22:26:15.723Z"
   },
   {
    "duration": 7,
    "start_time": "2024-11-06T22:26:15.737Z"
   },
   {
    "duration": 3,
    "start_time": "2024-11-06T22:26:15.747Z"
   },
   {
    "duration": 7,
    "start_time": "2024-11-06T22:26:15.751Z"
   },
   {
    "duration": 7,
    "start_time": "2024-11-06T22:26:15.760Z"
   },
   {
    "duration": 42,
    "start_time": "2024-11-06T22:26:15.769Z"
   },
   {
    "duration": 8,
    "start_time": "2024-11-06T22:26:15.813Z"
   },
   {
    "duration": 8,
    "start_time": "2024-11-06T22:26:15.823Z"
   },
   {
    "duration": 4,
    "start_time": "2024-11-06T22:26:15.833Z"
   },
   {
    "duration": 5,
    "start_time": "2024-11-06T22:26:15.839Z"
   },
   {
    "duration": 12,
    "start_time": "2024-11-06T22:26:15.845Z"
   },
   {
    "duration": 850,
    "start_time": "2024-11-06T22:26:15.861Z"
   },
   {
    "duration": 1262,
    "start_time": "2024-11-06T22:26:16.713Z"
   },
   {
    "duration": 789,
    "start_time": "2024-11-06T22:26:17.977Z"
   },
   {
    "duration": 524,
    "start_time": "2024-11-06T22:26:18.768Z"
   },
   {
    "duration": 16,
    "start_time": "2024-11-06T22:26:19.294Z"
   },
   {
    "duration": 7,
    "start_time": "2024-11-06T22:26:19.313Z"
   },
   {
    "duration": 8,
    "start_time": "2024-11-06T22:26:19.321Z"
   },
   {
    "duration": 4,
    "start_time": "2024-11-06T22:26:19.330Z"
   },
   {
    "duration": 27,
    "start_time": "2024-11-06T22:26:19.338Z"
   },
   {
    "duration": 217547,
    "start_time": "2024-11-06T22:26:19.367Z"
   },
   {
    "duration": 29469,
    "start_time": "2024-11-06T22:29:56.916Z"
   },
   {
    "duration": 2297,
    "start_time": "2024-11-06T22:30:26.387Z"
   },
   {
    "duration": 3,
    "start_time": "2024-11-06T22:30:28.686Z"
   },
   {
    "duration": 3,
    "start_time": "2024-11-06T22:30:28.691Z"
   },
   {
    "duration": 304,
    "start_time": "2024-11-06T22:30:28.708Z"
   },
   {
    "duration": 1029,
    "start_time": "2024-11-06T22:31:42.166Z"
   },
   {
    "duration": 509,
    "start_time": "2024-11-06T22:31:43.198Z"
   },
   {
    "duration": 44,
    "start_time": "2024-11-06T22:31:43.709Z"
   },
   {
    "duration": 170,
    "start_time": "2024-11-06T22:31:43.755Z"
   },
   {
    "duration": 117,
    "start_time": "2024-11-06T22:31:43.928Z"
   },
   {
    "duration": 236,
    "start_time": "2024-11-06T22:31:44.046Z"
   },
   {
    "duration": 11,
    "start_time": "2024-11-06T22:31:44.283Z"
   },
   {
    "duration": 16,
    "start_time": "2024-11-06T22:31:44.296Z"
   },
   {
    "duration": 9,
    "start_time": "2024-11-06T22:31:44.313Z"
   },
   {
    "duration": 8,
    "start_time": "2024-11-06T22:31:44.324Z"
   },
   {
    "duration": 6,
    "start_time": "2024-11-06T22:31:44.334Z"
   },
   {
    "duration": 4,
    "start_time": "2024-11-06T22:31:44.341Z"
   },
   {
    "duration": 5,
    "start_time": "2024-11-06T22:31:44.347Z"
   },
   {
    "duration": 7,
    "start_time": "2024-11-06T22:31:44.356Z"
   },
   {
    "duration": 46,
    "start_time": "2024-11-06T22:31:44.365Z"
   },
   {
    "duration": 8,
    "start_time": "2024-11-06T22:31:44.413Z"
   },
   {
    "duration": 5,
    "start_time": "2024-11-06T22:31:44.422Z"
   },
   {
    "duration": 5,
    "start_time": "2024-11-06T22:31:44.429Z"
   },
   {
    "duration": 7,
    "start_time": "2024-11-06T22:31:44.435Z"
   },
   {
    "duration": 893,
    "start_time": "2024-11-06T22:31:44.443Z"
   },
   {
    "duration": 1214,
    "start_time": "2024-11-06T22:31:45.338Z"
   },
   {
    "duration": 887,
    "start_time": "2024-11-06T22:31:46.554Z"
   },
   {
    "duration": 523,
    "start_time": "2024-11-06T22:31:47.442Z"
   },
   {
    "duration": 9,
    "start_time": "2024-11-06T22:31:47.967Z"
   },
   {
    "duration": 6,
    "start_time": "2024-11-06T22:31:47.977Z"
   },
   {
    "duration": 30,
    "start_time": "2024-11-06T22:31:47.985Z"
   },
   {
    "duration": 2,
    "start_time": "2024-11-06T22:31:48.017Z"
   },
   {
    "duration": 27,
    "start_time": "2024-11-06T22:31:48.021Z"
   },
   {
    "duration": 2708,
    "start_time": "2024-11-07T01:36:37.480Z"
   },
   {
    "duration": 643,
    "start_time": "2024-11-07T01:36:40.190Z"
   },
   {
    "duration": 41,
    "start_time": "2024-11-07T01:36:40.838Z"
   },
   {
    "duration": 173,
    "start_time": "2024-11-07T01:36:40.881Z"
   },
   {
    "duration": 93,
    "start_time": "2024-11-07T01:36:41.055Z"
   },
   {
    "duration": 183,
    "start_time": "2024-11-07T01:36:41.150Z"
   },
   {
    "duration": 9,
    "start_time": "2024-11-07T01:36:41.335Z"
   },
   {
    "duration": 8,
    "start_time": "2024-11-07T01:36:41.346Z"
   },
   {
    "duration": 10,
    "start_time": "2024-11-07T01:36:41.357Z"
   },
   {
    "duration": 7,
    "start_time": "2024-11-07T01:36:41.368Z"
   },
   {
    "duration": 7,
    "start_time": "2024-11-07T01:36:41.377Z"
   },
   {
    "duration": 40,
    "start_time": "2024-11-07T01:36:41.385Z"
   },
   {
    "duration": 5,
    "start_time": "2024-11-07T01:36:41.427Z"
   },
   {
    "duration": 8,
    "start_time": "2024-11-07T01:36:41.434Z"
   },
   {
    "duration": 7,
    "start_time": "2024-11-07T01:36:41.443Z"
   },
   {
    "duration": 7,
    "start_time": "2024-11-07T01:36:41.452Z"
   },
   {
    "duration": 5,
    "start_time": "2024-11-07T01:36:41.461Z"
   },
   {
    "duration": 6,
    "start_time": "2024-11-07T01:36:41.468Z"
   },
   {
    "duration": 7,
    "start_time": "2024-11-07T01:36:41.475Z"
   },
   {
    "duration": 857,
    "start_time": "2024-11-07T01:36:41.524Z"
   },
   {
    "duration": 1161,
    "start_time": "2024-11-07T01:36:42.383Z"
   },
   {
    "duration": 745,
    "start_time": "2024-11-07T01:36:43.546Z"
   },
   {
    "duration": 424,
    "start_time": "2024-11-07T01:36:44.293Z"
   },
   {
    "duration": 6,
    "start_time": "2024-11-07T01:36:44.724Z"
   },
   {
    "duration": 7,
    "start_time": "2024-11-07T01:36:44.732Z"
   },
   {
    "duration": 6,
    "start_time": "2024-11-07T01:36:44.741Z"
   },
   {
    "duration": 3,
    "start_time": "2024-11-07T01:36:44.752Z"
   },
   {
    "duration": 142,
    "start_time": "2024-11-07T01:36:44.756Z"
   },
   {
    "duration": 12241,
    "start_time": "2024-11-07T01:36:44.900Z"
   },
   {
    "duration": 0,
    "start_time": "2024-11-07T01:36:57.143Z"
   },
   {
    "duration": 1,
    "start_time": "2024-11-07T01:36:57.144Z"
   },
   {
    "duration": 0,
    "start_time": "2024-11-07T01:36:57.146Z"
   },
   {
    "duration": 0,
    "start_time": "2024-11-07T01:36:57.147Z"
   },
   {
    "duration": 0,
    "start_time": "2024-11-07T01:36:57.147Z"
   },
   {
    "duration": 17,
    "start_time": "2024-11-07T01:37:02.071Z"
   },
   {
    "duration": 218225,
    "start_time": "2024-11-07T01:37:14.979Z"
   },
   {
    "duration": 29462,
    "start_time": "2024-11-07T01:40:53.207Z"
   },
   {
    "duration": 973,
    "start_time": "2024-11-07T01:41:35.605Z"
   },
   {
    "duration": 495,
    "start_time": "2024-11-07T01:41:36.580Z"
   },
   {
    "duration": 50,
    "start_time": "2024-11-07T01:41:37.077Z"
   },
   {
    "duration": 156,
    "start_time": "2024-11-07T01:41:37.129Z"
   },
   {
    "duration": 92,
    "start_time": "2024-11-07T01:41:37.287Z"
   },
   {
    "duration": 177,
    "start_time": "2024-11-07T01:41:37.380Z"
   },
   {
    "duration": 7,
    "start_time": "2024-11-07T01:41:37.560Z"
   },
   {
    "duration": 7,
    "start_time": "2024-11-07T01:41:37.569Z"
   },
   {
    "duration": 9,
    "start_time": "2024-11-07T01:41:37.577Z"
   },
   {
    "duration": 7,
    "start_time": "2024-11-07T01:41:37.589Z"
   },
   {
    "duration": 34,
    "start_time": "2024-11-07T01:41:37.597Z"
   },
   {
    "duration": 5,
    "start_time": "2024-11-07T01:41:37.633Z"
   },
   {
    "duration": 8,
    "start_time": "2024-11-07T01:41:37.640Z"
   },
   {
    "duration": 7,
    "start_time": "2024-11-07T01:41:37.650Z"
   },
   {
    "duration": 6,
    "start_time": "2024-11-07T01:41:37.659Z"
   },
   {
    "duration": 7,
    "start_time": "2024-11-07T01:41:37.667Z"
   },
   {
    "duration": 6,
    "start_time": "2024-11-07T01:41:37.677Z"
   },
   {
    "duration": 41,
    "start_time": "2024-11-07T01:41:37.685Z"
   },
   {
    "duration": 7,
    "start_time": "2024-11-07T01:41:37.728Z"
   },
   {
    "duration": 838,
    "start_time": "2024-11-07T01:41:37.737Z"
   },
   {
    "duration": 1168,
    "start_time": "2024-11-07T01:41:38.577Z"
   },
   {
    "duration": 817,
    "start_time": "2024-11-07T01:41:39.747Z"
   },
   {
    "duration": 504,
    "start_time": "2024-11-07T01:41:40.566Z"
   },
   {
    "duration": 7,
    "start_time": "2024-11-07T01:41:41.072Z"
   },
   {
    "duration": 6,
    "start_time": "2024-11-07T01:41:41.082Z"
   },
   {
    "duration": 6,
    "start_time": "2024-11-07T01:41:41.090Z"
   },
   {
    "duration": 27,
    "start_time": "2024-11-07T01:41:41.098Z"
   },
   {
    "duration": 27,
    "start_time": "2024-11-07T01:41:41.129Z"
   },
   {
    "duration": 218080,
    "start_time": "2024-11-07T01:41:41.158Z"
   },
   {
    "duration": 29571,
    "start_time": "2024-11-07T01:45:19.239Z"
   },
   {
    "duration": 2295,
    "start_time": "2024-11-07T01:45:48.813Z"
   },
   {
    "duration": 3,
    "start_time": "2024-11-07T01:45:51.111Z"
   },
   {
    "duration": 3,
    "start_time": "2024-11-07T01:45:51.124Z"
   },
   {
    "duration": 324,
    "start_time": "2024-11-07T01:45:51.129Z"
   },
   {
    "duration": 3,
    "start_time": "2024-11-07T02:05:38.933Z"
   },
   {
    "duration": 22,
    "start_time": "2024-11-07T02:05:40.962Z"
   },
   {
    "duration": 3,
    "start_time": "2024-11-07T02:08:09.614Z"
   },
   {
    "duration": 15,
    "start_time": "2024-11-07T02:21:40.946Z"
   },
   {
    "duration": 3,
    "start_time": "2024-11-07T02:21:51.258Z"
   },
   {
    "duration": 20,
    "start_time": "2024-11-07T02:22:59.662Z"
   },
   {
    "duration": 22,
    "start_time": "2024-11-07T02:25:45.056Z"
   },
   {
    "duration": 12,
    "start_time": "2024-11-07T02:26:04.841Z"
   },
   {
    "duration": 1041,
    "start_time": "2024-11-07T02:26:14.651Z"
   },
   {
    "duration": 498,
    "start_time": "2024-11-07T02:26:15.694Z"
   },
   {
    "duration": 49,
    "start_time": "2024-11-07T02:26:16.194Z"
   },
   {
    "duration": 159,
    "start_time": "2024-11-07T02:26:16.245Z"
   },
   {
    "duration": 97,
    "start_time": "2024-11-07T02:26:16.407Z"
   },
   {
    "duration": 170,
    "start_time": "2024-11-07T02:26:16.506Z"
   },
   {
    "duration": 7,
    "start_time": "2024-11-07T02:26:16.678Z"
   },
   {
    "duration": 7,
    "start_time": "2024-11-07T02:26:16.687Z"
   },
   {
    "duration": 9,
    "start_time": "2024-11-07T02:26:16.696Z"
   },
   {
    "duration": 7,
    "start_time": "2024-11-07T02:26:16.726Z"
   },
   {
    "duration": 6,
    "start_time": "2024-11-07T02:26:16.734Z"
   },
   {
    "duration": 3,
    "start_time": "2024-11-07T02:26:16.742Z"
   },
   {
    "duration": 6,
    "start_time": "2024-11-07T02:26:16.746Z"
   },
   {
    "duration": 8,
    "start_time": "2024-11-07T02:26:16.754Z"
   },
   {
    "duration": 5,
    "start_time": "2024-11-07T02:26:16.764Z"
   },
   {
    "duration": 7,
    "start_time": "2024-11-07T02:26:16.771Z"
   },
   {
    "duration": 44,
    "start_time": "2024-11-07T02:26:16.780Z"
   },
   {
    "duration": 4,
    "start_time": "2024-11-07T02:26:16.826Z"
   },
   {
    "duration": 6,
    "start_time": "2024-11-07T02:26:16.832Z"
   },
   {
    "duration": 832,
    "start_time": "2024-11-07T02:26:16.839Z"
   },
   {
    "duration": 1198,
    "start_time": "2024-11-07T02:26:17.673Z"
   },
   {
    "duration": 775,
    "start_time": "2024-11-07T02:26:18.873Z"
   },
   {
    "duration": 481,
    "start_time": "2024-11-07T02:26:19.649Z"
   },
   {
    "duration": 9,
    "start_time": "2024-11-07T02:26:20.131Z"
   },
   {
    "duration": 6,
    "start_time": "2024-11-07T02:26:20.141Z"
   },
   {
    "duration": 9,
    "start_time": "2024-11-07T02:26:20.149Z"
   },
   {
    "duration": 3,
    "start_time": "2024-11-07T02:26:20.160Z"
   },
   {
    "duration": 59,
    "start_time": "2024-11-07T02:26:20.168Z"
   },
   {
    "duration": 2781,
    "start_time": "2024-11-07T03:40:31.315Z"
   },
   {
    "duration": 644,
    "start_time": "2024-11-07T03:40:34.099Z"
   },
   {
    "duration": 42,
    "start_time": "2024-11-07T03:40:34.744Z"
   },
   {
    "duration": 168,
    "start_time": "2024-11-07T03:40:34.789Z"
   },
   {
    "duration": 93,
    "start_time": "2024-11-07T03:40:34.959Z"
   },
   {
    "duration": 171,
    "start_time": "2024-11-07T03:40:35.054Z"
   },
   {
    "duration": 9,
    "start_time": "2024-11-07T03:40:35.226Z"
   },
   {
    "duration": 7,
    "start_time": "2024-11-07T03:40:35.236Z"
   },
   {
    "duration": 9,
    "start_time": "2024-11-07T03:40:35.244Z"
   },
   {
    "duration": 6,
    "start_time": "2024-11-07T03:40:35.256Z"
   },
   {
    "duration": 3,
    "start_time": "2024-11-07T03:40:35.264Z"
   },
   {
    "duration": 8,
    "start_time": "2024-11-07T03:40:35.269Z"
   },
   {
    "duration": 45,
    "start_time": "2024-11-07T03:40:35.279Z"
   },
   {
    "duration": 5,
    "start_time": "2024-11-07T03:40:35.326Z"
   },
   {
    "duration": 5,
    "start_time": "2024-11-07T03:40:35.332Z"
   },
   {
    "duration": 7,
    "start_time": "2024-11-07T03:40:35.340Z"
   },
   {
    "duration": 874,
    "start_time": "2024-11-07T03:40:35.349Z"
   },
   {
    "duration": 1194,
    "start_time": "2024-11-07T03:40:36.225Z"
   },
   {
    "duration": 766,
    "start_time": "2024-11-07T03:40:37.423Z"
   },
   {
    "duration": 425,
    "start_time": "2024-11-07T03:40:38.191Z"
   },
   {
    "duration": 15,
    "start_time": "2024-11-07T03:40:38.617Z"
   },
   {
    "duration": 8,
    "start_time": "2024-11-07T03:40:38.633Z"
   },
   {
    "duration": 11,
    "start_time": "2024-11-07T03:40:38.642Z"
   },
   {
    "duration": 3,
    "start_time": "2024-11-07T03:40:38.655Z"
   },
   {
    "duration": 154,
    "start_time": "2024-11-07T03:40:38.660Z"
   },
   {
    "duration": 217712,
    "start_time": "2024-11-07T03:40:38.816Z"
   },
   {
    "duration": 29583,
    "start_time": "2024-11-07T03:44:16.530Z"
   },
   {
    "duration": 2270,
    "start_time": "2024-11-07T03:44:46.117Z"
   },
   {
    "duration": 4,
    "start_time": "2024-11-07T03:44:48.389Z"
   },
   {
    "duration": 3,
    "start_time": "2024-11-07T03:44:48.395Z"
   },
   {
    "duration": 25,
    "start_time": "2024-11-07T03:44:48.400Z"
   },
   {
    "duration": 4,
    "start_time": "2024-11-07T03:44:48.426Z"
   },
   {
    "duration": 3,
    "start_time": "2024-11-07T03:44:48.431Z"
   },
   {
    "duration": 316,
    "start_time": "2024-11-07T03:44:48.435Z"
   },
   {
    "duration": 2273,
    "start_time": "2024-11-07T03:49:44.964Z"
   },
   {
    "duration": 1010,
    "start_time": "2024-11-07T03:50:34.096Z"
   },
   {
    "duration": 536,
    "start_time": "2024-11-07T03:50:35.109Z"
   },
   {
    "duration": 43,
    "start_time": "2024-11-07T03:50:35.647Z"
   },
   {
    "duration": 174,
    "start_time": "2024-11-07T03:50:35.692Z"
   },
   {
    "duration": 83,
    "start_time": "2024-11-07T03:50:35.869Z"
   },
   {
    "duration": 173,
    "start_time": "2024-11-07T03:50:35.954Z"
   },
   {
    "duration": 9,
    "start_time": "2024-11-07T03:50:36.128Z"
   },
   {
    "duration": 7,
    "start_time": "2024-11-07T03:50:36.138Z"
   },
   {
    "duration": 10,
    "start_time": "2024-11-07T03:50:36.147Z"
   },
   {
    "duration": 6,
    "start_time": "2024-11-07T03:50:36.158Z"
   },
   {
    "duration": 3,
    "start_time": "2024-11-07T03:50:36.166Z"
   },
   {
    "duration": 8,
    "start_time": "2024-11-07T03:50:36.171Z"
   },
   {
    "duration": 47,
    "start_time": "2024-11-07T03:50:36.180Z"
   },
   {
    "duration": 5,
    "start_time": "2024-11-07T03:50:36.231Z"
   },
   {
    "duration": 6,
    "start_time": "2024-11-07T03:50:36.237Z"
   },
   {
    "duration": 10,
    "start_time": "2024-11-07T03:50:36.245Z"
   },
   {
    "duration": 834,
    "start_time": "2024-11-07T03:50:36.258Z"
   },
   {
    "duration": 1271,
    "start_time": "2024-11-07T03:50:37.094Z"
   },
   {
    "duration": 772,
    "start_time": "2024-11-07T03:50:38.367Z"
   },
   {
    "duration": 490,
    "start_time": "2024-11-07T03:50:39.142Z"
   },
   {
    "duration": 8,
    "start_time": "2024-11-07T03:50:39.634Z"
   },
   {
    "duration": 6,
    "start_time": "2024-11-07T03:50:39.644Z"
   },
   {
    "duration": 7,
    "start_time": "2024-11-07T03:50:39.652Z"
   },
   {
    "duration": 3,
    "start_time": "2024-11-07T03:50:39.660Z"
   },
   {
    "duration": 27,
    "start_time": "2024-11-07T03:50:39.664Z"
   },
   {
    "duration": 217022,
    "start_time": "2024-11-07T03:50:39.693Z"
   },
   {
    "duration": 29546,
    "start_time": "2024-11-07T03:54:16.717Z"
   },
   {
    "duration": 2266,
    "start_time": "2024-11-07T03:54:46.265Z"
   },
   {
    "duration": 3,
    "start_time": "2024-11-07T03:54:48.533Z"
   },
   {
    "duration": 3,
    "start_time": "2024-11-07T03:54:48.538Z"
   },
   {
    "duration": 5,
    "start_time": "2024-11-07T03:54:48.542Z"
   },
   {
    "duration": 2329,
    "start_time": "2024-11-07T03:57:52.452Z"
   },
   {
    "duration": 5,
    "start_time": "2024-11-07T03:58:32.060Z"
   },
   {
    "duration": 8,
    "start_time": "2024-11-07T11:56:33.271Z"
   },
   {
    "duration": 162,
    "start_time": "2024-11-07T15:17:41.265Z"
   },
   {
    "duration": 698,
    "start_time": "2024-11-07T15:19:09.300Z"
   },
   {
    "duration": 2685,
    "start_time": "2024-11-07T15:19:26.365Z"
   },
   {
    "duration": 603,
    "start_time": "2024-11-07T15:19:29.052Z"
   },
   {
    "duration": 49,
    "start_time": "2024-11-07T15:19:29.658Z"
   },
   {
    "duration": 165,
    "start_time": "2024-11-07T15:19:29.709Z"
   },
   {
    "duration": 91,
    "start_time": "2024-11-07T15:19:29.875Z"
   },
   {
    "duration": 239,
    "start_time": "2024-11-07T15:19:29.968Z"
   },
   {
    "duration": 9,
    "start_time": "2024-11-07T15:19:30.208Z"
   },
   {
    "duration": 7,
    "start_time": "2024-11-07T15:19:30.219Z"
   },
   {
    "duration": 10,
    "start_time": "2024-11-07T15:19:30.228Z"
   },
   {
    "duration": 6,
    "start_time": "2024-11-07T15:19:30.241Z"
   },
   {
    "duration": 4,
    "start_time": "2024-11-07T15:19:30.248Z"
   },
   {
    "duration": 8,
    "start_time": "2024-11-07T15:19:30.287Z"
   },
   {
    "duration": 6,
    "start_time": "2024-11-07T15:19:30.296Z"
   },
   {
    "duration": 5,
    "start_time": "2024-11-07T15:19:30.304Z"
   },
   {
    "duration": 5,
    "start_time": "2024-11-07T15:19:30.311Z"
   },
   {
    "duration": 6,
    "start_time": "2024-11-07T15:19:30.318Z"
   },
   {
    "duration": 889,
    "start_time": "2024-11-07T15:19:30.326Z"
   },
   {
    "duration": 1231,
    "start_time": "2024-11-07T15:19:31.217Z"
   },
   {
    "duration": 833,
    "start_time": "2024-11-07T15:19:32.451Z"
   },
   {
    "duration": 506,
    "start_time": "2024-11-07T15:19:33.287Z"
   },
   {
    "duration": 7,
    "start_time": "2024-11-07T15:19:33.795Z"
   },
   {
    "duration": 6,
    "start_time": "2024-11-07T15:19:33.804Z"
   },
   {
    "duration": 6,
    "start_time": "2024-11-07T15:19:33.812Z"
   },
   {
    "duration": 3,
    "start_time": "2024-11-07T15:19:33.820Z"
   },
   {
    "duration": 27,
    "start_time": "2024-11-07T15:19:33.825Z"
   },
   {
    "duration": 215578,
    "start_time": "2024-11-07T15:19:33.854Z"
   },
   {
    "duration": 29275,
    "start_time": "2024-11-07T15:23:09.435Z"
   },
   {
    "duration": 2328,
    "start_time": "2024-11-07T15:23:38.714Z"
   },
   {
    "duration": 3,
    "start_time": "2024-11-07T15:23:41.043Z"
   },
   {
    "duration": 3,
    "start_time": "2024-11-07T15:23:41.048Z"
   },
   {
    "duration": 5,
    "start_time": "2024-11-07T15:23:41.052Z"
   },
   {
    "duration": 274,
    "start_time": "2024-11-07T15:23:41.058Z"
   },
   {
    "duration": 18,
    "start_time": "2024-11-07T15:25:34.554Z"
   },
   {
    "duration": 20,
    "start_time": "2024-11-07T15:26:14.851Z"
   },
   {
    "duration": 18,
    "start_time": "2024-11-07T15:26:30.026Z"
   },
   {
    "duration": 2291,
    "start_time": "2024-11-07T15:28:16.705Z"
   },
   {
    "duration": 3,
    "start_time": "2024-11-07T15:28:33.943Z"
   },
   {
    "duration": 3,
    "start_time": "2024-11-07T15:28:34.708Z"
   },
   {
    "duration": 6,
    "start_time": "2024-11-07T15:28:35.861Z"
   },
   {
    "duration": 18,
    "start_time": "2024-11-07T15:29:17.254Z"
   }
  ],
  "kernelspec": {
   "display_name": "Python 3 (ipykernel)",
   "language": "python",
   "name": "python3"
  },
  "language_info": {
   "codemirror_mode": {
    "name": "ipython",
    "version": 3
   },
   "file_extension": ".py",
   "mimetype": "text/x-python",
   "name": "python",
   "nbconvert_exporter": "python",
   "pygments_lexer": "ipython3",
   "version": "3.9.19"
  },
  "toc": {
   "base_numbering": 1,
   "nav_menu": {},
   "number_sections": true,
   "sideBar": true,
   "skip_h1_title": true,
   "title_cell": "Table of Contents",
   "title_sidebar": "Contents",
   "toc_cell": false,
   "toc_position": {
    "height": "calc(100% - 180px)",
    "left": "10px",
    "top": "150px",
    "width": "210.516px"
   },
   "toc_section_display": true,
   "toc_window_display": false
  }
 },
 "nbformat": 4,
 "nbformat_minor": 2
}
